{
 "cells": [
  {
   "cell_type": "code",
   "execution_count": 1,
   "id": "c373acd3",
   "metadata": {
    "_cell_guid": "b1076dfc-b9ad-4769-8c92-a6c4dae69d19",
    "_uuid": "8f2839f25d086af736a60e9eeb907d3b93b6e0e5",
    "execution": {
     "iopub.execute_input": "2024-05-19T13:01:17.484453Z",
     "iopub.status.busy": "2024-05-19T13:01:17.483931Z",
     "iopub.status.idle": "2024-05-19T13:01:18.438378Z",
     "shell.execute_reply": "2024-05-19T13:01:18.436891Z"
    },
    "papermill": {
     "duration": 0.967642,
     "end_time": "2024-05-19T13:01:18.441612",
     "exception": false,
     "start_time": "2024-05-19T13:01:17.473970",
     "status": "completed"
    },
    "tags": []
   },
   "outputs": [
    {
     "name": "stdout",
     "output_type": "stream",
     "text": [
      "/kaggle/input/adhd-classification-data/ADHD_fif-20240509T211140Z-001/ADHD_fif/v196.fif\n",
      "/kaggle/input/adhd-classification-data/ADHD_fif-20240509T211140Z-001/ADHD_fif/v32p.fif\n",
      "/kaggle/input/adhd-classification-data/ADHD_fif-20240509T211140Z-001/ADHD_fif/v36p.fif\n",
      "/kaggle/input/adhd-classification-data/ADHD_fif-20240509T211140Z-001/ADHD_fif/v227.fif\n",
      "/kaggle/input/adhd-classification-data/ADHD_fif-20240509T211140Z-001/ADHD_fif/v20p.fif\n",
      "/kaggle/input/adhd-classification-data/ADHD_fif-20240509T211140Z-001/ADHD_fif/v31p.fif\n",
      "/kaggle/input/adhd-classification-data/ADHD_fif-20240509T211140Z-001/ADHD_fif/v181.fif\n",
      "/kaggle/input/adhd-classification-data/ADHD_fif-20240509T211140Z-001/ADHD_fif/v209.fif\n",
      "/kaggle/input/adhd-classification-data/ADHD_fif-20240509T211140Z-001/ADHD_fif/v254.fif\n",
      "/kaggle/input/adhd-classification-data/ADHD_fif-20240509T211140Z-001/ADHD_fif/v8p.fif\n",
      "/kaggle/input/adhd-classification-data/ADHD_fif-20240509T211140Z-001/ADHD_fif/v173.fif\n",
      "/kaggle/input/adhd-classification-data/ADHD_fif-20240509T211140Z-001/ADHD_fif/v18p.fif\n",
      "/kaggle/input/adhd-classification-data/ADHD_fif-20240509T211140Z-001/ADHD_fif/v206.fif\n",
      "/kaggle/input/adhd-classification-data/ADHD_fif-20240509T211140Z-001/ADHD_fif/v244.fif\n",
      "/kaggle/input/adhd-classification-data/ADHD_fif-20240509T211140Z-001/ADHD_fif/v27p.fif\n",
      "/kaggle/input/adhd-classification-data/ADHD_fif-20240509T211140Z-001/ADHD_fif/v38p.fif\n",
      "/kaggle/input/adhd-classification-data/ADHD_fif-20240509T211140Z-001/ADHD_fif/v14p.fif\n",
      "/kaggle/input/adhd-classification-data/ADHD_fif-20240509T211140Z-001/ADHD_fif/v29p.fif\n",
      "/kaggle/input/adhd-classification-data/ADHD_fif-20240509T211140Z-001/ADHD_fif/v15p.fif\n",
      "/kaggle/input/adhd-classification-data/ADHD_fif-20240509T211140Z-001/ADHD_fif/v37p.fif\n",
      "/kaggle/input/adhd-classification-data/ADHD_fif-20240509T211140Z-001/ADHD_fif/v200.fif\n",
      "/kaggle/input/adhd-classification-data/ADHD_fif-20240509T211140Z-001/ADHD_fif/v190.fif\n",
      "/kaggle/input/adhd-classification-data/ADHD_fif-20240509T211140Z-001/ADHD_fif/v30p.fif\n",
      "/kaggle/input/adhd-classification-data/ADHD_fif-20240509T211140Z-001/ADHD_fif/v234.fif\n",
      "/kaggle/input/adhd-classification-data/ADHD_fif-20240509T211140Z-001/ADHD_fif/v198.fif\n",
      "/kaggle/input/adhd-classification-data/ADHD_fif-20240509T211140Z-001/ADHD_fif/v263.fif\n",
      "/kaggle/input/adhd-classification-data/ADHD_fif-20240509T211140Z-001/ADHD_fif/v288.fif\n",
      "/kaggle/input/adhd-classification-data/ADHD_fif-20240509T211140Z-001/ADHD_fif/v1p.fif\n",
      "/kaggle/input/adhd-classification-data/ADHD_fif-20240509T211140Z-001/ADHD_fif/v284.fif\n",
      "/kaggle/input/adhd-classification-data/ADHD_fif-20240509T211140Z-001/ADHD_fif/v21p.fif\n",
      "/kaggle/input/adhd-classification-data/ADHD_fif-20240509T211140Z-001/ADHD_fif/v34p.fif\n",
      "/kaggle/input/adhd-classification-data/ADHD_fif-20240509T211140Z-001/ADHD_fif/v33p.fif\n",
      "/kaggle/input/adhd-classification-data/ADHD_fif-20240509T211140Z-001/ADHD_fif/v270.fif\n",
      "/kaggle/input/adhd-classification-data/ADHD_fif-20240509T211140Z-001/ADHD_fif/v24p.fif\n",
      "/kaggle/input/adhd-classification-data/ADHD_fif-20240509T211140Z-001/ADHD_fif/v231.fif\n",
      "/kaggle/input/adhd-classification-data/ADHD_fif-20240509T211140Z-001/ADHD_fif/v274.fif\n",
      "/kaggle/input/adhd-classification-data/ADHD_fif-20240509T211140Z-001/ADHD_fif/v213.fif\n",
      "/kaggle/input/adhd-classification-data/ADHD_fif-20240509T211140Z-001/ADHD_fif/v204.fif\n",
      "/kaggle/input/adhd-classification-data/ADHD_fif-20240509T211140Z-001/ADHD_fif/v279.fif\n",
      "/kaggle/input/adhd-classification-data/ADHD_fif-20240509T211140Z-001/ADHD_fif/v219.fif\n",
      "/kaggle/input/adhd-classification-data/ADHD_fif-20240509T211140Z-001/ADHD_fif/v28p.fif\n",
      "/kaggle/input/adhd-classification-data/ADHD_fif-20240509T211140Z-001/ADHD_fif/v250.fif\n",
      "/kaggle/input/adhd-classification-data/ADHD_fif-20240509T211140Z-001/ADHD_fif/v25p.fif\n",
      "/kaggle/input/adhd-classification-data/ADHD_fif-20240509T211140Z-001/ADHD_fif/v265.fif\n",
      "/kaggle/input/adhd-classification-data/ADHD_fif-20240509T211140Z-001/ADHD_fif/v19p.fif\n",
      "/kaggle/input/adhd-classification-data/ADHD_fif-20240509T211140Z-001/ADHD_fif/v35p.fif\n",
      "/kaggle/input/adhd-classification-data/ADHD_fif-20240509T211140Z-001/ADHD_fif/v215.fif\n",
      "/kaggle/input/adhd-classification-data/ADHD_fif-20240509T211140Z-001/ADHD_fif/v183.fif\n",
      "/kaggle/input/adhd-classification-data/ADHD_fif-20240509T211140Z-001/ADHD_fif/v40p.fif\n",
      "/kaggle/input/adhd-classification-data/ADHD_fif-20240509T211140Z-001/ADHD_fif/v12p.fif\n",
      "/kaggle/input/adhd-classification-data/ADHD_fif-20240509T211140Z-001/ADHD_fif/v246.fif\n",
      "/kaggle/input/adhd-classification-data/ADHD_fif-20240509T211140Z-001/ADHD_fif/v10p.fif\n",
      "/kaggle/input/adhd-classification-data/ADHD_fif-20240509T211140Z-001/ADHD_fif/v177.fif\n",
      "/kaggle/input/adhd-classification-data/ADHD_fif-20240509T211140Z-001/ADHD_fif/v3p.fif\n",
      "/kaggle/input/adhd-classification-data/ADHD_fif-20240509T211140Z-001/ADHD_fif/v6p.fif\n",
      "/kaggle/input/adhd-classification-data/ADHD_fif-20240509T211140Z-001/ADHD_fif/v39p.fif\n",
      "/kaggle/input/adhd-classification-data/ADHD_fif-20240509T211140Z-001/ADHD_fif/v179.fif\n",
      "/kaggle/input/adhd-classification-data/ADHD_fif-20240509T211140Z-001/ADHD_fif/v22p.fif\n",
      "/kaggle/input/adhd-classification-data/ADHD_fif-20240509T211140Z-001/ADHD_fif/v238.fif\n",
      "/kaggle/input/adhd-classification-data/ADHD_fif-20240509T211140Z-001/ADHD_fif/v286.fif\n",
      "/kaggle/input/adhd-classification-data/ADHD_fif-20240509T211140Z-001/ADHD_fif/v236.fif\n",
      "/kaggle/input/adhd-classification-data/Control_fif-20240509T211233Z-001/Control_fif/v50p.fif\n",
      "/kaggle/input/adhd-classification-data/Control_fif-20240509T211233Z-001/Control_fif/v110.fif\n",
      "/kaggle/input/adhd-classification-data/Control_fif-20240509T211233Z-001/Control_fif/v48p.fif\n",
      "/kaggle/input/adhd-classification-data/Control_fif-20240509T211233Z-001/Control_fif/v304.fif\n",
      "/kaggle/input/adhd-classification-data/Control_fif-20240509T211233Z-001/Control_fif/v151.fif\n",
      "/kaggle/input/adhd-classification-data/Control_fif-20240509T211233Z-001/Control_fif/v44p.fif\n",
      "/kaggle/input/adhd-classification-data/Control_fif-20240509T211233Z-001/Control_fif/v121.fif\n",
      "/kaggle/input/adhd-classification-data/Control_fif-20240509T211233Z-001/Control_fif/v111.fif\n",
      "/kaggle/input/adhd-classification-data/Control_fif-20240509T211233Z-001/Control_fif/v117.fif\n",
      "/kaggle/input/adhd-classification-data/Control_fif-20240509T211233Z-001/Control_fif/v129.fif\n",
      "/kaggle/input/adhd-classification-data/Control_fif-20240509T211233Z-001/Control_fif/v302.fif\n",
      "/kaggle/input/adhd-classification-data/Control_fif-20240509T211233Z-001/Control_fif/v131.fif\n",
      "/kaggle/input/adhd-classification-data/Control_fif-20240509T211233Z-001/Control_fif/v307.fif\n",
      "/kaggle/input/adhd-classification-data/Control_fif-20240509T211233Z-001/Control_fif/v115.fif\n",
      "/kaggle/input/adhd-classification-data/Control_fif-20240509T211233Z-001/Control_fif/v60p.fif\n",
      "/kaggle/input/adhd-classification-data/Control_fif-20240509T211233Z-001/Control_fif/v133.fif\n",
      "/kaggle/input/adhd-classification-data/Control_fif-20240509T211233Z-001/Control_fif/v116.fif\n",
      "/kaggle/input/adhd-classification-data/Control_fif-20240509T211233Z-001/Control_fif/v107.fif\n",
      "/kaggle/input/adhd-classification-data/Control_fif-20240509T211233Z-001/Control_fif/v123.fif\n",
      "/kaggle/input/adhd-classification-data/Control_fif-20240509T211233Z-001/Control_fif/v118.fif\n",
      "/kaggle/input/adhd-classification-data/Control_fif-20240509T211233Z-001/Control_fif/v49p.fif\n",
      "/kaggle/input/adhd-classification-data/Control_fif-20240509T211233Z-001/Control_fif/v112.fif\n",
      "/kaggle/input/adhd-classification-data/Control_fif-20240509T211233Z-001/Control_fif/v43p.fif\n",
      "/kaggle/input/adhd-classification-data/Control_fif-20240509T211233Z-001/Control_fif/v309.fif\n",
      "/kaggle/input/adhd-classification-data/Control_fif-20240509T211233Z-001/Control_fif/v58p.fif\n",
      "/kaggle/input/adhd-classification-data/Control_fif-20240509T211233Z-001/Control_fif/v310.fif\n",
      "/kaggle/input/adhd-classification-data/Control_fif-20240509T211233Z-001/Control_fif/v114.fif\n",
      "/kaggle/input/adhd-classification-data/Control_fif-20240509T211233Z-001/Control_fif/v113.fif\n",
      "/kaggle/input/adhd-classification-data/Control_fif-20240509T211233Z-001/Control_fif/v108.fif\n",
      "/kaggle/input/adhd-classification-data/Control_fif-20240509T211233Z-001/Control_fif/v54p.fif\n",
      "/kaggle/input/adhd-classification-data/Control_fif-20240509T211233Z-001/Control_fif/v149.fif\n",
      "/kaggle/input/adhd-classification-data/Control_fif-20240509T211233Z-001/Control_fif/v300.fif\n",
      "/kaggle/input/adhd-classification-data/Control_fif-20240509T211233Z-001/Control_fif/v41p.fif\n",
      "/kaggle/input/adhd-classification-data/Control_fif-20240509T211233Z-001/Control_fif/v303.fif\n",
      "/kaggle/input/adhd-classification-data/Control_fif-20240509T211233Z-001/Control_fif/v299.fif\n",
      "/kaggle/input/adhd-classification-data/Control_fif-20240509T211233Z-001/Control_fif/v56p.fif\n",
      "/kaggle/input/adhd-classification-data/Control_fif-20240509T211233Z-001/Control_fif/v46p.fif\n",
      "/kaggle/input/adhd-classification-data/Control_fif-20240509T211233Z-001/Control_fif/v45p.fif\n",
      "/kaggle/input/adhd-classification-data/Control_fif-20240509T211233Z-001/Control_fif/v297.fif\n",
      "/kaggle/input/adhd-classification-data/Control_fif-20240509T211233Z-001/Control_fif/v147.fif\n",
      "/kaggle/input/adhd-classification-data/Control_fif-20240509T211233Z-001/Control_fif/v52p.fif\n",
      "/kaggle/input/adhd-classification-data/Control_fif-20240509T211233Z-001/Control_fif/v42p.fif\n",
      "/kaggle/input/adhd-classification-data/Control_fif-20240509T211233Z-001/Control_fif/v143.fif\n",
      "/kaggle/input/adhd-classification-data/Control_fif-20240509T211233Z-001/Control_fif/v57p.fif\n",
      "/kaggle/input/adhd-classification-data/Control_fif-20240509T211233Z-001/Control_fif/v127.fif\n",
      "/kaggle/input/adhd-classification-data/Control_fif-20240509T211233Z-001/Control_fif/v47p.fif\n",
      "/kaggle/input/adhd-classification-data/Control_fif-20240509T211233Z-001/Control_fif/v120.fif\n",
      "/kaggle/input/adhd-classification-data/Control_fif-20240509T211233Z-001/Control_fif/v125.fif\n",
      "/kaggle/input/adhd-classification-data/Control_fif-20240509T211233Z-001/Control_fif/v51p.fif\n",
      "/kaggle/input/adhd-classification-data/Control_fif-20240509T211233Z-001/Control_fif/v53p.fif\n",
      "/kaggle/input/adhd-classification-data/Control_fif-20240509T211233Z-001/Control_fif/v134.fif\n",
      "/kaggle/input/adhd-classification-data/Control_fif-20240509T211233Z-001/Control_fif/v305.fif\n",
      "/kaggle/input/adhd-classification-data/Control_fif-20240509T211233Z-001/Control_fif/v308.fif\n",
      "/kaggle/input/adhd-classification-data/Control_fif-20240509T211233Z-001/Control_fif/v298.fif\n",
      "/kaggle/input/adhd-classification-data/Control_fif-20240509T211233Z-001/Control_fif/v140.fif\n",
      "/kaggle/input/adhd-classification-data/Control_fif-20240509T211233Z-001/Control_fif/v138.fif\n",
      "/kaggle/input/adhd-classification-data/Control_fif-20240509T211233Z-001/Control_fif/v306.fif\n",
      "/kaggle/input/adhd-classification-data/Control_fif-20240509T211233Z-001/Control_fif/v59p.fif\n",
      "/kaggle/input/adhd-classification-data/Control_fif-20240509T211233Z-001/Control_fif/v55p.fif\n",
      "/kaggle/input/adhd-classification-data/Control_fif-20240509T211233Z-001/Control_fif/v109.fif\n"
     ]
    }
   ],
   "source": [
    "# This Python 3 environment comes with many helpful analytics libraries installed\n",
    "# It is defined by the kaggle/python Docker image: https://github.com/kaggle/docker-python\n",
    "# For example, here's several helpful packages to load\n",
    "\n",
    "import numpy as np # linear algebra\n",
    "import pandas as pd # data processing, CSV file I/O (e.g. pd.read_csv)\n",
    "\n",
    "# Input data files are available in the read-only \"../input/\" directory\n",
    "# For example, running this (by clicking run or pressing Shift+Enter) will list all files under the input directory\n",
    "\n",
    "import os\n",
    "for dirname, _, filenames in os.walk('/kaggle/input'):\n",
    "    for filename in filenames:\n",
    "        print(os.path.join(dirname, filename))\n",
    "\n",
    "# You can write up to 20GB to the current directory (/kaggle/working/) that gets preserved as output when you create a version using \"Save & Run All\" \n",
    "# You can also write temporary files to /kaggle/temp/, but they won't be saved outside of the current session"
   ]
  },
  {
   "cell_type": "code",
   "execution_count": 2,
   "id": "41146b69",
   "metadata": {
    "execution": {
     "iopub.execute_input": "2024-05-19T13:01:18.458656Z",
     "iopub.status.busy": "2024-05-19T13:01:18.457761Z",
     "iopub.status.idle": "2024-05-19T13:01:19.982455Z",
     "shell.execute_reply": "2024-05-19T13:01:19.981498Z"
    },
    "papermill": {
     "duration": 1.536096,
     "end_time": "2024-05-19T13:01:19.985152",
     "exception": false,
     "start_time": "2024-05-19T13:01:18.449056",
     "status": "completed"
    },
    "tags": []
   },
   "outputs": [],
   "source": [
    "import mne\n",
    "from glob import glob\n",
    "import os\n",
    "import mne\n",
    "import numpy as np\n",
    "import matplotlib.pyplot as plt\n",
    "import pandas as pd\n"
   ]
  },
  {
   "cell_type": "markdown",
   "id": "a80fb386",
   "metadata": {
    "papermill": {
     "duration": 0.007056,
     "end_time": "2024-05-19T13:01:19.999759",
     "exception": false,
     "start_time": "2024-05-19T13:01:19.992703",
     "status": "completed"
    },
    "tags": []
   },
   "source": [
    "creating a list with the paths of the adhd files"
   ]
  },
  {
   "cell_type": "code",
   "execution_count": 3,
   "id": "ba10c0bd",
   "metadata": {
    "execution": {
     "iopub.execute_input": "2024-05-19T13:01:20.016260Z",
     "iopub.status.busy": "2024-05-19T13:01:20.015858Z",
     "iopub.status.idle": "2024-05-19T13:01:20.022984Z",
     "shell.execute_reply": "2024-05-19T13:01:20.021711Z"
    },
    "papermill": {
     "duration": 0.018331,
     "end_time": "2024-05-19T13:01:20.025349",
     "exception": false,
     "start_time": "2024-05-19T13:01:20.007018",
     "status": "completed"
    },
    "tags": []
   },
   "outputs": [
    {
     "name": "stdout",
     "output_type": "stream",
     "text": [
      "50\n"
     ]
    }
   ],
   "source": [
    "ADHD_files_path=glob('/kaggle/input/adhd-classification-data/ADHD_fif-20240509T211140Z-001/ADHD_fif/*.fif')\n",
    "ADHD_files_path_50 = ADHD_files_path[:50]\n",
    "print(len(ADHD_files_path_50))"
   ]
  },
  {
   "cell_type": "markdown",
   "id": "a1de68d6",
   "metadata": {
    "papermill": {
     "duration": 0.007581,
     "end_time": "2024-05-19T13:01:20.040489",
     "exception": false,
     "start_time": "2024-05-19T13:01:20.032908",
     "status": "completed"
    },
    "tags": []
   },
   "source": [
    "creating a list with the paths of the control files"
   ]
  },
  {
   "cell_type": "code",
   "execution_count": 4,
   "id": "9219173b",
   "metadata": {
    "execution": {
     "iopub.execute_input": "2024-05-19T13:01:20.056756Z",
     "iopub.status.busy": "2024-05-19T13:01:20.056386Z",
     "iopub.status.idle": "2024-05-19T13:01:20.062825Z",
     "shell.execute_reply": "2024-05-19T13:01:20.061408Z"
    },
    "papermill": {
     "duration": 0.017258,
     "end_time": "2024-05-19T13:01:20.065033",
     "exception": false,
     "start_time": "2024-05-19T13:01:20.047775",
     "status": "completed"
    },
    "tags": []
   },
   "outputs": [
    {
     "name": "stdout",
     "output_type": "stream",
     "text": [
      "60\n"
     ]
    }
   ],
   "source": [
    "control_files_path=glob('/kaggle/input/adhd-classification-data/Control_fif-20240509T211233Z-001/Control_fif/*.fif')\n",
    "print(len(control_files_path))"
   ]
  },
  {
   "cell_type": "markdown",
   "id": "027ab85e",
   "metadata": {
    "papermill": {
     "duration": 0.007082,
     "end_time": "2024-05-19T13:01:20.079657",
     "exception": false,
     "start_time": "2024-05-19T13:01:20.072575",
     "status": "completed"
    },
    "tags": []
   },
   "source": [
    "creating a function to read the data and create a fixed epochs of duration 10 sec and overlapping of 75%"
   ]
  },
  {
   "cell_type": "code",
   "execution_count": 5,
   "id": "2075aa38",
   "metadata": {
    "execution": {
     "iopub.execute_input": "2024-05-19T13:01:20.096035Z",
     "iopub.status.busy": "2024-05-19T13:01:20.095640Z",
     "iopub.status.idle": "2024-05-19T13:01:20.101680Z",
     "shell.execute_reply": "2024-05-19T13:01:20.100443Z"
    },
    "papermill": {
     "duration": 0.016933,
     "end_time": "2024-05-19T13:01:20.103904",
     "exception": false,
     "start_time": "2024-05-19T13:01:20.086971",
     "status": "completed"
    },
    "tags": []
   },
   "outputs": [],
   "source": [
    "def read_data(file_path):\n",
    "    datax=mne.io.read_raw_fif(file_path,preload=False)\n",
    "    epochs=mne.make_fixed_length_epochs(datax,duration=10,overlap=0.75)\n",
    "    epochs=epochs.get_data() #turning the epochs to arrays\n",
    "    return epochs"
   ]
  },
  {
   "cell_type": "code",
   "execution_count": 6,
   "id": "811638fa",
   "metadata": {
    "execution": {
     "iopub.execute_input": "2024-05-19T13:01:20.121769Z",
     "iopub.status.busy": "2024-05-19T13:01:20.121314Z",
     "iopub.status.idle": "2024-05-19T13:01:39.128472Z",
     "shell.execute_reply": "2024-05-19T13:01:39.126931Z"
    },
    "papermill": {
     "duration": 19.020996,
     "end_time": "2024-05-19T13:01:39.133130",
     "exception": false,
     "start_time": "2024-05-19T13:01:20.112134",
     "status": "completed"
    },
    "tags": []
   },
   "outputs": [
    {
     "name": "stdout",
     "output_type": "stream",
     "text": [
      "Opening raw data file /kaggle/input/adhd-classification-data/Control_fif-20240509T211233Z-001/Control_fif/v50p.fif...\n",
      "Isotrak not found\n",
      "    Read a total of 1 projection items:\n",
      "        Average EEG reference (1 x 19) active\n",
      "    Range : 0 ... 16242 =      0.000 ...   126.891 secs\n",
      "Ready.\n"
     ]
    },
    {
     "name": "stderr",
     "output_type": "stream",
     "text": [
      "/tmp/ipykernel_18/1879912887.py:2: RuntimeWarning: This filename (/kaggle/input/adhd-classification-data/Control_fif-20240509T211233Z-001/Control_fif/v50p.fif) does not conform to MNE naming conventions. All raw files should end with raw.fif, raw_sss.fif, raw_tsss.fif, _meg.fif, _eeg.fif, _ieeg.fif, raw.fif.gz, raw_sss.fif.gz, raw_tsss.fif.gz, _meg.fif.gz, _eeg.fif.gz or _ieeg.fif.gz\n",
      "  datax=mne.io.read_raw_fif(file_path,preload=False)\n"
     ]
    },
    {
     "name": "stdout",
     "output_type": "stream",
     "text": [
      "Not setting metadata\n",
      "13 matching events found\n",
      "No baseline correction applied\n",
      "Created an SSP operator (subspace dimension = 1)\n",
      "1 projection items activated\n",
      "Loading data for 13 events and 1280 original time points ...\n",
      "0 bad epochs dropped\n",
      "Opening raw data file /kaggle/input/adhd-classification-data/Control_fif-20240509T211233Z-001/Control_fif/v110.fif...\n",
      "Isotrak not found\n",
      "    Read a total of 1 projection items:\n",
      "        Average EEG reference (1 x 19) active\n",
      "    Range : 0 ... 16552 =      0.000 ...   129.312 secs\n",
      "Ready.\n",
      "Not setting metadata\n",
      "13 matching events found\n",
      "No baseline correction applied\n",
      "Created an SSP operator (subspace dimension = 1)\n",
      "1 projection items activated\n",
      "Loading data for 13 events and 1280 original time points ...\n",
      "0 bad epochs dropped\n",
      "Opening raw data file /kaggle/input/adhd-classification-data/Control_fif-20240509T211233Z-001/Control_fif/v48p.fif...\n",
      "Isotrak not found\n",
      "    Read a total of 1 projection items:\n",
      "        Average EEG reference (1 x 19) active\n",
      "    Range : 0 ... 10455 =      0.000 ...    81.680 secs\n",
      "Ready.\n",
      "Not setting metadata\n",
      "8 matching events found\n",
      "No baseline correction applied\n",
      "Created an SSP operator (subspace dimension = 1)\n",
      "1 projection items activated\n",
      "Loading data for 8 events and 1280 original time points ...\n",
      "0 bad epochs dropped\n",
      "Opening raw data file /kaggle/input/adhd-classification-data/Control_fif-20240509T211233Z-001/Control_fif/v304.fif...\n"
     ]
    },
    {
     "name": "stderr",
     "output_type": "stream",
     "text": [
      "/tmp/ipykernel_18/1879912887.py:2: RuntimeWarning: This filename (/kaggle/input/adhd-classification-data/Control_fif-20240509T211233Z-001/Control_fif/v110.fif) does not conform to MNE naming conventions. All raw files should end with raw.fif, raw_sss.fif, raw_tsss.fif, _meg.fif, _eeg.fif, _ieeg.fif, raw.fif.gz, raw_sss.fif.gz, raw_tsss.fif.gz, _meg.fif.gz, _eeg.fif.gz or _ieeg.fif.gz\n",
      "  datax=mne.io.read_raw_fif(file_path,preload=False)\n",
      "/tmp/ipykernel_18/1879912887.py:2: RuntimeWarning: This filename (/kaggle/input/adhd-classification-data/Control_fif-20240509T211233Z-001/Control_fif/v48p.fif) does not conform to MNE naming conventions. All raw files should end with raw.fif, raw_sss.fif, raw_tsss.fif, _meg.fif, _eeg.fif, _ieeg.fif, raw.fif.gz, raw_sss.fif.gz, raw_tsss.fif.gz, _meg.fif.gz, _eeg.fif.gz or _ieeg.fif.gz\n",
      "  datax=mne.io.read_raw_fif(file_path,preload=False)\n",
      "/tmp/ipykernel_18/1879912887.py:2: RuntimeWarning: This filename (/kaggle/input/adhd-classification-data/Control_fif-20240509T211233Z-001/Control_fif/v304.fif) does not conform to MNE naming conventions. All raw files should end with raw.fif, raw_sss.fif, raw_tsss.fif, _meg.fif, _eeg.fif, _ieeg.fif, raw.fif.gz, raw_sss.fif.gz, raw_tsss.fif.gz, _meg.fif.gz, _eeg.fif.gz or _ieeg.fif.gz\n",
      "  datax=mne.io.read_raw_fif(file_path,preload=False)\n"
     ]
    },
    {
     "name": "stdout",
     "output_type": "stream",
     "text": [
      "Isotrak not found\n",
      "    Read a total of 1 projection items:\n",
      "        Average EEG reference (1 x 19) active\n",
      "    Range : 0 ... 13403 =      0.000 ...   104.711 secs\n",
      "Ready.\n",
      "Not setting metadata\n",
      "11 matching events found\n",
      "No baseline correction applied\n",
      "Created an SSP operator (subspace dimension = 1)\n",
      "1 projection items activated\n",
      "Loading data for 11 events and 1280 original time points ...\n",
      "0 bad epochs dropped\n",
      "Opening raw data file /kaggle/input/adhd-classification-data/Control_fif-20240509T211233Z-001/Control_fif/v151.fif...\n",
      "Isotrak not found\n",
      "    Read a total of 1 projection items:\n",
      "        Average EEG reference (1 x 19) active\n",
      "    Range : 0 ... 20917 =      0.000 ...   163.414 secs\n",
      "Ready.\n",
      "Not setting metadata\n",
      "17 matching events found\n",
      "No baseline correction applied\n",
      "Created an SSP operator (subspace dimension = 1)\n",
      "1 projection items activated\n",
      "Loading data for 17 events and 1280 original time points ...\n",
      "0 bad epochs dropped\n",
      "Opening raw data file /kaggle/input/adhd-classification-data/Control_fif-20240509T211233Z-001/Control_fif/v44p.fif...\n",
      "Isotrak not found\n"
     ]
    },
    {
     "name": "stderr",
     "output_type": "stream",
     "text": [
      "/tmp/ipykernel_18/1879912887.py:2: RuntimeWarning: This filename (/kaggle/input/adhd-classification-data/Control_fif-20240509T211233Z-001/Control_fif/v151.fif) does not conform to MNE naming conventions. All raw files should end with raw.fif, raw_sss.fif, raw_tsss.fif, _meg.fif, _eeg.fif, _ieeg.fif, raw.fif.gz, raw_sss.fif.gz, raw_tsss.fif.gz, _meg.fif.gz, _eeg.fif.gz or _ieeg.fif.gz\n",
      "  datax=mne.io.read_raw_fif(file_path,preload=False)\n",
      "/tmp/ipykernel_18/1879912887.py:2: RuntimeWarning: This filename (/kaggle/input/adhd-classification-data/Control_fif-20240509T211233Z-001/Control_fif/v44p.fif) does not conform to MNE naming conventions. All raw files should end with raw.fif, raw_sss.fif, raw_tsss.fif, _meg.fif, _eeg.fif, _ieeg.fif, raw.fif.gz, raw_sss.fif.gz, raw_tsss.fif.gz, _meg.fif.gz, _eeg.fif.gz or _ieeg.fif.gz\n",
      "  datax=mne.io.read_raw_fif(file_path,preload=False)\n"
     ]
    },
    {
     "name": "stdout",
     "output_type": "stream",
     "text": [
      "    Read a total of 1 projection items:\n",
      "        Average EEG reference (1 x 19) active\n",
      "    Range : 0 ... 11396 =      0.000 ...    89.031 secs\n",
      "Ready.\n",
      "Not setting metadata\n",
      "9 matching events found\n",
      "No baseline correction applied\n",
      "Created an SSP operator (subspace dimension = 1)\n",
      "1 projection items activated\n",
      "Loading data for 9 events and 1280 original time points ...\n",
      "0 bad epochs dropped\n",
      "Opening raw data file /kaggle/input/adhd-classification-data/Control_fif-20240509T211233Z-001/Control_fif/v121.fif...\n",
      "Isotrak not found\n",
      "    Read a total of 1 projection items:\n",
      "        Average EEG reference (1 x 19) active\n",
      "    Range : 0 ... 16380 =      0.000 ...   127.969 secs\n",
      "Ready.\n",
      "Not setting metadata\n",
      "13 matching events found\n",
      "No baseline correction applied\n",
      "Created an SSP operator (subspace dimension = 1)\n",
      "1 projection items activated\n",
      "Loading data for 13 events and 1280 original time points ...\n",
      "0 bad epochs dropped\n",
      "Opening raw data file /kaggle/input/adhd-classification-data/Control_fif-20240509T211233Z-001/Control_fif/v111.fif...\n",
      "Isotrak not found\n",
      "    Read a total of 1 projection items:\n",
      "        Average EEG reference (1 x 19) active\n",
      "    Range : 0 ... 15313 =      0.000 ...   119.633 secs\n",
      "Ready.\n",
      "Not setting metadata\n",
      "12 matching events found\n",
      "No baseline correction applied\n",
      "Created an SSP operator (subspace dimension = 1)\n",
      "1 projection items activated\n",
      "Loading data for 12 events and 1280 original time points ...\n"
     ]
    },
    {
     "name": "stderr",
     "output_type": "stream",
     "text": [
      "/tmp/ipykernel_18/1879912887.py:2: RuntimeWarning: This filename (/kaggle/input/adhd-classification-data/Control_fif-20240509T211233Z-001/Control_fif/v121.fif) does not conform to MNE naming conventions. All raw files should end with raw.fif, raw_sss.fif, raw_tsss.fif, _meg.fif, _eeg.fif, _ieeg.fif, raw.fif.gz, raw_sss.fif.gz, raw_tsss.fif.gz, _meg.fif.gz, _eeg.fif.gz or _ieeg.fif.gz\n",
      "  datax=mne.io.read_raw_fif(file_path,preload=False)\n",
      "/tmp/ipykernel_18/1879912887.py:2: RuntimeWarning: This filename (/kaggle/input/adhd-classification-data/Control_fif-20240509T211233Z-001/Control_fif/v111.fif) does not conform to MNE naming conventions. All raw files should end with raw.fif, raw_sss.fif, raw_tsss.fif, _meg.fif, _eeg.fif, _ieeg.fif, raw.fif.gz, raw_sss.fif.gz, raw_tsss.fif.gz, _meg.fif.gz, _eeg.fif.gz or _ieeg.fif.gz\n",
      "  datax=mne.io.read_raw_fif(file_path,preload=False)\n"
     ]
    },
    {
     "name": "stdout",
     "output_type": "stream",
     "text": [
      "0 bad epochs dropped\n",
      "Opening raw data file /kaggle/input/adhd-classification-data/Control_fif-20240509T211233Z-001/Control_fif/v117.fif...\n",
      "Isotrak not found\n",
      "    Read a total of 1 projection items:\n",
      "        Average EEG reference (1 x 19) active\n",
      "    Range : 0 ... 25662 =      0.000 ...   200.484 secs\n",
      "Ready.\n",
      "Not setting metadata\n",
      "21 matching events found\n",
      "No baseline correction applied\n",
      "Created an SSP operator (subspace dimension = 1)\n",
      "1 projection items activated\n",
      "Loading data for 21 events and 1280 original time points ...\n",
      "0 bad epochs dropped\n",
      "Opening raw data file /kaggle/input/adhd-classification-data/Control_fif-20240509T211233Z-001/Control_fif/v129.fif...\n"
     ]
    },
    {
     "name": "stderr",
     "output_type": "stream",
     "text": [
      "/tmp/ipykernel_18/1879912887.py:2: RuntimeWarning: This filename (/kaggle/input/adhd-classification-data/Control_fif-20240509T211233Z-001/Control_fif/v117.fif) does not conform to MNE naming conventions. All raw files should end with raw.fif, raw_sss.fif, raw_tsss.fif, _meg.fif, _eeg.fif, _ieeg.fif, raw.fif.gz, raw_sss.fif.gz, raw_tsss.fif.gz, _meg.fif.gz, _eeg.fif.gz or _ieeg.fif.gz\n",
      "  datax=mne.io.read_raw_fif(file_path,preload=False)\n",
      "/tmp/ipykernel_18/1879912887.py:2: RuntimeWarning: This filename (/kaggle/input/adhd-classification-data/Control_fif-20240509T211233Z-001/Control_fif/v129.fif) does not conform to MNE naming conventions. All raw files should end with raw.fif, raw_sss.fif, raw_tsss.fif, _meg.fif, _eeg.fif, _ieeg.fif, raw.fif.gz, raw_sss.fif.gz, raw_tsss.fif.gz, _meg.fif.gz, _eeg.fif.gz or _ieeg.fif.gz\n",
      "  datax=mne.io.read_raw_fif(file_path,preload=False)\n"
     ]
    },
    {
     "name": "stdout",
     "output_type": "stream",
     "text": [
      "Isotrak not found\n",
      "    Read a total of 1 projection items:\n",
      "        Average EEG reference (1 x 19) active\n",
      "    Range : 0 ... 11211 =      0.000 ...    87.586 secs\n",
      "Ready.\n",
      "Not setting metadata\n",
      "9 matching events found\n",
      "No baseline correction applied\n",
      "Created an SSP operator (subspace dimension = 1)\n",
      "1 projection items activated\n",
      "Loading data for 9 events and 1280 original time points ...\n",
      "0 bad epochs dropped\n",
      "Opening raw data file /kaggle/input/adhd-classification-data/Control_fif-20240509T211233Z-001/Control_fif/v302.fif...\n",
      "Isotrak not found\n",
      "    Read a total of 1 projection items:\n",
      "        Average EEG reference (1 x 19) active\n",
      "    Range : 0 ... 17844 =      0.000 ...   139.406 secs\n",
      "Ready.\n",
      "Not setting metadata\n",
      "14 matching events found\n",
      "No baseline correction applied\n",
      "Created an SSP operator (subspace dimension = 1)\n",
      "1 projection items activated\n",
      "Loading data for 14 events and 1280 original time points ...\n",
      "0 bad epochs dropped\n",
      "Opening raw data file /kaggle/input/adhd-classification-data/Control_fif-20240509T211233Z-001/Control_fif/v131.fif...\n",
      "Isotrak not found\n",
      "    Read a total of 1 projection items:\n",
      "        Average EEG reference (1 x 19) active\n",
      "    Range : 0 ... 16689 =      0.000 ...   130.383 secs\n",
      "Ready.\n",
      "Not setting metadata\n",
      "14 matching events found\n",
      "No baseline correction applied\n",
      "Created an SSP operator (subspace dimension = 1)\n",
      "1 projection items activated\n",
      "Loading data for 14 events and 1280 original time points ...\n"
     ]
    },
    {
     "name": "stderr",
     "output_type": "stream",
     "text": [
      "/tmp/ipykernel_18/1879912887.py:2: RuntimeWarning: This filename (/kaggle/input/adhd-classification-data/Control_fif-20240509T211233Z-001/Control_fif/v302.fif) does not conform to MNE naming conventions. All raw files should end with raw.fif, raw_sss.fif, raw_tsss.fif, _meg.fif, _eeg.fif, _ieeg.fif, raw.fif.gz, raw_sss.fif.gz, raw_tsss.fif.gz, _meg.fif.gz, _eeg.fif.gz or _ieeg.fif.gz\n",
      "  datax=mne.io.read_raw_fif(file_path,preload=False)\n",
      "/tmp/ipykernel_18/1879912887.py:2: RuntimeWarning: This filename (/kaggle/input/adhd-classification-data/Control_fif-20240509T211233Z-001/Control_fif/v131.fif) does not conform to MNE naming conventions. All raw files should end with raw.fif, raw_sss.fif, raw_tsss.fif, _meg.fif, _eeg.fif, _ieeg.fif, raw.fif.gz, raw_sss.fif.gz, raw_tsss.fif.gz, _meg.fif.gz, _eeg.fif.gz or _ieeg.fif.gz\n",
      "  datax=mne.io.read_raw_fif(file_path,preload=False)\n"
     ]
    },
    {
     "name": "stdout",
     "output_type": "stream",
     "text": [
      "0 bad epochs dropped\n",
      "Opening raw data file /kaggle/input/adhd-classification-data/Control_fif-20240509T211233Z-001/Control_fif/v307.fif...\n",
      "Isotrak not found\n",
      "    Read a total of 1 projection items:\n",
      "        Average EEG reference (1 x 19) active\n",
      "    Range : 0 ... 22810 =      0.000 ...   178.203 secs\n",
      "Ready.\n",
      "Not setting metadata\n",
      "19 matching events found\n",
      "No baseline correction applied\n",
      "Created an SSP operator (subspace dimension = 1)\n",
      "1 projection items activated\n",
      "Loading data for 19 events and 1280 original time points ...\n",
      "0 bad epochs dropped\n",
      "Opening raw data file /kaggle/input/adhd-classification-data/Control_fif-20240509T211233Z-001/Control_fif/v115.fif...\n"
     ]
    },
    {
     "name": "stderr",
     "output_type": "stream",
     "text": [
      "/tmp/ipykernel_18/1879912887.py:2: RuntimeWarning: This filename (/kaggle/input/adhd-classification-data/Control_fif-20240509T211233Z-001/Control_fif/v307.fif) does not conform to MNE naming conventions. All raw files should end with raw.fif, raw_sss.fif, raw_tsss.fif, _meg.fif, _eeg.fif, _ieeg.fif, raw.fif.gz, raw_sss.fif.gz, raw_tsss.fif.gz, _meg.fif.gz, _eeg.fif.gz or _ieeg.fif.gz\n",
      "  datax=mne.io.read_raw_fif(file_path,preload=False)\n",
      "/tmp/ipykernel_18/1879912887.py:2: RuntimeWarning: This filename (/kaggle/input/adhd-classification-data/Control_fif-20240509T211233Z-001/Control_fif/v115.fif) does not conform to MNE naming conventions. All raw files should end with raw.fif, raw_sss.fif, raw_tsss.fif, _meg.fif, _eeg.fif, _ieeg.fif, raw.fif.gz, raw_sss.fif.gz, raw_tsss.fif.gz, _meg.fif.gz, _eeg.fif.gz or _ieeg.fif.gz\n",
      "  datax=mne.io.read_raw_fif(file_path,preload=False)\n"
     ]
    },
    {
     "name": "stdout",
     "output_type": "stream",
     "text": [
      "Isotrak not found\n",
      "    Read a total of 1 projection items:\n",
      "        Average EEG reference (1 x 19) active\n",
      "    Range : 0 ... 15654 =      0.000 ...   122.297 secs\n",
      "Ready.\n",
      "Not setting metadata\n",
      "13 matching events found\n",
      "No baseline correction applied\n",
      "Created an SSP operator (subspace dimension = 1)\n",
      "1 projection items activated\n",
      "Loading data for 13 events and 1280 original time points ...\n",
      "0 bad epochs dropped\n",
      "Opening raw data file /kaggle/input/adhd-classification-data/Control_fif-20240509T211233Z-001/Control_fif/v60p.fif...\n",
      "Isotrak not found\n",
      "    Read a total of 1 projection items:\n",
      "        Average EEG reference (1 x 19) active\n",
      "    Range : 0 ... 12932 =      0.000 ...   101.031 secs\n",
      "Ready.\n",
      "Not setting metadata\n",
      "10 matching events found\n",
      "No baseline correction applied\n",
      "Created an SSP operator (subspace dimension = 1)\n",
      "1 projection items activated\n",
      "Loading data for 10 events and 1280 original time points ...\n",
      "0 bad epochs dropped\n",
      "Opening raw data file /kaggle/input/adhd-classification-data/Control_fif-20240509T211233Z-001/Control_fif/v133.fif...\n",
      "Isotrak not found\n",
      "    Read a total of 1 projection items:\n",
      "        Average EEG reference (1 x 19) active\n",
      "    Range : 0 ... 15076 =      0.000 ...   117.781 secs\n",
      "Ready.\n",
      "Not setting metadata\n",
      "12 matching events found\n",
      "No baseline correction applied\n",
      "Created an SSP operator (subspace dimension = 1)\n",
      "1 projection items activated\n",
      "Loading data for 12 events and 1280 original time points ...\n",
      "0 bad epochs dropped\n",
      "Opening raw data file /kaggle/input/adhd-classification-data/Control_fif-20240509T211233Z-001/Control_fif/v116.fif...\n"
     ]
    },
    {
     "name": "stderr",
     "output_type": "stream",
     "text": [
      "/tmp/ipykernel_18/1879912887.py:2: RuntimeWarning: This filename (/kaggle/input/adhd-classification-data/Control_fif-20240509T211233Z-001/Control_fif/v60p.fif) does not conform to MNE naming conventions. All raw files should end with raw.fif, raw_sss.fif, raw_tsss.fif, _meg.fif, _eeg.fif, _ieeg.fif, raw.fif.gz, raw_sss.fif.gz, raw_tsss.fif.gz, _meg.fif.gz, _eeg.fif.gz or _ieeg.fif.gz\n",
      "  datax=mne.io.read_raw_fif(file_path,preload=False)\n",
      "/tmp/ipykernel_18/1879912887.py:2: RuntimeWarning: This filename (/kaggle/input/adhd-classification-data/Control_fif-20240509T211233Z-001/Control_fif/v133.fif) does not conform to MNE naming conventions. All raw files should end with raw.fif, raw_sss.fif, raw_tsss.fif, _meg.fif, _eeg.fif, _ieeg.fif, raw.fif.gz, raw_sss.fif.gz, raw_tsss.fif.gz, _meg.fif.gz, _eeg.fif.gz or _ieeg.fif.gz\n",
      "  datax=mne.io.read_raw_fif(file_path,preload=False)\n",
      "/tmp/ipykernel_18/1879912887.py:2: RuntimeWarning: This filename (/kaggle/input/adhd-classification-data/Control_fif-20240509T211233Z-001/Control_fif/v116.fif) does not conform to MNE naming conventions. All raw files should end with raw.fif, raw_sss.fif, raw_tsss.fif, _meg.fif, _eeg.fif, _ieeg.fif, raw.fif.gz, raw_sss.fif.gz, raw_tsss.fif.gz, _meg.fif.gz, _eeg.fif.gz or _ieeg.fif.gz\n",
      "  datax=mne.io.read_raw_fif(file_path,preload=False)\n"
     ]
    },
    {
     "name": "stdout",
     "output_type": "stream",
     "text": [
      "Isotrak not found\n",
      "    Read a total of 1 projection items:\n",
      "        Average EEG reference (1 x 19) active\n",
      "    Range : 0 ... 19304 =      0.000 ...   150.812 secs\n",
      "Ready.\n",
      "Not setting metadata\n",
      "16 matching events found\n",
      "No baseline correction applied\n",
      "Created an SSP operator (subspace dimension = 1)\n",
      "1 projection items activated\n",
      "Loading data for 16 events and 1280 original time points ...\n",
      "0 bad epochs dropped\n",
      "Opening raw data file /kaggle/input/adhd-classification-data/Control_fif-20240509T211233Z-001/Control_fif/v107.fif...\n",
      "Isotrak not found\n",
      "    Read a total of 1 projection items:\n",
      "        Average EEG reference (1 x 19) active\n",
      "    Range : 0 ... 19797 =      0.000 ...   154.664 secs\n",
      "Ready.\n",
      "Not setting metadata\n",
      "16 matching events found\n",
      "No baseline correction applied\n",
      "Created an SSP operator (subspace dimension = 1)\n",
      "1 projection items activated\n",
      "Loading data for 16 events and 1280 original time points ...\n",
      "0 bad epochs dropped\n",
      "Opening raw data file /kaggle/input/adhd-classification-data/Control_fif-20240509T211233Z-001/Control_fif/v123.fif...\n",
      "Isotrak not found\n",
      "    Read a total of 1 projection items:\n",
      "        Average EEG reference (1 x 19) active\n",
      "    Range : 0 ... 14553 =      0.000 ...   113.695 secs\n",
      "Ready.\n",
      "Not setting metadata\n",
      "12 matching events found\n",
      "No baseline correction applied\n"
     ]
    },
    {
     "name": "stderr",
     "output_type": "stream",
     "text": [
      "/tmp/ipykernel_18/1879912887.py:2: RuntimeWarning: This filename (/kaggle/input/adhd-classification-data/Control_fif-20240509T211233Z-001/Control_fif/v107.fif) does not conform to MNE naming conventions. All raw files should end with raw.fif, raw_sss.fif, raw_tsss.fif, _meg.fif, _eeg.fif, _ieeg.fif, raw.fif.gz, raw_sss.fif.gz, raw_tsss.fif.gz, _meg.fif.gz, _eeg.fif.gz or _ieeg.fif.gz\n",
      "  datax=mne.io.read_raw_fif(file_path,preload=False)\n",
      "/tmp/ipykernel_18/1879912887.py:2: RuntimeWarning: This filename (/kaggle/input/adhd-classification-data/Control_fif-20240509T211233Z-001/Control_fif/v123.fif) does not conform to MNE naming conventions. All raw files should end with raw.fif, raw_sss.fif, raw_tsss.fif, _meg.fif, _eeg.fif, _ieeg.fif, raw.fif.gz, raw_sss.fif.gz, raw_tsss.fif.gz, _meg.fif.gz, _eeg.fif.gz or _ieeg.fif.gz\n",
      "  datax=mne.io.read_raw_fif(file_path,preload=False)\n"
     ]
    },
    {
     "name": "stdout",
     "output_type": "stream",
     "text": [
      "Created an SSP operator (subspace dimension = 1)\n",
      "1 projection items activated\n",
      "Loading data for 12 events and 1280 original time points ...\n",
      "0 bad epochs dropped\n",
      "Opening raw data file /kaggle/input/adhd-classification-data/Control_fif-20240509T211233Z-001/Control_fif/v118.fif...\n",
      "Isotrak not found\n",
      "    Read a total of 1 projection items:\n",
      "        Average EEG reference (1 x 19) active\n",
      "    Range : 0 ... 12010 =      0.000 ...    93.828 secs\n",
      "Ready.\n",
      "Not setting metadata\n",
      "10 matching events found\n",
      "No baseline correction applied\n",
      "Created an SSP operator (subspace dimension = 1)\n",
      "1 projection items activated\n",
      "Loading data for 10 events and 1280 original time points ...\n",
      "0 bad epochs dropped\n",
      "Opening raw data file /kaggle/input/adhd-classification-data/Control_fif-20240509T211233Z-001/Control_fif/v49p.fif...\n",
      "Isotrak not found\n",
      "    Read a total of 1 projection items:\n",
      "        Average EEG reference (1 x 19) active\n",
      "    Range : 0 ... 16772 =      0.000 ...   131.031 secs\n",
      "Ready.\n"
     ]
    },
    {
     "name": "stderr",
     "output_type": "stream",
     "text": [
      "/tmp/ipykernel_18/1879912887.py:2: RuntimeWarning: This filename (/kaggle/input/adhd-classification-data/Control_fif-20240509T211233Z-001/Control_fif/v118.fif) does not conform to MNE naming conventions. All raw files should end with raw.fif, raw_sss.fif, raw_tsss.fif, _meg.fif, _eeg.fif, _ieeg.fif, raw.fif.gz, raw_sss.fif.gz, raw_tsss.fif.gz, _meg.fif.gz, _eeg.fif.gz or _ieeg.fif.gz\n",
      "  datax=mne.io.read_raw_fif(file_path,preload=False)\n",
      "/tmp/ipykernel_18/1879912887.py:2: RuntimeWarning: This filename (/kaggle/input/adhd-classification-data/Control_fif-20240509T211233Z-001/Control_fif/v49p.fif) does not conform to MNE naming conventions. All raw files should end with raw.fif, raw_sss.fif, raw_tsss.fif, _meg.fif, _eeg.fif, _ieeg.fif, raw.fif.gz, raw_sss.fif.gz, raw_tsss.fif.gz, _meg.fif.gz, _eeg.fif.gz or _ieeg.fif.gz\n",
      "  datax=mne.io.read_raw_fif(file_path,preload=False)\n"
     ]
    },
    {
     "name": "stdout",
     "output_type": "stream",
     "text": [
      "Not setting metadata\n",
      "14 matching events found\n",
      "No baseline correction applied\n",
      "Created an SSP operator (subspace dimension = 1)\n",
      "1 projection items activated\n",
      "Loading data for 14 events and 1280 original time points ...\n",
      "0 bad epochs dropped\n",
      "Opening raw data file /kaggle/input/adhd-classification-data/Control_fif-20240509T211233Z-001/Control_fif/v112.fif...\n",
      "Isotrak not found\n",
      "    Read a total of 1 projection items:\n",
      "        Average EEG reference (1 x 19) active\n",
      "    Range : 0 ... 15946 =      0.000 ...   124.578 secs\n",
      "Ready.\n",
      "Not setting metadata\n",
      "13 matching events found\n",
      "No baseline correction applied\n",
      "Created an SSP operator (subspace dimension = 1)\n",
      "1 projection items activated\n",
      "Loading data for 13 events and 1280 original time points ...\n",
      "0 bad epochs dropped\n",
      "Opening raw data file /kaggle/input/adhd-classification-data/Control_fif-20240509T211233Z-001/Control_fif/v43p.fif...\n",
      "Isotrak not found\n",
      "    Read a total of 1 projection items:\n",
      "        Average EEG reference (1 x 19) active\n",
      "    Range : 0 ... 12753 =      0.000 ...    99.633 secs\n",
      "Ready.\n"
     ]
    },
    {
     "name": "stderr",
     "output_type": "stream",
     "text": [
      "/tmp/ipykernel_18/1879912887.py:2: RuntimeWarning: This filename (/kaggle/input/adhd-classification-data/Control_fif-20240509T211233Z-001/Control_fif/v112.fif) does not conform to MNE naming conventions. All raw files should end with raw.fif, raw_sss.fif, raw_tsss.fif, _meg.fif, _eeg.fif, _ieeg.fif, raw.fif.gz, raw_sss.fif.gz, raw_tsss.fif.gz, _meg.fif.gz, _eeg.fif.gz or _ieeg.fif.gz\n",
      "  datax=mne.io.read_raw_fif(file_path,preload=False)\n",
      "/tmp/ipykernel_18/1879912887.py:2: RuntimeWarning: This filename (/kaggle/input/adhd-classification-data/Control_fif-20240509T211233Z-001/Control_fif/v43p.fif) does not conform to MNE naming conventions. All raw files should end with raw.fif, raw_sss.fif, raw_tsss.fif, _meg.fif, _eeg.fif, _ieeg.fif, raw.fif.gz, raw_sss.fif.gz, raw_tsss.fif.gz, _meg.fif.gz, _eeg.fif.gz or _ieeg.fif.gz\n",
      "  datax=mne.io.read_raw_fif(file_path,preload=False)\n"
     ]
    },
    {
     "name": "stdout",
     "output_type": "stream",
     "text": [
      "Not setting metadata\n",
      "10 matching events found\n",
      "No baseline correction applied\n",
      "Created an SSP operator (subspace dimension = 1)\n",
      "1 projection items activated\n",
      "Loading data for 10 events and 1280 original time points ...\n",
      "0 bad epochs dropped\n",
      "Opening raw data file /kaggle/input/adhd-classification-data/Control_fif-20240509T211233Z-001/Control_fif/v309.fif...\n",
      "Isotrak not found\n",
      "    Read a total of 1 projection items:\n",
      "        Average EEG reference (1 x 19) active\n",
      "    Range : 0 ... 24821 =      0.000 ...   193.914 secs\n",
      "Ready.\n",
      "Not setting metadata\n",
      "20 matching events found\n",
      "No baseline correction applied\n",
      "Created an SSP operator (subspace dimension = 1)\n",
      "1 projection items activated\n",
      "Loading data for 20 events and 1280 original time points ...\n",
      "0 bad epochs dropped\n",
      "Opening raw data file /kaggle/input/adhd-classification-data/Control_fif-20240509T211233Z-001/Control_fif/v58p.fif...\n",
      "Isotrak not found\n",
      "    Read a total of 1 projection items:\n",
      "        Average EEG reference (1 x 19) active\n"
     ]
    },
    {
     "name": "stderr",
     "output_type": "stream",
     "text": [
      "/tmp/ipykernel_18/1879912887.py:2: RuntimeWarning: This filename (/kaggle/input/adhd-classification-data/Control_fif-20240509T211233Z-001/Control_fif/v309.fif) does not conform to MNE naming conventions. All raw files should end with raw.fif, raw_sss.fif, raw_tsss.fif, _meg.fif, _eeg.fif, _ieeg.fif, raw.fif.gz, raw_sss.fif.gz, raw_tsss.fif.gz, _meg.fif.gz, _eeg.fif.gz or _ieeg.fif.gz\n",
      "  datax=mne.io.read_raw_fif(file_path,preload=False)\n",
      "/tmp/ipykernel_18/1879912887.py:2: RuntimeWarning: This filename (/kaggle/input/adhd-classification-data/Control_fif-20240509T211233Z-001/Control_fif/v58p.fif) does not conform to MNE naming conventions. All raw files should end with raw.fif, raw_sss.fif, raw_tsss.fif, _meg.fif, _eeg.fif, _ieeg.fif, raw.fif.gz, raw_sss.fif.gz, raw_tsss.fif.gz, _meg.fif.gz, _eeg.fif.gz or _ieeg.fif.gz\n",
      "  datax=mne.io.read_raw_fif(file_path,preload=False)\n"
     ]
    },
    {
     "name": "stdout",
     "output_type": "stream",
     "text": [
      "    Range : 0 ... 13921 =      0.000 ...   108.758 secs\n",
      "Ready.\n",
      "Not setting metadata\n",
      "11 matching events found\n",
      "No baseline correction applied\n",
      "Created an SSP operator (subspace dimension = 1)\n",
      "1 projection items activated\n",
      "Loading data for 11 events and 1280 original time points ...\n",
      "0 bad epochs dropped\n",
      "Opening raw data file /kaggle/input/adhd-classification-data/Control_fif-20240509T211233Z-001/Control_fif/v310.fif...\n",
      "Isotrak not found\n",
      "    Read a total of 1 projection items:\n",
      "        Average EEG reference (1 x 19) active\n",
      "    Range : 0 ... 17796 =      0.000 ...   139.031 secs\n",
      "Ready.\n",
      "Not setting metadata\n",
      "14 matching events found\n",
      "No baseline correction applied\n",
      "Created an SSP operator (subspace dimension = 1)\n",
      "1 projection items activated\n",
      "Loading data for 14 events and 1280 original time points ...\n",
      "0 bad epochs dropped\n",
      "Opening raw data file /kaggle/input/adhd-classification-data/Control_fif-20240509T211233Z-001/Control_fif/v114.fif...\n",
      "Isotrak not found\n",
      "    Read a total of 1 projection items:\n",
      "        Average EEG reference (1 x 19) active\n"
     ]
    },
    {
     "name": "stderr",
     "output_type": "stream",
     "text": [
      "/tmp/ipykernel_18/1879912887.py:2: RuntimeWarning: This filename (/kaggle/input/adhd-classification-data/Control_fif-20240509T211233Z-001/Control_fif/v310.fif) does not conform to MNE naming conventions. All raw files should end with raw.fif, raw_sss.fif, raw_tsss.fif, _meg.fif, _eeg.fif, _ieeg.fif, raw.fif.gz, raw_sss.fif.gz, raw_tsss.fif.gz, _meg.fif.gz, _eeg.fif.gz or _ieeg.fif.gz\n",
      "  datax=mne.io.read_raw_fif(file_path,preload=False)\n",
      "/tmp/ipykernel_18/1879912887.py:2: RuntimeWarning: This filename (/kaggle/input/adhd-classification-data/Control_fif-20240509T211233Z-001/Control_fif/v114.fif) does not conform to MNE naming conventions. All raw files should end with raw.fif, raw_sss.fif, raw_tsss.fif, _meg.fif, _eeg.fif, _ieeg.fif, raw.fif.gz, raw_sss.fif.gz, raw_tsss.fif.gz, _meg.fif.gz, _eeg.fif.gz or _ieeg.fif.gz\n",
      "  datax=mne.io.read_raw_fif(file_path,preload=False)\n"
     ]
    },
    {
     "name": "stdout",
     "output_type": "stream",
     "text": [
      "    Range : 0 ... 13307 =      0.000 ...   103.961 secs\n",
      "Ready.\n",
      "Not setting metadata\n",
      "11 matching events found\n",
      "No baseline correction applied\n",
      "Created an SSP operator (subspace dimension = 1)\n",
      "1 projection items activated\n",
      "Loading data for 11 events and 1280 original time points ...\n",
      "0 bad epochs dropped\n",
      "Opening raw data file /kaggle/input/adhd-classification-data/Control_fif-20240509T211233Z-001/Control_fif/v113.fif...\n",
      "Isotrak not found\n",
      "    Read a total of 1 projection items:\n",
      "        Average EEG reference (1 x 19) active\n",
      "    Range : 0 ... 15577 =      0.000 ...   121.695 secs\n",
      "Ready.\n",
      "Not setting metadata\n",
      "13 matching events found\n",
      "No baseline correction applied\n",
      "Created an SSP operator (subspace dimension = 1)\n",
      "1 projection items activated\n",
      "Loading data for 13 events and 1280 original time points ...\n",
      "0 bad epochs dropped\n",
      "Opening raw data file /kaggle/input/adhd-classification-data/Control_fif-20240509T211233Z-001/Control_fif/v108.fif...\n",
      "Isotrak not found\n",
      "    Read a total of 1 projection items:\n"
     ]
    },
    {
     "name": "stderr",
     "output_type": "stream",
     "text": [
      "/tmp/ipykernel_18/1879912887.py:2: RuntimeWarning: This filename (/kaggle/input/adhd-classification-data/Control_fif-20240509T211233Z-001/Control_fif/v113.fif) does not conform to MNE naming conventions. All raw files should end with raw.fif, raw_sss.fif, raw_tsss.fif, _meg.fif, _eeg.fif, _ieeg.fif, raw.fif.gz, raw_sss.fif.gz, raw_tsss.fif.gz, _meg.fif.gz, _eeg.fif.gz or _ieeg.fif.gz\n",
      "  datax=mne.io.read_raw_fif(file_path,preload=False)\n",
      "/tmp/ipykernel_18/1879912887.py:2: RuntimeWarning: This filename (/kaggle/input/adhd-classification-data/Control_fif-20240509T211233Z-001/Control_fif/v108.fif) does not conform to MNE naming conventions. All raw files should end with raw.fif, raw_sss.fif, raw_tsss.fif, _meg.fif, _eeg.fif, _ieeg.fif, raw.fif.gz, raw_sss.fif.gz, raw_tsss.fif.gz, _meg.fif.gz, _eeg.fif.gz or _ieeg.fif.gz\n",
      "  datax=mne.io.read_raw_fif(file_path,preload=False)\n"
     ]
    },
    {
     "name": "stdout",
     "output_type": "stream",
     "text": [
      "        Average EEG reference (1 x 19) active\n",
      "    Range : 0 ... 19029 =      0.000 ...   148.664 secs\n",
      "Ready.\n",
      "Not setting metadata\n",
      "15 matching events found\n",
      "No baseline correction applied\n",
      "Created an SSP operator (subspace dimension = 1)\n",
      "1 projection items activated\n",
      "Loading data for 15 events and 1280 original time points ...\n",
      "0 bad epochs dropped\n",
      "Opening raw data file /kaggle/input/adhd-classification-data/Control_fif-20240509T211233Z-001/Control_fif/v54p.fif...\n",
      "Isotrak not found\n",
      "    Read a total of 1 projection items:\n",
      "        Average EEG reference (1 x 19) active\n",
      "    Range : 0 ... 19237 =      0.000 ...   150.289 secs\n",
      "Ready.\n",
      "Not setting metadata\n",
      "16 matching events found\n",
      "No baseline correction applied\n",
      "Created an SSP operator (subspace dimension = 1)\n",
      "1 projection items activated\n",
      "Loading data for 16 events and 1280 original time points ...\n",
      "0 bad epochs dropped\n",
      "Opening raw data file /kaggle/input/adhd-classification-data/Control_fif-20240509T211233Z-001/Control_fif/v149.fif...\n",
      "Isotrak not found\n"
     ]
    },
    {
     "name": "stderr",
     "output_type": "stream",
     "text": [
      "/tmp/ipykernel_18/1879912887.py:2: RuntimeWarning: This filename (/kaggle/input/adhd-classification-data/Control_fif-20240509T211233Z-001/Control_fif/v54p.fif) does not conform to MNE naming conventions. All raw files should end with raw.fif, raw_sss.fif, raw_tsss.fif, _meg.fif, _eeg.fif, _ieeg.fif, raw.fif.gz, raw_sss.fif.gz, raw_tsss.fif.gz, _meg.fif.gz, _eeg.fif.gz or _ieeg.fif.gz\n",
      "  datax=mne.io.read_raw_fif(file_path,preload=False)\n",
      "/tmp/ipykernel_18/1879912887.py:2: RuntimeWarning: This filename (/kaggle/input/adhd-classification-data/Control_fif-20240509T211233Z-001/Control_fif/v149.fif) does not conform to MNE naming conventions. All raw files should end with raw.fif, raw_sss.fif, raw_tsss.fif, _meg.fif, _eeg.fif, _ieeg.fif, raw.fif.gz, raw_sss.fif.gz, raw_tsss.fif.gz, _meg.fif.gz, _eeg.fif.gz or _ieeg.fif.gz\n",
      "  datax=mne.io.read_raw_fif(file_path,preload=False)\n"
     ]
    },
    {
     "name": "stdout",
     "output_type": "stream",
     "text": [
      "    Read a total of 1 projection items:\n",
      "        Average EEG reference (1 x 19) active\n",
      "    Range : 0 ... 17101 =      0.000 ...   133.602 secs\n",
      "Ready.\n",
      "Not setting metadata\n",
      "14 matching events found\n",
      "No baseline correction applied\n",
      "Created an SSP operator (subspace dimension = 1)\n",
      "1 projection items activated\n",
      "Loading data for 14 events and 1280 original time points ...\n",
      "0 bad epochs dropped\n",
      "Opening raw data file /kaggle/input/adhd-classification-data/Control_fif-20240509T211233Z-001/Control_fif/v300.fif...\n",
      "Isotrak not found\n",
      "    Read a total of 1 projection items:\n",
      "        Average EEG reference (1 x 19) active\n",
      "    Range : 0 ... 25988 =      0.000 ...   203.031 secs\n",
      "Ready.\n",
      "Not setting metadata\n",
      "21 matching events found\n",
      "No baseline correction applied\n",
      "Created an SSP operator (subspace dimension = 1)\n",
      "1 projection items activated\n",
      "Loading data for 21 events and 1280 original time points ...\n",
      "0 bad epochs dropped\n",
      "Opening raw data file /kaggle/input/adhd-classification-data/Control_fif-20240509T211233Z-001/Control_fif/v41p.fif...\n",
      "Isotrak not found\n",
      "    Read a total of 1 projection items:\n",
      "        Average EEG reference (1 x 19) active\n",
      "    Range : 0 ... 12503 =      0.000 ...    97.680 secs\n",
      "Ready.\n",
      "Not setting metadata\n",
      "10 matching events found\n"
     ]
    },
    {
     "name": "stderr",
     "output_type": "stream",
     "text": [
      "/tmp/ipykernel_18/1879912887.py:2: RuntimeWarning: This filename (/kaggle/input/adhd-classification-data/Control_fif-20240509T211233Z-001/Control_fif/v300.fif) does not conform to MNE naming conventions. All raw files should end with raw.fif, raw_sss.fif, raw_tsss.fif, _meg.fif, _eeg.fif, _ieeg.fif, raw.fif.gz, raw_sss.fif.gz, raw_tsss.fif.gz, _meg.fif.gz, _eeg.fif.gz or _ieeg.fif.gz\n",
      "  datax=mne.io.read_raw_fif(file_path,preload=False)\n",
      "/tmp/ipykernel_18/1879912887.py:2: RuntimeWarning: This filename (/kaggle/input/adhd-classification-data/Control_fif-20240509T211233Z-001/Control_fif/v41p.fif) does not conform to MNE naming conventions. All raw files should end with raw.fif, raw_sss.fif, raw_tsss.fif, _meg.fif, _eeg.fif, _ieeg.fif, raw.fif.gz, raw_sss.fif.gz, raw_tsss.fif.gz, _meg.fif.gz, _eeg.fif.gz or _ieeg.fif.gz\n",
      "  datax=mne.io.read_raw_fif(file_path,preload=False)\n"
     ]
    },
    {
     "name": "stdout",
     "output_type": "stream",
     "text": [
      "No baseline correction applied\n",
      "Created an SSP operator (subspace dimension = 1)\n",
      "1 projection items activated\n",
      "Loading data for 10 events and 1280 original time points ...\n",
      "0 bad epochs dropped\n",
      "Opening raw data file /kaggle/input/adhd-classification-data/Control_fif-20240509T211233Z-001/Control_fif/v303.fif...\n",
      "Isotrak not found\n",
      "    Read a total of 1 projection items:\n",
      "        Average EEG reference (1 x 19) active\n",
      "    Range : 0 ... 19225 =      0.000 ...   150.195 secs\n",
      "Ready.\n",
      "Not setting metadata\n",
      "16 matching events found\n",
      "No baseline correction applied\n",
      "Created an SSP operator (subspace dimension = 1)\n",
      "1 projection items activated\n",
      "Loading data for 16 events and 1280 original time points ...\n",
      "0 bad epochs dropped\n",
      "Opening raw data file /kaggle/input/adhd-classification-data/Control_fif-20240509T211233Z-001/Control_fif/v299.fif...\n",
      "Isotrak not found\n"
     ]
    },
    {
     "name": "stderr",
     "output_type": "stream",
     "text": [
      "/tmp/ipykernel_18/1879912887.py:2: RuntimeWarning: This filename (/kaggle/input/adhd-classification-data/Control_fif-20240509T211233Z-001/Control_fif/v303.fif) does not conform to MNE naming conventions. All raw files should end with raw.fif, raw_sss.fif, raw_tsss.fif, _meg.fif, _eeg.fif, _ieeg.fif, raw.fif.gz, raw_sss.fif.gz, raw_tsss.fif.gz, _meg.fif.gz, _eeg.fif.gz or _ieeg.fif.gz\n",
      "  datax=mne.io.read_raw_fif(file_path,preload=False)\n",
      "/tmp/ipykernel_18/1879912887.py:2: RuntimeWarning: This filename (/kaggle/input/adhd-classification-data/Control_fif-20240509T211233Z-001/Control_fif/v299.fif) does not conform to MNE naming conventions. All raw files should end with raw.fif, raw_sss.fif, raw_tsss.fif, _meg.fif, _eeg.fif, _ieeg.fif, raw.fif.gz, raw_sss.fif.gz, raw_tsss.fif.gz, _meg.fif.gz, _eeg.fif.gz or _ieeg.fif.gz\n",
      "  datax=mne.io.read_raw_fif(file_path,preload=False)\n"
     ]
    },
    {
     "name": "stdout",
     "output_type": "stream",
     "text": [
      "    Read a total of 1 projection items:\n",
      "        Average EEG reference (1 x 19) active\n",
      "    Range : 0 ... 22263 =      0.000 ...   173.930 secs\n",
      "Ready.\n",
      "Not setting metadata\n",
      "18 matching events found\n",
      "No baseline correction applied\n",
      "Created an SSP operator (subspace dimension = 1)\n",
      "1 projection items activated\n",
      "Loading data for 18 events and 1280 original time points ...\n",
      "0 bad epochs dropped\n",
      "Opening raw data file /kaggle/input/adhd-classification-data/Control_fif-20240509T211233Z-001/Control_fif/v56p.fif...\n",
      "Isotrak not found\n",
      "    Read a total of 1 projection items:\n",
      "        Average EEG reference (1 x 19) active\n",
      "    Range : 0 ... 14142 =      0.000 ...   110.484 secs\n",
      "Ready.\n",
      "Not setting metadata\n",
      "11 matching events found\n",
      "No baseline correction applied\n",
      "Created an SSP operator (subspace dimension = 1)\n",
      "1 projection items activated\n",
      "Loading data for 11 events and 1280 original time points ...\n",
      "0 bad epochs dropped\n",
      "Opening raw data file /kaggle/input/adhd-classification-data/Control_fif-20240509T211233Z-001/Control_fif/v46p.fif...\n",
      "Isotrak not found\n",
      "    Read a total of 1 projection items:\n",
      "        Average EEG reference (1 x 19) active\n",
      "    Range : 0 ... 9826 =      0.000 ...    76.766 secs\n",
      "Ready.\n"
     ]
    },
    {
     "name": "stderr",
     "output_type": "stream",
     "text": [
      "/tmp/ipykernel_18/1879912887.py:2: RuntimeWarning: This filename (/kaggle/input/adhd-classification-data/Control_fif-20240509T211233Z-001/Control_fif/v56p.fif) does not conform to MNE naming conventions. All raw files should end with raw.fif, raw_sss.fif, raw_tsss.fif, _meg.fif, _eeg.fif, _ieeg.fif, raw.fif.gz, raw_sss.fif.gz, raw_tsss.fif.gz, _meg.fif.gz, _eeg.fif.gz or _ieeg.fif.gz\n",
      "  datax=mne.io.read_raw_fif(file_path,preload=False)\n",
      "/tmp/ipykernel_18/1879912887.py:2: RuntimeWarning: This filename (/kaggle/input/adhd-classification-data/Control_fif-20240509T211233Z-001/Control_fif/v46p.fif) does not conform to MNE naming conventions. All raw files should end with raw.fif, raw_sss.fif, raw_tsss.fif, _meg.fif, _eeg.fif, _ieeg.fif, raw.fif.gz, raw_sss.fif.gz, raw_tsss.fif.gz, _meg.fif.gz, _eeg.fif.gz or _ieeg.fif.gz\n",
      "  datax=mne.io.read_raw_fif(file_path,preload=False)\n"
     ]
    },
    {
     "name": "stdout",
     "output_type": "stream",
     "text": [
      "Not setting metadata\n",
      "8 matching events found\n",
      "No baseline correction applied\n",
      "Created an SSP operator (subspace dimension = 1)\n",
      "1 projection items activated\n",
      "Loading data for 8 events and 1280 original time points ...\n",
      "0 bad epochs dropped\n",
      "Opening raw data file /kaggle/input/adhd-classification-data/Control_fif-20240509T211233Z-001/Control_fif/v45p.fif...\n",
      "Isotrak not found\n",
      "    Read a total of 1 projection items:\n",
      "        Average EEG reference (1 x 19) active\n",
      "    Range : 0 ... 10874 =      0.000 ...    84.953 secs\n",
      "Ready.\n",
      "Not setting metadata\n",
      "9 matching events found\n",
      "No baseline correction applied\n",
      "Created an SSP operator (subspace dimension = 1)\n",
      "1 projection items activated\n",
      "Loading data for 9 events and 1280 original time points ...\n",
      "0 bad epochs dropped\n",
      "Opening raw data file /kaggle/input/adhd-classification-data/Control_fif-20240509T211233Z-001/Control_fif/v297.fif...\n",
      "Isotrak not found\n",
      "    Read a total of 1 projection items:\n",
      "        Average EEG reference (1 x 19) active\n",
      "    Range : 0 ... 13700 =      0.000 ...   107.031 secs\n",
      "Ready.\n",
      "Not setting metadata\n",
      "11 matching events found\n"
     ]
    },
    {
     "name": "stderr",
     "output_type": "stream",
     "text": [
      "/tmp/ipykernel_18/1879912887.py:2: RuntimeWarning: This filename (/kaggle/input/adhd-classification-data/Control_fif-20240509T211233Z-001/Control_fif/v45p.fif) does not conform to MNE naming conventions. All raw files should end with raw.fif, raw_sss.fif, raw_tsss.fif, _meg.fif, _eeg.fif, _ieeg.fif, raw.fif.gz, raw_sss.fif.gz, raw_tsss.fif.gz, _meg.fif.gz, _eeg.fif.gz or _ieeg.fif.gz\n",
      "  datax=mne.io.read_raw_fif(file_path,preload=False)\n",
      "/tmp/ipykernel_18/1879912887.py:2: RuntimeWarning: This filename (/kaggle/input/adhd-classification-data/Control_fif-20240509T211233Z-001/Control_fif/v297.fif) does not conform to MNE naming conventions. All raw files should end with raw.fif, raw_sss.fif, raw_tsss.fif, _meg.fif, _eeg.fif, _ieeg.fif, raw.fif.gz, raw_sss.fif.gz, raw_tsss.fif.gz, _meg.fif.gz, _eeg.fif.gz or _ieeg.fif.gz\n",
      "  datax=mne.io.read_raw_fif(file_path,preload=False)\n"
     ]
    },
    {
     "name": "stdout",
     "output_type": "stream",
     "text": [
      "No baseline correction applied\n",
      "Created an SSP operator (subspace dimension = 1)\n",
      "1 projection items activated\n",
      "Loading data for 11 events and 1280 original time points ...\n",
      "0 bad epochs dropped\n",
      "Opening raw data file /kaggle/input/adhd-classification-data/Control_fif-20240509T211233Z-001/Control_fif/v147.fif...\n",
      "Isotrak not found\n",
      "    Read a total of 1 projection items:\n",
      "        Average EEG reference (1 x 19) active\n",
      "    Range : 0 ... 14212 =      0.000 ...   111.031 secs\n",
      "Ready.\n",
      "Not setting metadata\n",
      "11 matching events found\n",
      "No baseline correction applied\n",
      "Created an SSP operator (subspace dimension = 1)\n",
      "1 projection items activated\n",
      "Loading data for 11 events and 1280 original time points ...\n",
      "0 bad epochs dropped\n",
      "Opening raw data file /kaggle/input/adhd-classification-data/Control_fif-20240509T211233Z-001/Control_fif/v52p.fif...\n",
      "Isotrak not found\n",
      "    Read a total of 1 projection items:\n",
      "        Average EEG reference (1 x 19) active\n",
      "    Range : 0 ... 13886 =      0.000 ...   108.484 secs\n",
      "Ready.\n",
      "Not setting metadata\n",
      "11 matching events found\n",
      "No baseline correction applied\n",
      "Created an SSP operator (subspace dimension = 1)\n",
      "1 projection items activated\n",
      "Loading data for 11 events and 1280 original time points ...\n"
     ]
    },
    {
     "name": "stderr",
     "output_type": "stream",
     "text": [
      "/tmp/ipykernel_18/1879912887.py:2: RuntimeWarning: This filename (/kaggle/input/adhd-classification-data/Control_fif-20240509T211233Z-001/Control_fif/v147.fif) does not conform to MNE naming conventions. All raw files should end with raw.fif, raw_sss.fif, raw_tsss.fif, _meg.fif, _eeg.fif, _ieeg.fif, raw.fif.gz, raw_sss.fif.gz, raw_tsss.fif.gz, _meg.fif.gz, _eeg.fif.gz or _ieeg.fif.gz\n",
      "  datax=mne.io.read_raw_fif(file_path,preload=False)\n",
      "/tmp/ipykernel_18/1879912887.py:2: RuntimeWarning: This filename (/kaggle/input/adhd-classification-data/Control_fif-20240509T211233Z-001/Control_fif/v52p.fif) does not conform to MNE naming conventions. All raw files should end with raw.fif, raw_sss.fif, raw_tsss.fif, _meg.fif, _eeg.fif, _ieeg.fif, raw.fif.gz, raw_sss.fif.gz, raw_tsss.fif.gz, _meg.fif.gz, _eeg.fif.gz or _ieeg.fif.gz\n",
      "  datax=mne.io.read_raw_fif(file_path,preload=False)\n"
     ]
    },
    {
     "name": "stdout",
     "output_type": "stream",
     "text": [
      "0 bad epochs dropped\n",
      "Opening raw data file /kaggle/input/adhd-classification-data/Control_fif-20240509T211233Z-001/Control_fif/v42p.fif...\n",
      "Isotrak not found\n",
      "    Read a total of 1 projection items:\n",
      "        Average EEG reference (1 x 19) active\n",
      "    Range : 0 ... 16707 =      0.000 ...   130.523 secs\n",
      "Ready.\n",
      "Not setting metadata\n",
      "14 matching events found\n",
      "No baseline correction applied\n",
      "Created an SSP operator (subspace dimension = 1)\n",
      "1 projection items activated\n",
      "Loading data for 14 events and 1280 original time points ...\n",
      "0 bad epochs dropped\n",
      "Opening raw data file /kaggle/input/adhd-classification-data/Control_fif-20240509T211233Z-001/Control_fif/v143.fif...\n",
      "Isotrak not found\n",
      "    Read a total of 1 projection items:\n",
      "        Average EEG reference (1 x 19) active\n"
     ]
    },
    {
     "name": "stderr",
     "output_type": "stream",
     "text": [
      "/tmp/ipykernel_18/1879912887.py:2: RuntimeWarning: This filename (/kaggle/input/adhd-classification-data/Control_fif-20240509T211233Z-001/Control_fif/v42p.fif) does not conform to MNE naming conventions. All raw files should end with raw.fif, raw_sss.fif, raw_tsss.fif, _meg.fif, _eeg.fif, _ieeg.fif, raw.fif.gz, raw_sss.fif.gz, raw_tsss.fif.gz, _meg.fif.gz, _eeg.fif.gz or _ieeg.fif.gz\n",
      "  datax=mne.io.read_raw_fif(file_path,preload=False)\n",
      "/tmp/ipykernel_18/1879912887.py:2: RuntimeWarning: This filename (/kaggle/input/adhd-classification-data/Control_fif-20240509T211233Z-001/Control_fif/v143.fif) does not conform to MNE naming conventions. All raw files should end with raw.fif, raw_sss.fif, raw_tsss.fif, _meg.fif, _eeg.fif, _ieeg.fif, raw.fif.gz, raw_sss.fif.gz, raw_tsss.fif.gz, _meg.fif.gz, _eeg.fif.gz or _ieeg.fif.gz\n",
      "  datax=mne.io.read_raw_fif(file_path,preload=False)\n"
     ]
    },
    {
     "name": "stdout",
     "output_type": "stream",
     "text": [
      "    Range : 0 ... 15610 =      0.000 ...   121.953 secs\n",
      "Ready.\n",
      "Not setting metadata\n",
      "13 matching events found\n",
      "No baseline correction applied\n",
      "Created an SSP operator (subspace dimension = 1)\n",
      "1 projection items activated\n",
      "Loading data for 13 events and 1280 original time points ...\n",
      "0 bad epochs dropped\n",
      "Opening raw data file /kaggle/input/adhd-classification-data/Control_fif-20240509T211233Z-001/Control_fif/v57p.fif...\n",
      "Isotrak not found\n",
      "    Read a total of 1 projection items:\n",
      "        Average EEG reference (1 x 19) active\n",
      "    Range : 0 ... 14695 =      0.000 ...   114.805 secs\n",
      "Ready.\n",
      "Not setting metadata\n",
      "12 matching events found\n",
      "No baseline correction applied\n",
      "Created an SSP operator (subspace dimension = 1)\n",
      "1 projection items activated\n",
      "Loading data for 12 events and 1280 original time points ...\n",
      "0 bad epochs dropped\n",
      "Opening raw data file /kaggle/input/adhd-classification-data/Control_fif-20240509T211233Z-001/Control_fif/v127.fif...\n",
      "Isotrak not found\n",
      "    Read a total of 1 projection items:\n",
      "        Average EEG reference (1 x 19) active\n",
      "    Range : 0 ... 14724 =      0.000 ...   115.031 secs\n",
      "Ready.\n",
      "Not setting metadata\n",
      "12 matching events found\n",
      "No baseline correction applied\n",
      "Created an SSP operator (subspace dimension = 1)\n",
      "1 projection items activated\n",
      "Loading data for 12 events and 1280 original time points ...\n",
      "0 bad epochs dropped\n",
      "Opening raw data file /kaggle/input/adhd-classification-data/Control_fif-20240509T211233Z-001/Control_fif/v47p.fif...\n"
     ]
    },
    {
     "name": "stderr",
     "output_type": "stream",
     "text": [
      "/tmp/ipykernel_18/1879912887.py:2: RuntimeWarning: This filename (/kaggle/input/adhd-classification-data/Control_fif-20240509T211233Z-001/Control_fif/v57p.fif) does not conform to MNE naming conventions. All raw files should end with raw.fif, raw_sss.fif, raw_tsss.fif, _meg.fif, _eeg.fif, _ieeg.fif, raw.fif.gz, raw_sss.fif.gz, raw_tsss.fif.gz, _meg.fif.gz, _eeg.fif.gz or _ieeg.fif.gz\n",
      "  datax=mne.io.read_raw_fif(file_path,preload=False)\n",
      "/tmp/ipykernel_18/1879912887.py:2: RuntimeWarning: This filename (/kaggle/input/adhd-classification-data/Control_fif-20240509T211233Z-001/Control_fif/v127.fif) does not conform to MNE naming conventions. All raw files should end with raw.fif, raw_sss.fif, raw_tsss.fif, _meg.fif, _eeg.fif, _ieeg.fif, raw.fif.gz, raw_sss.fif.gz, raw_tsss.fif.gz, _meg.fif.gz, _eeg.fif.gz or _ieeg.fif.gz\n",
      "  datax=mne.io.read_raw_fif(file_path,preload=False)\n",
      "/tmp/ipykernel_18/1879912887.py:2: RuntimeWarning: This filename (/kaggle/input/adhd-classification-data/Control_fif-20240509T211233Z-001/Control_fif/v47p.fif) does not conform to MNE naming conventions. All raw files should end with raw.fif, raw_sss.fif, raw_tsss.fif, _meg.fif, _eeg.fif, _ieeg.fif, raw.fif.gz, raw_sss.fif.gz, raw_tsss.fif.gz, _meg.fif.gz, _eeg.fif.gz or _ieeg.fif.gz\n",
      "  datax=mne.io.read_raw_fif(file_path,preload=False)\n"
     ]
    },
    {
     "name": "stdout",
     "output_type": "stream",
     "text": [
      "Isotrak not found\n",
      "    Read a total of 1 projection items:\n",
      "        Average EEG reference (1 x 19) active\n",
      "    Range : 0 ... 10867 =      0.000 ...    84.898 secs\n",
      "Ready.\n",
      "Not setting metadata\n",
      "9 matching events found\n",
      "No baseline correction applied\n",
      "Created an SSP operator (subspace dimension = 1)\n",
      "1 projection items activated\n",
      "Loading data for 9 events and 1280 original time points ...\n",
      "0 bad epochs dropped\n",
      "Opening raw data file /kaggle/input/adhd-classification-data/Control_fif-20240509T211233Z-001/Control_fif/v120.fif...\n",
      "Isotrak not found\n",
      "    Read a total of 1 projection items:\n",
      "        Average EEG reference (1 x 19) active\n",
      "    Range : 0 ... 12036 =      0.000 ...    94.031 secs\n",
      "Ready.\n",
      "Not setting metadata\n",
      "10 matching events found\n",
      "No baseline correction applied\n",
      "Created an SSP operator (subspace dimension = 1)\n",
      "1 projection items activated\n",
      "Loading data for 10 events and 1280 original time points ...\n",
      "0 bad epochs dropped\n",
      "Opening raw data file /kaggle/input/adhd-classification-data/Control_fif-20240509T211233Z-001/Control_fif/v125.fif...\n",
      "Isotrak not found\n",
      "    Read a total of 1 projection items:\n",
      "        Average EEG reference (1 x 19) active\n",
      "    Range : 0 ... 15381 =      0.000 ...   120.164 secs\n",
      "Ready.\n",
      "Not setting metadata\n",
      "12 matching events found\n",
      "No baseline correction applied\n",
      "Created an SSP operator (subspace dimension = 1)\n",
      "1 projection items activated\n",
      "Loading data for 12 events and 1280 original time points ...\n"
     ]
    },
    {
     "name": "stderr",
     "output_type": "stream",
     "text": [
      "/tmp/ipykernel_18/1879912887.py:2: RuntimeWarning: This filename (/kaggle/input/adhd-classification-data/Control_fif-20240509T211233Z-001/Control_fif/v120.fif) does not conform to MNE naming conventions. All raw files should end with raw.fif, raw_sss.fif, raw_tsss.fif, _meg.fif, _eeg.fif, _ieeg.fif, raw.fif.gz, raw_sss.fif.gz, raw_tsss.fif.gz, _meg.fif.gz, _eeg.fif.gz or _ieeg.fif.gz\n",
      "  datax=mne.io.read_raw_fif(file_path,preload=False)\n",
      "/tmp/ipykernel_18/1879912887.py:2: RuntimeWarning: This filename (/kaggle/input/adhd-classification-data/Control_fif-20240509T211233Z-001/Control_fif/v125.fif) does not conform to MNE naming conventions. All raw files should end with raw.fif, raw_sss.fif, raw_tsss.fif, _meg.fif, _eeg.fif, _ieeg.fif, raw.fif.gz, raw_sss.fif.gz, raw_tsss.fif.gz, _meg.fif.gz, _eeg.fif.gz or _ieeg.fif.gz\n",
      "  datax=mne.io.read_raw_fif(file_path,preload=False)\n"
     ]
    },
    {
     "name": "stdout",
     "output_type": "stream",
     "text": [
      "0 bad epochs dropped\n",
      "Opening raw data file /kaggle/input/adhd-classification-data/Control_fif-20240509T211233Z-001/Control_fif/v51p.fif...\n",
      "Isotrak not found\n",
      "    Read a total of 1 projection items:\n",
      "        Average EEG reference (1 x 19) active\n",
      "    Range : 0 ... 7986 =      0.000 ...    62.391 secs\n",
      "Ready.\n",
      "Not setting metadata\n",
      "6 matching events found\n",
      "No baseline correction applied\n",
      "Created an SSP operator (subspace dimension = 1)\n",
      "1 projection items activated\n",
      "Loading data for 6 events and 1280 original time points ...\n",
      "0 bad epochs dropped\n",
      "Opening raw data file /kaggle/input/adhd-classification-data/Control_fif-20240509T211233Z-001/Control_fif/v53p.fif...\n",
      "Isotrak not found\n",
      "    Read a total of 1 projection items:\n",
      "        Average EEG reference (1 x 19) active\n",
      "    Range : 0 ... 19125 =      0.000 ...   149.414 secs\n",
      "Ready.\n",
      "Not setting metadata\n",
      "16 matching events found\n",
      "No baseline correction applied\n",
      "Created an SSP operator (subspace dimension = 1)\n",
      "1 projection items activated\n",
      "Loading data for 16 events and 1280 original time points ...\n"
     ]
    },
    {
     "name": "stderr",
     "output_type": "stream",
     "text": [
      "/tmp/ipykernel_18/1879912887.py:2: RuntimeWarning: This filename (/kaggle/input/adhd-classification-data/Control_fif-20240509T211233Z-001/Control_fif/v51p.fif) does not conform to MNE naming conventions. All raw files should end with raw.fif, raw_sss.fif, raw_tsss.fif, _meg.fif, _eeg.fif, _ieeg.fif, raw.fif.gz, raw_sss.fif.gz, raw_tsss.fif.gz, _meg.fif.gz, _eeg.fif.gz or _ieeg.fif.gz\n",
      "  datax=mne.io.read_raw_fif(file_path,preload=False)\n",
      "/tmp/ipykernel_18/1879912887.py:2: RuntimeWarning: This filename (/kaggle/input/adhd-classification-data/Control_fif-20240509T211233Z-001/Control_fif/v53p.fif) does not conform to MNE naming conventions. All raw files should end with raw.fif, raw_sss.fif, raw_tsss.fif, _meg.fif, _eeg.fif, _ieeg.fif, raw.fif.gz, raw_sss.fif.gz, raw_tsss.fif.gz, _meg.fif.gz, _eeg.fif.gz or _ieeg.fif.gz\n",
      "  datax=mne.io.read_raw_fif(file_path,preload=False)\n"
     ]
    },
    {
     "name": "stdout",
     "output_type": "stream",
     "text": [
      "0 bad epochs dropped\n",
      "Opening raw data file /kaggle/input/adhd-classification-data/Control_fif-20240509T211233Z-001/Control_fif/v134.fif...\n",
      "Isotrak not found\n",
      "    Read a total of 1 projection items:\n",
      "        Average EEG reference (1 x 19) active\n",
      "    Range : 0 ... 13362 =      0.000 ...   104.391 secs\n",
      "Ready.\n",
      "Not setting metadata\n",
      "11 matching events found\n",
      "No baseline correction applied\n",
      "Created an SSP operator (subspace dimension = 1)\n",
      "1 projection items activated\n",
      "Loading data for 11 events and 1280 original time points ...\n",
      "0 bad epochs dropped\n",
      "Opening raw data file /kaggle/input/adhd-classification-data/Control_fif-20240509T211233Z-001/Control_fif/v305.fif...\n",
      "Isotrak not found\n",
      "    Read a total of 1 projection items:\n",
      "        Average EEG reference (1 x 19) active\n",
      "    Range : 0 ... 22276 =      0.000 ...   174.031 secs\n",
      "Ready.\n",
      "Not setting metadata\n",
      "18 matching events found\n"
     ]
    },
    {
     "name": "stderr",
     "output_type": "stream",
     "text": [
      "/tmp/ipykernel_18/1879912887.py:2: RuntimeWarning: This filename (/kaggle/input/adhd-classification-data/Control_fif-20240509T211233Z-001/Control_fif/v134.fif) does not conform to MNE naming conventions. All raw files should end with raw.fif, raw_sss.fif, raw_tsss.fif, _meg.fif, _eeg.fif, _ieeg.fif, raw.fif.gz, raw_sss.fif.gz, raw_tsss.fif.gz, _meg.fif.gz, _eeg.fif.gz or _ieeg.fif.gz\n",
      "  datax=mne.io.read_raw_fif(file_path,preload=False)\n",
      "/tmp/ipykernel_18/1879912887.py:2: RuntimeWarning: This filename (/kaggle/input/adhd-classification-data/Control_fif-20240509T211233Z-001/Control_fif/v305.fif) does not conform to MNE naming conventions. All raw files should end with raw.fif, raw_sss.fif, raw_tsss.fif, _meg.fif, _eeg.fif, _ieeg.fif, raw.fif.gz, raw_sss.fif.gz, raw_tsss.fif.gz, _meg.fif.gz, _eeg.fif.gz or _ieeg.fif.gz\n",
      "  datax=mne.io.read_raw_fif(file_path,preload=False)\n"
     ]
    },
    {
     "name": "stdout",
     "output_type": "stream",
     "text": [
      "No baseline correction applied\n",
      "Created an SSP operator (subspace dimension = 1)\n",
      "1 projection items activated\n",
      "Loading data for 18 events and 1280 original time points ...\n",
      "0 bad epochs dropped\n",
      "Opening raw data file /kaggle/input/adhd-classification-data/Control_fif-20240509T211233Z-001/Control_fif/v308.fif...\n",
      "Isotrak not found\n",
      "    Read a total of 1 projection items:\n",
      "        Average EEG reference (1 x 19) active\n",
      "    Range : 0 ... 17028 =      0.000 ...   133.031 secs\n",
      "Ready.\n",
      "Not setting metadata\n",
      "14 matching events found\n",
      "No baseline correction applied\n",
      "Created an SSP operator (subspace dimension = 1)\n",
      "1 projection items activated\n",
      "Loading data for 14 events and 1280 original time points ...\n",
      "0 bad epochs dropped\n",
      "Opening raw data file /kaggle/input/adhd-classification-data/Control_fif-20240509T211233Z-001/Control_fif/v298.fif...\n",
      "Isotrak not found\n"
     ]
    },
    {
     "name": "stderr",
     "output_type": "stream",
     "text": [
      "/tmp/ipykernel_18/1879912887.py:2: RuntimeWarning: This filename (/kaggle/input/adhd-classification-data/Control_fif-20240509T211233Z-001/Control_fif/v308.fif) does not conform to MNE naming conventions. All raw files should end with raw.fif, raw_sss.fif, raw_tsss.fif, _meg.fif, _eeg.fif, _ieeg.fif, raw.fif.gz, raw_sss.fif.gz, raw_tsss.fif.gz, _meg.fif.gz, _eeg.fif.gz or _ieeg.fif.gz\n",
      "  datax=mne.io.read_raw_fif(file_path,preload=False)\n",
      "/tmp/ipykernel_18/1879912887.py:2: RuntimeWarning: This filename (/kaggle/input/adhd-classification-data/Control_fif-20240509T211233Z-001/Control_fif/v298.fif) does not conform to MNE naming conventions. All raw files should end with raw.fif, raw_sss.fif, raw_tsss.fif, _meg.fif, _eeg.fif, _ieeg.fif, raw.fif.gz, raw_sss.fif.gz, raw_tsss.fif.gz, _meg.fif.gz, _eeg.fif.gz or _ieeg.fif.gz\n",
      "  datax=mne.io.read_raw_fif(file_path,preload=False)\n"
     ]
    },
    {
     "name": "stdout",
     "output_type": "stream",
     "text": [
      "    Read a total of 1 projection items:\n",
      "        Average EEG reference (1 x 19) active\n",
      "    Range : 0 ... 17785 =      0.000 ...   138.945 secs\n",
      "Ready.\n",
      "Not setting metadata\n",
      "14 matching events found\n",
      "No baseline correction applied\n",
      "Created an SSP operator (subspace dimension = 1)\n",
      "1 projection items activated\n",
      "Loading data for 14 events and 1280 original time points ...\n",
      "0 bad epochs dropped\n",
      "Opening raw data file /kaggle/input/adhd-classification-data/Control_fif-20240509T211233Z-001/Control_fif/v140.fif...\n",
      "Isotrak not found\n",
      "    Read a total of 1 projection items:\n",
      "        Average EEG reference (1 x 19) active\n",
      "    Range : 0 ... 17190 =      0.000 ...   134.297 secs\n",
      "Ready.\n",
      "Not setting metadata\n",
      "14 matching events found\n",
      "No baseline correction applied\n",
      "Created an SSP operator (subspace dimension = 1)\n",
      "1 projection items activated\n",
      "Loading data for 14 events and 1280 original time points ...\n",
      "0 bad epochs dropped\n",
      "Opening raw data file /kaggle/input/adhd-classification-data/Control_fif-20240509T211233Z-001/Control_fif/v138.fif...\n",
      "Isotrak not found\n",
      "    Read a total of 1 projection items:\n"
     ]
    },
    {
     "name": "stderr",
     "output_type": "stream",
     "text": [
      "/tmp/ipykernel_18/1879912887.py:2: RuntimeWarning: This filename (/kaggle/input/adhd-classification-data/Control_fif-20240509T211233Z-001/Control_fif/v140.fif) does not conform to MNE naming conventions. All raw files should end with raw.fif, raw_sss.fif, raw_tsss.fif, _meg.fif, _eeg.fif, _ieeg.fif, raw.fif.gz, raw_sss.fif.gz, raw_tsss.fif.gz, _meg.fif.gz, _eeg.fif.gz or _ieeg.fif.gz\n",
      "  datax=mne.io.read_raw_fif(file_path,preload=False)\n",
      "/tmp/ipykernel_18/1879912887.py:2: RuntimeWarning: This filename (/kaggle/input/adhd-classification-data/Control_fif-20240509T211233Z-001/Control_fif/v138.fif) does not conform to MNE naming conventions. All raw files should end with raw.fif, raw_sss.fif, raw_tsss.fif, _meg.fif, _eeg.fif, _ieeg.fif, raw.fif.gz, raw_sss.fif.gz, raw_tsss.fif.gz, _meg.fif.gz, _eeg.fif.gz or _ieeg.fif.gz\n",
      "  datax=mne.io.read_raw_fif(file_path,preload=False)\n"
     ]
    },
    {
     "name": "stdout",
     "output_type": "stream",
     "text": [
      "        Average EEG reference (1 x 19) active\n",
      "    Range : 0 ... 12491 =      0.000 ...    97.586 secs\n",
      "Ready.\n",
      "Not setting metadata\n",
      "10 matching events found\n",
      "No baseline correction applied\n",
      "Created an SSP operator (subspace dimension = 1)\n",
      "1 projection items activated\n",
      "Loading data for 10 events and 1280 original time points ...\n",
      "0 bad epochs dropped\n",
      "Opening raw data file /kaggle/input/adhd-classification-data/Control_fif-20240509T211233Z-001/Control_fif/v306.fif...\n",
      "Isotrak not found\n",
      "    Read a total of 1 projection items:\n",
      "        Average EEG reference (1 x 19) active\n",
      "    Range : 0 ... 18304 =      0.000 ...   143.000 secs\n",
      "Ready.\n",
      "Not setting metadata\n",
      "15 matching events found\n",
      "No baseline correction applied\n",
      "Created an SSP operator (subspace dimension = 1)\n",
      "1 projection items activated\n",
      "Loading data for 15 events and 1280 original time points ...\n",
      "0 bad epochs dropped\n",
      "Opening raw data file /kaggle/input/adhd-classification-data/Control_fif-20240509T211233Z-001/Control_fif/v59p.fif...\n",
      "Isotrak not found\n"
     ]
    },
    {
     "name": "stderr",
     "output_type": "stream",
     "text": [
      "/tmp/ipykernel_18/1879912887.py:2: RuntimeWarning: This filename (/kaggle/input/adhd-classification-data/Control_fif-20240509T211233Z-001/Control_fif/v306.fif) does not conform to MNE naming conventions. All raw files should end with raw.fif, raw_sss.fif, raw_tsss.fif, _meg.fif, _eeg.fif, _ieeg.fif, raw.fif.gz, raw_sss.fif.gz, raw_tsss.fif.gz, _meg.fif.gz, _eeg.fif.gz or _ieeg.fif.gz\n",
      "  datax=mne.io.read_raw_fif(file_path,preload=False)\n",
      "/tmp/ipykernel_18/1879912887.py:2: RuntimeWarning: This filename (/kaggle/input/adhd-classification-data/Control_fif-20240509T211233Z-001/Control_fif/v59p.fif) does not conform to MNE naming conventions. All raw files should end with raw.fif, raw_sss.fif, raw_tsss.fif, _meg.fif, _eeg.fif, _ieeg.fif, raw.fif.gz, raw_sss.fif.gz, raw_tsss.fif.gz, _meg.fif.gz, _eeg.fif.gz or _ieeg.fif.gz\n",
      "  datax=mne.io.read_raw_fif(file_path,preload=False)\n"
     ]
    },
    {
     "name": "stdout",
     "output_type": "stream",
     "text": [
      "    Read a total of 1 projection items:\n",
      "        Average EEG reference (1 x 19) active\n",
      "    Range : 0 ... 16516 =      0.000 ...   129.031 secs\n",
      "Ready.\n",
      "Not setting metadata\n",
      "13 matching events found\n",
      "No baseline correction applied\n",
      "Created an SSP operator (subspace dimension = 1)\n",
      "1 projection items activated\n",
      "Loading data for 13 events and 1280 original time points ...\n",
      "0 bad epochs dropped\n",
      "Opening raw data file /kaggle/input/adhd-classification-data/Control_fif-20240509T211233Z-001/Control_fif/v55p.fif...\n",
      "Isotrak not found\n",
      "    Read a total of 1 projection items:\n",
      "        Average EEG reference (1 x 19) active\n",
      "    Range : 0 ... 14285 =      0.000 ...   111.602 secs\n",
      "Ready.\n",
      "Not setting metadata\n",
      "11 matching events found\n",
      "No baseline correction applied\n",
      "Created an SSP operator (subspace dimension = 1)\n",
      "1 projection items activated\n",
      "Loading data for 11 events and 1280 original time points ...\n",
      "0 bad epochs dropped\n",
      "Opening raw data file /kaggle/input/adhd-classification-data/Control_fif-20240509T211233Z-001/Control_fif/v109.fif...\n",
      "Isotrak not found\n",
      "    Read a total of 1 projection items:\n",
      "        Average EEG reference (1 x 19) active\n",
      "    Range : 0 ... 16047 =      0.000 ...   125.367 secs\n",
      "Ready.\n",
      "Not setting metadata\n",
      "13 matching events found\n",
      "No baseline correction applied\n",
      "Created an SSP operator (subspace dimension = 1)\n",
      "1 projection items activated\n",
      "Loading data for 13 events and 1280 original time points ...\n"
     ]
    },
    {
     "name": "stderr",
     "output_type": "stream",
     "text": [
      "/tmp/ipykernel_18/1879912887.py:2: RuntimeWarning: This filename (/kaggle/input/adhd-classification-data/Control_fif-20240509T211233Z-001/Control_fif/v55p.fif) does not conform to MNE naming conventions. All raw files should end with raw.fif, raw_sss.fif, raw_tsss.fif, _meg.fif, _eeg.fif, _ieeg.fif, raw.fif.gz, raw_sss.fif.gz, raw_tsss.fif.gz, _meg.fif.gz, _eeg.fif.gz or _ieeg.fif.gz\n",
      "  datax=mne.io.read_raw_fif(file_path,preload=False)\n",
      "/tmp/ipykernel_18/1879912887.py:2: RuntimeWarning: This filename (/kaggle/input/adhd-classification-data/Control_fif-20240509T211233Z-001/Control_fif/v109.fif) does not conform to MNE naming conventions. All raw files should end with raw.fif, raw_sss.fif, raw_tsss.fif, _meg.fif, _eeg.fif, _ieeg.fif, raw.fif.gz, raw_sss.fif.gz, raw_tsss.fif.gz, _meg.fif.gz, _eeg.fif.gz or _ieeg.fif.gz\n",
      "  datax=mne.io.read_raw_fif(file_path,preload=False)\n"
     ]
    },
    {
     "name": "stdout",
     "output_type": "stream",
     "text": [
      "0 bad epochs dropped\n",
      "Opening raw data file /kaggle/input/adhd-classification-data/ADHD_fif-20240509T211140Z-001/ADHD_fif/v196.fif...\n",
      "Isotrak not found\n",
      "    Read a total of 1 projection items:\n",
      "        Average EEG reference (1 x 19) active\n",
      "    Range : 0 ... 13398 =      0.000 ...   104.672 secs\n",
      "Ready.\n",
      "Not setting metadata\n",
      "11 matching events found\n",
      "No baseline correction applied\n",
      "Created an SSP operator (subspace dimension = 1)\n",
      "1 projection items activated\n",
      "Loading data for 11 events and 1280 original time points ...\n",
      "0 bad epochs dropped\n",
      "Opening raw data file /kaggle/input/adhd-classification-data/ADHD_fif-20240509T211140Z-001/ADHD_fif/v32p.fif...\n",
      "Isotrak not found\n",
      "    Read a total of 1 projection items:\n",
      "        Average EEG reference (1 x 19) active\n",
      "    Range : 0 ... 18052 =      0.000 ...   141.031 secs\n",
      "Ready.\n",
      "Not setting metadata\n",
      "15 matching events found\n",
      "No baseline correction applied\n",
      "Created an SSP operator (subspace dimension = 1)\n",
      "1 projection items activated\n",
      "Loading data for 15 events and 1280 original time points ...\n"
     ]
    },
    {
     "name": "stderr",
     "output_type": "stream",
     "text": [
      "/tmp/ipykernel_18/1879912887.py:2: RuntimeWarning: This filename (/kaggle/input/adhd-classification-data/ADHD_fif-20240509T211140Z-001/ADHD_fif/v196.fif) does not conform to MNE naming conventions. All raw files should end with raw.fif, raw_sss.fif, raw_tsss.fif, _meg.fif, _eeg.fif, _ieeg.fif, raw.fif.gz, raw_sss.fif.gz, raw_tsss.fif.gz, _meg.fif.gz, _eeg.fif.gz or _ieeg.fif.gz\n",
      "  datax=mne.io.read_raw_fif(file_path,preload=False)\n",
      "/tmp/ipykernel_18/1879912887.py:2: RuntimeWarning: This filename (/kaggle/input/adhd-classification-data/ADHD_fif-20240509T211140Z-001/ADHD_fif/v32p.fif) does not conform to MNE naming conventions. All raw files should end with raw.fif, raw_sss.fif, raw_tsss.fif, _meg.fif, _eeg.fif, _ieeg.fif, raw.fif.gz, raw_sss.fif.gz, raw_tsss.fif.gz, _meg.fif.gz, _eeg.fif.gz or _ieeg.fif.gz\n",
      "  datax=mne.io.read_raw_fif(file_path,preload=False)\n"
     ]
    },
    {
     "name": "stdout",
     "output_type": "stream",
     "text": [
      "0 bad epochs dropped\n",
      "Opening raw data file /kaggle/input/adhd-classification-data/ADHD_fif-20240509T211140Z-001/ADHD_fif/v36p.fif...\n",
      "Isotrak not found\n",
      "    Read a total of 1 projection items:\n",
      "        Average EEG reference (1 x 19) active\n",
      "    Range : 0 ... 17404 =      0.000 ...   135.969 secs\n",
      "Ready.\n",
      "Not setting metadata\n",
      "14 matching events found\n",
      "No baseline correction applied\n",
      "Created an SSP operator (subspace dimension = 1)\n",
      "1 projection items activated\n",
      "Loading data for 14 events and 1280 original time points ...\n",
      "0 bad epochs dropped\n",
      "Opening raw data file /kaggle/input/adhd-classification-data/ADHD_fif-20240509T211140Z-001/ADHD_fif/v227.fif...\n",
      "Isotrak not found\n",
      "    Read a total of 1 projection items:\n",
      "        Average EEG reference (1 x 19) active\n",
      "    Range : 0 ... 28083 =      0.000 ...   219.398 secs\n",
      "Ready.\n"
     ]
    },
    {
     "name": "stderr",
     "output_type": "stream",
     "text": [
      "/tmp/ipykernel_18/1879912887.py:2: RuntimeWarning: This filename (/kaggle/input/adhd-classification-data/ADHD_fif-20240509T211140Z-001/ADHD_fif/v36p.fif) does not conform to MNE naming conventions. All raw files should end with raw.fif, raw_sss.fif, raw_tsss.fif, _meg.fif, _eeg.fif, _ieeg.fif, raw.fif.gz, raw_sss.fif.gz, raw_tsss.fif.gz, _meg.fif.gz, _eeg.fif.gz or _ieeg.fif.gz\n",
      "  datax=mne.io.read_raw_fif(file_path,preload=False)\n",
      "/tmp/ipykernel_18/1879912887.py:2: RuntimeWarning: This filename (/kaggle/input/adhd-classification-data/ADHD_fif-20240509T211140Z-001/ADHD_fif/v227.fif) does not conform to MNE naming conventions. All raw files should end with raw.fif, raw_sss.fif, raw_tsss.fif, _meg.fif, _eeg.fif, _ieeg.fif, raw.fif.gz, raw_sss.fif.gz, raw_tsss.fif.gz, _meg.fif.gz, _eeg.fif.gz or _ieeg.fif.gz\n",
      "  datax=mne.io.read_raw_fif(file_path,preload=False)\n"
     ]
    },
    {
     "name": "stdout",
     "output_type": "stream",
     "text": [
      "Not setting metadata\n",
      "23 matching events found\n",
      "No baseline correction applied\n",
      "Created an SSP operator (subspace dimension = 1)\n",
      "1 projection items activated\n",
      "Loading data for 23 events and 1280 original time points ...\n",
      "0 bad epochs dropped\n",
      "Opening raw data file /kaggle/input/adhd-classification-data/ADHD_fif-20240509T211140Z-001/ADHD_fif/v20p.fif...\n",
      "Isotrak not found\n",
      "    Read a total of 1 projection items:\n",
      "        Average EEG reference (1 x 19) active\n",
      "    Range : 0 ... 35331 =      0.000 ...   276.023 secs\n",
      "Ready.\n",
      "Not setting metadata\n",
      "29 matching events found\n",
      "No baseline correction applied\n",
      "Created an SSP operator (subspace dimension = 1)\n",
      "1 projection items activated\n",
      "Loading data for 29 events and 1280 original time points ...\n"
     ]
    },
    {
     "name": "stderr",
     "output_type": "stream",
     "text": [
      "/tmp/ipykernel_18/1879912887.py:2: RuntimeWarning: This filename (/kaggle/input/adhd-classification-data/ADHD_fif-20240509T211140Z-001/ADHD_fif/v20p.fif) does not conform to MNE naming conventions. All raw files should end with raw.fif, raw_sss.fif, raw_tsss.fif, _meg.fif, _eeg.fif, _ieeg.fif, raw.fif.gz, raw_sss.fif.gz, raw_tsss.fif.gz, _meg.fif.gz, _eeg.fif.gz or _ieeg.fif.gz\n",
      "  datax=mne.io.read_raw_fif(file_path,preload=False)\n"
     ]
    },
    {
     "name": "stdout",
     "output_type": "stream",
     "text": [
      "0 bad epochs dropped\n",
      "Opening raw data file /kaggle/input/adhd-classification-data/ADHD_fif-20240509T211140Z-001/ADHD_fif/v31p.fif...\n",
      "Isotrak not found\n",
      "    Read a total of 1 projection items:\n",
      "        Average EEG reference (1 x 19) active\n",
      "    Range : 0 ... 11682 =      0.000 ...    91.266 secs\n",
      "Ready.\n",
      "Not setting metadata\n",
      "9 matching events found\n",
      "No baseline correction applied\n",
      "Created an SSP operator (subspace dimension = 1)\n",
      "1 projection items activated\n",
      "Loading data for 9 events and 1280 original time points ...\n",
      "0 bad epochs dropped\n",
      "Opening raw data file /kaggle/input/adhd-classification-data/ADHD_fif-20240509T211140Z-001/ADHD_fif/v181.fif...\n",
      "Isotrak not found\n",
      "    Read a total of 1 projection items:\n",
      "        Average EEG reference (1 x 19) active\n",
      "    Range : 0 ... 10671 =      0.000 ...    83.367 secs\n",
      "Ready.\n",
      "Not setting metadata\n",
      "8 matching events found\n",
      "No baseline correction applied\n",
      "Created an SSP operator (subspace dimension = 1)\n",
      "1 projection items activated\n",
      "Loading data for 8 events and 1280 original time points ...\n",
      "0 bad epochs dropped\n",
      "Opening raw data file /kaggle/input/adhd-classification-data/ADHD_fif-20240509T211140Z-001/ADHD_fif/v209.fif...\n"
     ]
    },
    {
     "name": "stderr",
     "output_type": "stream",
     "text": [
      "/tmp/ipykernel_18/1879912887.py:2: RuntimeWarning: This filename (/kaggle/input/adhd-classification-data/ADHD_fif-20240509T211140Z-001/ADHD_fif/v31p.fif) does not conform to MNE naming conventions. All raw files should end with raw.fif, raw_sss.fif, raw_tsss.fif, _meg.fif, _eeg.fif, _ieeg.fif, raw.fif.gz, raw_sss.fif.gz, raw_tsss.fif.gz, _meg.fif.gz, _eeg.fif.gz or _ieeg.fif.gz\n",
      "  datax=mne.io.read_raw_fif(file_path,preload=False)\n",
      "/tmp/ipykernel_18/1879912887.py:2: RuntimeWarning: This filename (/kaggle/input/adhd-classification-data/ADHD_fif-20240509T211140Z-001/ADHD_fif/v181.fif) does not conform to MNE naming conventions. All raw files should end with raw.fif, raw_sss.fif, raw_tsss.fif, _meg.fif, _eeg.fif, _ieeg.fif, raw.fif.gz, raw_sss.fif.gz, raw_tsss.fif.gz, _meg.fif.gz, _eeg.fif.gz or _ieeg.fif.gz\n",
      "  datax=mne.io.read_raw_fif(file_path,preload=False)\n",
      "/tmp/ipykernel_18/1879912887.py:2: RuntimeWarning: This filename (/kaggle/input/adhd-classification-data/ADHD_fif-20240509T211140Z-001/ADHD_fif/v209.fif) does not conform to MNE naming conventions. All raw files should end with raw.fif, raw_sss.fif, raw_tsss.fif, _meg.fif, _eeg.fif, _ieeg.fif, raw.fif.gz, raw_sss.fif.gz, raw_tsss.fif.gz, _meg.fif.gz, _eeg.fif.gz or _ieeg.fif.gz\n",
      "  datax=mne.io.read_raw_fif(file_path,preload=False)\n"
     ]
    },
    {
     "name": "stdout",
     "output_type": "stream",
     "text": [
      "Isotrak not found\n",
      "    Read a total of 1 projection items:\n",
      "        Average EEG reference (1 x 19) active\n",
      "    Range : 0 ... 30276 =      0.000 ...   236.531 secs\n",
      "Ready.\n",
      "Not setting metadata\n",
      "25 matching events found\n",
      "No baseline correction applied\n",
      "Created an SSP operator (subspace dimension = 1)\n",
      "1 projection items activated\n",
      "Loading data for 25 events and 1280 original time points ...\n",
      "0 bad epochs dropped\n",
      "Opening raw data file /kaggle/input/adhd-classification-data/ADHD_fif-20240509T211140Z-001/ADHD_fif/v254.fif...\n",
      "Isotrak not found\n",
      "    Read a total of 1 projection items:\n",
      "        Average EEG reference (1 x 19) active\n",
      "    Range : 0 ... 10480 =      0.000 ...    81.875 secs\n",
      "Ready.\n",
      "Not setting metadata\n",
      "8 matching events found\n",
      "No baseline correction applied\n",
      "Created an SSP operator (subspace dimension = 1)\n",
      "1 projection items activated\n",
      "Loading data for 8 events and 1280 original time points ...\n",
      "0 bad epochs dropped\n",
      "Opening raw data file /kaggle/input/adhd-classification-data/ADHD_fif-20240509T211140Z-001/ADHD_fif/v8p.fif...\n",
      "Isotrak not found\n",
      "    Read a total of 1 projection items:\n",
      "        Average EEG reference (1 x 19) active\n",
      "    Range : 0 ... 15779 =      0.000 ...   123.273 secs\n",
      "Ready.\n",
      "Not setting metadata\n",
      "13 matching events found\n"
     ]
    },
    {
     "name": "stderr",
     "output_type": "stream",
     "text": [
      "/tmp/ipykernel_18/1879912887.py:2: RuntimeWarning: This filename (/kaggle/input/adhd-classification-data/ADHD_fif-20240509T211140Z-001/ADHD_fif/v254.fif) does not conform to MNE naming conventions. All raw files should end with raw.fif, raw_sss.fif, raw_tsss.fif, _meg.fif, _eeg.fif, _ieeg.fif, raw.fif.gz, raw_sss.fif.gz, raw_tsss.fif.gz, _meg.fif.gz, _eeg.fif.gz or _ieeg.fif.gz\n",
      "  datax=mne.io.read_raw_fif(file_path,preload=False)\n",
      "/tmp/ipykernel_18/1879912887.py:2: RuntimeWarning: This filename (/kaggle/input/adhd-classification-data/ADHD_fif-20240509T211140Z-001/ADHD_fif/v8p.fif) does not conform to MNE naming conventions. All raw files should end with raw.fif, raw_sss.fif, raw_tsss.fif, _meg.fif, _eeg.fif, _ieeg.fif, raw.fif.gz, raw_sss.fif.gz, raw_tsss.fif.gz, _meg.fif.gz, _eeg.fif.gz or _ieeg.fif.gz\n",
      "  datax=mne.io.read_raw_fif(file_path,preload=False)\n"
     ]
    },
    {
     "name": "stdout",
     "output_type": "stream",
     "text": [
      "No baseline correction applied\n",
      "Created an SSP operator (subspace dimension = 1)\n",
      "1 projection items activated\n",
      "Loading data for 13 events and 1280 original time points ...\n",
      "0 bad epochs dropped\n",
      "Opening raw data file /kaggle/input/adhd-classification-data/ADHD_fif-20240509T211140Z-001/ADHD_fif/v173.fif...\n",
      "Isotrak not found\n",
      "    Read a total of 1 projection items:\n",
      "        Average EEG reference (1 x 19) active\n",
      "    Range : 0 ... 24244 =      0.000 ...   189.406 secs\n",
      "Ready.\n",
      "Not setting metadata\n",
      "20 matching events found\n",
      "No baseline correction applied\n",
      "Created an SSP operator (subspace dimension = 1)\n",
      "1 projection items activated\n",
      "Loading data for 20 events and 1280 original time points ...\n",
      "0 bad epochs dropped\n",
      "Opening raw data file /kaggle/input/adhd-classification-data/ADHD_fif-20240509T211140Z-001/ADHD_fif/v18p.fif...\n",
      "Isotrak not found\n",
      "    Read a total of 1 projection items:\n",
      "        Average EEG reference (1 x 19) active\n"
     ]
    },
    {
     "name": "stderr",
     "output_type": "stream",
     "text": [
      "/tmp/ipykernel_18/1879912887.py:2: RuntimeWarning: This filename (/kaggle/input/adhd-classification-data/ADHD_fif-20240509T211140Z-001/ADHD_fif/v173.fif) does not conform to MNE naming conventions. All raw files should end with raw.fif, raw_sss.fif, raw_tsss.fif, _meg.fif, _eeg.fif, _ieeg.fif, raw.fif.gz, raw_sss.fif.gz, raw_tsss.fif.gz, _meg.fif.gz, _eeg.fif.gz or _ieeg.fif.gz\n",
      "  datax=mne.io.read_raw_fif(file_path,preload=False)\n",
      "/tmp/ipykernel_18/1879912887.py:2: RuntimeWarning: This filename (/kaggle/input/adhd-classification-data/ADHD_fif-20240509T211140Z-001/ADHD_fif/v18p.fif) does not conform to MNE naming conventions. All raw files should end with raw.fif, raw_sss.fif, raw_tsss.fif, _meg.fif, _eeg.fif, _ieeg.fif, raw.fif.gz, raw_sss.fif.gz, raw_tsss.fif.gz, _meg.fif.gz, _eeg.fif.gz or _ieeg.fif.gz\n",
      "  datax=mne.io.read_raw_fif(file_path,preload=False)\n"
     ]
    },
    {
     "name": "stdout",
     "output_type": "stream",
     "text": [
      "    Range : 0 ... 25006 =      0.000 ...   195.359 secs\n",
      "Ready.\n",
      "Not setting metadata\n",
      "21 matching events found\n",
      "No baseline correction applied\n",
      "Created an SSP operator (subspace dimension = 1)\n",
      "1 projection items activated\n",
      "Loading data for 21 events and 1280 original time points ...\n",
      "0 bad epochs dropped\n",
      "Opening raw data file /kaggle/input/adhd-classification-data/ADHD_fif-20240509T211140Z-001/ADHD_fif/v206.fif...\n",
      "Isotrak not found\n",
      "    Read a total of 1 projection items:\n",
      "        Average EEG reference (1 x 19) active\n",
      "    Range : 0 ... 20176 =      0.000 ...   157.625 secs\n",
      "Ready.\n",
      "Not setting metadata\n",
      "16 matching events found\n",
      "No baseline correction applied\n",
      "Created an SSP operator (subspace dimension = 1)\n",
      "1 projection items activated\n",
      "Loading data for 16 events and 1280 original time points ...\n",
      "0 bad epochs dropped\n",
      "Opening raw data file /kaggle/input/adhd-classification-data/ADHD_fif-20240509T211140Z-001/ADHD_fif/v244.fif...\n",
      "Isotrak not found\n",
      "    Read a total of 1 projection items:\n",
      "        Average EEG reference (1 x 19) active\n",
      "    Range : 0 ... 39033 =      0.000 ...   304.945 secs\n",
      "Ready.\n",
      "Not setting metadata\n",
      "32 matching events found\n",
      "No baseline correction applied\n",
      "Created an SSP operator (subspace dimension = 1)\n"
     ]
    },
    {
     "name": "stderr",
     "output_type": "stream",
     "text": [
      "/tmp/ipykernel_18/1879912887.py:2: RuntimeWarning: This filename (/kaggle/input/adhd-classification-data/ADHD_fif-20240509T211140Z-001/ADHD_fif/v206.fif) does not conform to MNE naming conventions. All raw files should end with raw.fif, raw_sss.fif, raw_tsss.fif, _meg.fif, _eeg.fif, _ieeg.fif, raw.fif.gz, raw_sss.fif.gz, raw_tsss.fif.gz, _meg.fif.gz, _eeg.fif.gz or _ieeg.fif.gz\n",
      "  datax=mne.io.read_raw_fif(file_path,preload=False)\n",
      "/tmp/ipykernel_18/1879912887.py:2: RuntimeWarning: This filename (/kaggle/input/adhd-classification-data/ADHD_fif-20240509T211140Z-001/ADHD_fif/v244.fif) does not conform to MNE naming conventions. All raw files should end with raw.fif, raw_sss.fif, raw_tsss.fif, _meg.fif, _eeg.fif, _ieeg.fif, raw.fif.gz, raw_sss.fif.gz, raw_tsss.fif.gz, _meg.fif.gz, _eeg.fif.gz or _ieeg.fif.gz\n",
      "  datax=mne.io.read_raw_fif(file_path,preload=False)\n"
     ]
    },
    {
     "name": "stdout",
     "output_type": "stream",
     "text": [
      "1 projection items activated\n",
      "Loading data for 32 events and 1280 original time points ...\n",
      "0 bad epochs dropped\n",
      "Opening raw data file /kaggle/input/adhd-classification-data/ADHD_fif-20240509T211140Z-001/ADHD_fif/v27p.fif...\n",
      "Isotrak not found\n",
      "    Read a total of 1 projection items:\n",
      "        Average EEG reference (1 x 19) active\n",
      "    Range : 0 ... 28883 =      0.000 ...   225.648 secs\n",
      "Ready.\n",
      "Not setting metadata\n",
      "24 matching events found\n",
      "No baseline correction applied\n",
      "Created an SSP operator (subspace dimension = 1)\n",
      "1 projection items activated\n",
      "Loading data for 24 events and 1280 original time points ...\n"
     ]
    },
    {
     "name": "stderr",
     "output_type": "stream",
     "text": [
      "/tmp/ipykernel_18/1879912887.py:2: RuntimeWarning: This filename (/kaggle/input/adhd-classification-data/ADHD_fif-20240509T211140Z-001/ADHD_fif/v27p.fif) does not conform to MNE naming conventions. All raw files should end with raw.fif, raw_sss.fif, raw_tsss.fif, _meg.fif, _eeg.fif, _ieeg.fif, raw.fif.gz, raw_sss.fif.gz, raw_tsss.fif.gz, _meg.fif.gz, _eeg.fif.gz or _ieeg.fif.gz\n",
      "  datax=mne.io.read_raw_fif(file_path,preload=False)\n"
     ]
    },
    {
     "name": "stdout",
     "output_type": "stream",
     "text": [
      "0 bad epochs dropped\n",
      "Opening raw data file /kaggle/input/adhd-classification-data/ADHD_fif-20240509T211140Z-001/ADHD_fif/v38p.fif...\n",
      "Isotrak not found\n",
      "    Read a total of 1 projection items:\n",
      "        Average EEG reference (1 x 19) active\n",
      "    Range : 0 ... 24698 =      0.000 ...   192.953 secs\n",
      "Ready.\n",
      "Not setting metadata\n",
      "20 matching events found\n",
      "No baseline correction applied\n",
      "Created an SSP operator (subspace dimension = 1)\n",
      "1 projection items activated\n",
      "Loading data for 20 events and 1280 original time points ...\n",
      "0 bad epochs dropped\n",
      "Opening raw data file /kaggle/input/adhd-classification-data/ADHD_fif-20240509T211140Z-001/ADHD_fif/v14p.fif...\n",
      "Isotrak not found\n",
      "    Read a total of 1 projection items:\n",
      "        Average EEG reference (1 x 19) active\n",
      "    Range : 0 ... 17565 =      0.000 ...   137.227 secs\n",
      "Ready.\n",
      "Not setting metadata\n",
      "14 matching events found\n",
      "No baseline correction applied\n",
      "Created an SSP operator (subspace dimension = 1)\n",
      "1 projection items activated\n",
      "Loading data for 14 events and 1280 original time points ...\n"
     ]
    },
    {
     "name": "stderr",
     "output_type": "stream",
     "text": [
      "/tmp/ipykernel_18/1879912887.py:2: RuntimeWarning: This filename (/kaggle/input/adhd-classification-data/ADHD_fif-20240509T211140Z-001/ADHD_fif/v38p.fif) does not conform to MNE naming conventions. All raw files should end with raw.fif, raw_sss.fif, raw_tsss.fif, _meg.fif, _eeg.fif, _ieeg.fif, raw.fif.gz, raw_sss.fif.gz, raw_tsss.fif.gz, _meg.fif.gz, _eeg.fif.gz or _ieeg.fif.gz\n",
      "  datax=mne.io.read_raw_fif(file_path,preload=False)\n",
      "/tmp/ipykernel_18/1879912887.py:2: RuntimeWarning: This filename (/kaggle/input/adhd-classification-data/ADHD_fif-20240509T211140Z-001/ADHD_fif/v14p.fif) does not conform to MNE naming conventions. All raw files should end with raw.fif, raw_sss.fif, raw_tsss.fif, _meg.fif, _eeg.fif, _ieeg.fif, raw.fif.gz, raw_sss.fif.gz, raw_tsss.fif.gz, _meg.fif.gz, _eeg.fif.gz or _ieeg.fif.gz\n",
      "  datax=mne.io.read_raw_fif(file_path,preload=False)\n"
     ]
    },
    {
     "name": "stdout",
     "output_type": "stream",
     "text": [
      "0 bad epochs dropped\n",
      "Opening raw data file /kaggle/input/adhd-classification-data/ADHD_fif-20240509T211140Z-001/ADHD_fif/v29p.fif...\n",
      "Isotrak not found\n",
      "    Read a total of 1 projection items:\n",
      "        Average EEG reference (1 x 19) active\n",
      "    Range : 0 ... 24196 =      0.000 ...   189.031 secs\n",
      "Ready.\n",
      "Not setting metadata\n",
      "20 matching events found\n",
      "No baseline correction applied\n",
      "Created an SSP operator (subspace dimension = 1)\n",
      "1 projection items activated\n",
      "Loading data for 20 events and 1280 original time points ...\n",
      "0 bad epochs dropped\n",
      "Opening raw data file /kaggle/input/adhd-classification-data/ADHD_fif-20240509T211140Z-001/ADHD_fif/v15p.fif...\n"
     ]
    },
    {
     "name": "stderr",
     "output_type": "stream",
     "text": [
      "/tmp/ipykernel_18/1879912887.py:2: RuntimeWarning: This filename (/kaggle/input/adhd-classification-data/ADHD_fif-20240509T211140Z-001/ADHD_fif/v29p.fif) does not conform to MNE naming conventions. All raw files should end with raw.fif, raw_sss.fif, raw_tsss.fif, _meg.fif, _eeg.fif, _ieeg.fif, raw.fif.gz, raw_sss.fif.gz, raw_tsss.fif.gz, _meg.fif.gz, _eeg.fif.gz or _ieeg.fif.gz\n",
      "  datax=mne.io.read_raw_fif(file_path,preload=False)\n",
      "/tmp/ipykernel_18/1879912887.py:2: RuntimeWarning: This filename (/kaggle/input/adhd-classification-data/ADHD_fif-20240509T211140Z-001/ADHD_fif/v15p.fif) does not conform to MNE naming conventions. All raw files should end with raw.fif, raw_sss.fif, raw_tsss.fif, _meg.fif, _eeg.fif, _ieeg.fif, raw.fif.gz, raw_sss.fif.gz, raw_tsss.fif.gz, _meg.fif.gz, _eeg.fif.gz or _ieeg.fif.gz\n",
      "  datax=mne.io.read_raw_fif(file_path,preload=False)\n"
     ]
    },
    {
     "name": "stdout",
     "output_type": "stream",
     "text": [
      "Isotrak not found\n",
      "    Read a total of 1 projection items:\n",
      "        Average EEG reference (1 x 19) active\n",
      "    Range : 0 ... 43255 =      0.000 ...   337.930 secs\n",
      "Ready.\n",
      "Not setting metadata\n",
      "36 matching events found\n",
      "No baseline correction applied\n",
      "Created an SSP operator (subspace dimension = 1)\n",
      "1 projection items activated\n",
      "Loading data for 36 events and 1280 original time points ...\n",
      "0 bad epochs dropped\n",
      "Opening raw data file /kaggle/input/adhd-classification-data/ADHD_fif-20240509T211140Z-001/ADHD_fif/v37p.fif...\n",
      "Isotrak not found\n",
      "    Read a total of 1 projection items:\n",
      "        Average EEG reference (1 x 19) active\n",
      "    Range : 0 ... 9289 =      0.000 ...    72.570 secs\n",
      "Ready.\n",
      "Not setting metadata\n",
      "7 matching events found\n",
      "No baseline correction applied\n",
      "Created an SSP operator (subspace dimension = 1)\n",
      "1 projection items activated\n",
      "Loading data for 7 events and 1280 original time points ...\n",
      "0 bad epochs dropped\n",
      "Opening raw data file /kaggle/input/adhd-classification-data/ADHD_fif-20240509T211140Z-001/ADHD_fif/v200.fif...\n",
      "Isotrak not found\n",
      "    Read a total of 1 projection items:\n",
      "        Average EEG reference (1 x 19) active\n",
      "    Range : 0 ... 12742 =      0.000 ...    99.547 secs\n",
      "Ready.\n",
      "Not setting metadata\n",
      "10 matching events found\n",
      "No baseline correction applied\n",
      "Created an SSP operator (subspace dimension = 1)\n",
      "1 projection items activated\n",
      "Loading data for 10 events and 1280 original time points ...\n",
      "0 bad epochs dropped\n",
      "Opening raw data file /kaggle/input/adhd-classification-data/ADHD_fif-20240509T211140Z-001/ADHD_fif/v190.fif...\n"
     ]
    },
    {
     "name": "stderr",
     "output_type": "stream",
     "text": [
      "/tmp/ipykernel_18/1879912887.py:2: RuntimeWarning: This filename (/kaggle/input/adhd-classification-data/ADHD_fif-20240509T211140Z-001/ADHD_fif/v37p.fif) does not conform to MNE naming conventions. All raw files should end with raw.fif, raw_sss.fif, raw_tsss.fif, _meg.fif, _eeg.fif, _ieeg.fif, raw.fif.gz, raw_sss.fif.gz, raw_tsss.fif.gz, _meg.fif.gz, _eeg.fif.gz or _ieeg.fif.gz\n",
      "  datax=mne.io.read_raw_fif(file_path,preload=False)\n",
      "/tmp/ipykernel_18/1879912887.py:2: RuntimeWarning: This filename (/kaggle/input/adhd-classification-data/ADHD_fif-20240509T211140Z-001/ADHD_fif/v200.fif) does not conform to MNE naming conventions. All raw files should end with raw.fif, raw_sss.fif, raw_tsss.fif, _meg.fif, _eeg.fif, _ieeg.fif, raw.fif.gz, raw_sss.fif.gz, raw_tsss.fif.gz, _meg.fif.gz, _eeg.fif.gz or _ieeg.fif.gz\n",
      "  datax=mne.io.read_raw_fif(file_path,preload=False)\n",
      "/tmp/ipykernel_18/1879912887.py:2: RuntimeWarning: This filename (/kaggle/input/adhd-classification-data/ADHD_fif-20240509T211140Z-001/ADHD_fif/v190.fif) does not conform to MNE naming conventions. All raw files should end with raw.fif, raw_sss.fif, raw_tsss.fif, _meg.fif, _eeg.fif, _ieeg.fif, raw.fif.gz, raw_sss.fif.gz, raw_tsss.fif.gz, _meg.fif.gz, _eeg.fif.gz or _ieeg.fif.gz\n",
      "  datax=mne.io.read_raw_fif(file_path,preload=False)\n"
     ]
    },
    {
     "name": "stdout",
     "output_type": "stream",
     "text": [
      "Isotrak not found\n",
      "    Read a total of 1 projection items:\n",
      "        Average EEG reference (1 x 19) active\n",
      "    Range : 0 ... 15468 =      0.000 ...   120.844 secs\n",
      "Ready.\n",
      "Not setting metadata\n",
      "12 matching events found\n",
      "No baseline correction applied\n",
      "Created an SSP operator (subspace dimension = 1)\n",
      "1 projection items activated\n",
      "Loading data for 12 events and 1280 original time points ...\n",
      "0 bad epochs dropped\n",
      "Opening raw data file /kaggle/input/adhd-classification-data/ADHD_fif-20240509T211140Z-001/ADHD_fif/v30p.fif...\n",
      "Isotrak not found\n",
      "    Read a total of 1 projection items:\n",
      "        Average EEG reference (1 x 19) active\n",
      "    Range : 0 ... 21666 =      0.000 ...   169.266 secs\n",
      "Ready.\n",
      "Not setting metadata\n",
      "18 matching events found\n",
      "No baseline correction applied\n",
      "Created an SSP operator (subspace dimension = 1)\n",
      "1 projection items activated\n",
      "Loading data for 18 events and 1280 original time points ...\n",
      "0 bad epochs dropped\n",
      "Opening raw data file /kaggle/input/adhd-classification-data/ADHD_fif-20240509T211140Z-001/ADHD_fif/v234.fif...\n"
     ]
    },
    {
     "name": "stderr",
     "output_type": "stream",
     "text": [
      "/tmp/ipykernel_18/1879912887.py:2: RuntimeWarning: This filename (/kaggle/input/adhd-classification-data/ADHD_fif-20240509T211140Z-001/ADHD_fif/v30p.fif) does not conform to MNE naming conventions. All raw files should end with raw.fif, raw_sss.fif, raw_tsss.fif, _meg.fif, _eeg.fif, _ieeg.fif, raw.fif.gz, raw_sss.fif.gz, raw_tsss.fif.gz, _meg.fif.gz, _eeg.fif.gz or _ieeg.fif.gz\n",
      "  datax=mne.io.read_raw_fif(file_path,preload=False)\n",
      "/tmp/ipykernel_18/1879912887.py:2: RuntimeWarning: This filename (/kaggle/input/adhd-classification-data/ADHD_fif-20240509T211140Z-001/ADHD_fif/v234.fif) does not conform to MNE naming conventions. All raw files should end with raw.fif, raw_sss.fif, raw_tsss.fif, _meg.fif, _eeg.fif, _ieeg.fif, raw.fif.gz, raw_sss.fif.gz, raw_tsss.fif.gz, _meg.fif.gz, _eeg.fif.gz or _ieeg.fif.gz\n",
      "  datax=mne.io.read_raw_fif(file_path,preload=False)\n"
     ]
    },
    {
     "name": "stdout",
     "output_type": "stream",
     "text": [
      "Isotrak not found\n",
      "    Read a total of 1 projection items:\n",
      "        Average EEG reference (1 x 19) active\n",
      "    Range : 0 ... 34194 =      0.000 ...   267.141 secs\n",
      "Ready.\n",
      "Not setting metadata\n",
      "28 matching events found\n",
      "No baseline correction applied\n",
      "Created an SSP operator (subspace dimension = 1)\n",
      "1 projection items activated\n",
      "Loading data for 28 events and 1280 original time points ...\n",
      "0 bad epochs dropped\n",
      "Opening raw data file /kaggle/input/adhd-classification-data/ADHD_fif-20240509T211140Z-001/ADHD_fif/v198.fif...\n",
      "Isotrak not found\n",
      "    Read a total of 1 projection items:\n",
      "        Average EEG reference (1 x 19) active\n",
      "    Range : 0 ... 19624 =      0.000 ...   153.312 secs\n",
      "Ready.\n",
      "Not setting metadata\n",
      "16 matching events found\n",
      "No baseline correction applied\n",
      "Created an SSP operator (subspace dimension = 1)\n",
      "1 projection items activated\n",
      "Loading data for 16 events and 1280 original time points ...\n",
      "0 bad epochs dropped\n",
      "Opening raw data file /kaggle/input/adhd-classification-data/ADHD_fif-20240509T211140Z-001/ADHD_fif/v263.fif...\n",
      "Isotrak not found\n",
      "    Read a total of 1 projection items:\n",
      "        Average EEG reference (1 x 19) active\n",
      "    Range : 0 ... 18660 =      0.000 ...   145.781 secs\n",
      "Ready.\n",
      "Not setting metadata\n",
      "15 matching events found\n"
     ]
    },
    {
     "name": "stderr",
     "output_type": "stream",
     "text": [
      "/tmp/ipykernel_18/1879912887.py:2: RuntimeWarning: This filename (/kaggle/input/adhd-classification-data/ADHD_fif-20240509T211140Z-001/ADHD_fif/v198.fif) does not conform to MNE naming conventions. All raw files should end with raw.fif, raw_sss.fif, raw_tsss.fif, _meg.fif, _eeg.fif, _ieeg.fif, raw.fif.gz, raw_sss.fif.gz, raw_tsss.fif.gz, _meg.fif.gz, _eeg.fif.gz or _ieeg.fif.gz\n",
      "  datax=mne.io.read_raw_fif(file_path,preload=False)\n",
      "/tmp/ipykernel_18/1879912887.py:2: RuntimeWarning: This filename (/kaggle/input/adhd-classification-data/ADHD_fif-20240509T211140Z-001/ADHD_fif/v263.fif) does not conform to MNE naming conventions. All raw files should end with raw.fif, raw_sss.fif, raw_tsss.fif, _meg.fif, _eeg.fif, _ieeg.fif, raw.fif.gz, raw_sss.fif.gz, raw_tsss.fif.gz, _meg.fif.gz, _eeg.fif.gz or _ieeg.fif.gz\n",
      "  datax=mne.io.read_raw_fif(file_path,preload=False)\n"
     ]
    },
    {
     "name": "stdout",
     "output_type": "stream",
     "text": [
      "No baseline correction applied\n",
      "Created an SSP operator (subspace dimension = 1)\n",
      "1 projection items activated\n",
      "Loading data for 15 events and 1280 original time points ...\n",
      "0 bad epochs dropped\n",
      "Opening raw data file /kaggle/input/adhd-classification-data/ADHD_fif-20240509T211140Z-001/ADHD_fif/v288.fif...\n",
      "Isotrak not found\n",
      "    Read a total of 1 projection items:\n",
      "        Average EEG reference (1 x 19) active\n",
      "    Range : 0 ... 20118 =      0.000 ...   157.172 secs\n",
      "Ready.\n",
      "Not setting metadata\n",
      "16 matching events found\n",
      "No baseline correction applied\n",
      "Created an SSP operator (subspace dimension = 1)\n",
      "1 projection items activated\n",
      "Loading data for 16 events and 1280 original time points ...\n",
      "0 bad epochs dropped\n",
      "Opening raw data file /kaggle/input/adhd-classification-data/ADHD_fif-20240509T211140Z-001/ADHD_fif/v1p.fif...\n",
      "Isotrak not found\n",
      "    Read a total of 1 projection items:\n",
      "        Average EEG reference (1 x 19) active\n",
      "    Range : 0 ... 12261 =      0.000 ...    95.789 secs\n",
      "Ready.\n",
      "Not setting metadata\n"
     ]
    },
    {
     "name": "stderr",
     "output_type": "stream",
     "text": [
      "/tmp/ipykernel_18/1879912887.py:2: RuntimeWarning: This filename (/kaggle/input/adhd-classification-data/ADHD_fif-20240509T211140Z-001/ADHD_fif/v288.fif) does not conform to MNE naming conventions. All raw files should end with raw.fif, raw_sss.fif, raw_tsss.fif, _meg.fif, _eeg.fif, _ieeg.fif, raw.fif.gz, raw_sss.fif.gz, raw_tsss.fif.gz, _meg.fif.gz, _eeg.fif.gz or _ieeg.fif.gz\n",
      "  datax=mne.io.read_raw_fif(file_path,preload=False)\n",
      "/tmp/ipykernel_18/1879912887.py:2: RuntimeWarning: This filename (/kaggle/input/adhd-classification-data/ADHD_fif-20240509T211140Z-001/ADHD_fif/v1p.fif) does not conform to MNE naming conventions. All raw files should end with raw.fif, raw_sss.fif, raw_tsss.fif, _meg.fif, _eeg.fif, _ieeg.fif, raw.fif.gz, raw_sss.fif.gz, raw_tsss.fif.gz, _meg.fif.gz, _eeg.fif.gz or _ieeg.fif.gz\n",
      "  datax=mne.io.read_raw_fif(file_path,preload=False)\n"
     ]
    },
    {
     "name": "stdout",
     "output_type": "stream",
     "text": [
      "10 matching events found\n",
      "No baseline correction applied\n",
      "Created an SSP operator (subspace dimension = 1)\n",
      "1 projection items activated\n",
      "Loading data for 10 events and 1280 original time points ...\n",
      "0 bad epochs dropped\n",
      "Opening raw data file /kaggle/input/adhd-classification-data/ADHD_fif-20240509T211140Z-001/ADHD_fif/v284.fif...\n",
      "Isotrak not found\n",
      "    Read a total of 1 projection items:\n",
      "        Average EEG reference (1 x 19) active\n",
      "    Range : 0 ... 15386 =      0.000 ...   120.203 secs\n",
      "Ready.\n",
      "Not setting metadata\n",
      "12 matching events found\n",
      "No baseline correction applied\n",
      "Created an SSP operator (subspace dimension = 1)\n",
      "1 projection items activated\n",
      "Loading data for 12 events and 1280 original time points ...\n",
      "0 bad epochs dropped\n",
      "Opening raw data file /kaggle/input/adhd-classification-data/ADHD_fif-20240509T211140Z-001/ADHD_fif/v21p.fif...\n",
      "Isotrak not found\n",
      "    Read a total of 1 projection items:\n",
      "        Average EEG reference (1 x 19) active\n",
      "    Range : 0 ... 16577 =      0.000 ...   129.508 secs\n"
     ]
    },
    {
     "name": "stderr",
     "output_type": "stream",
     "text": [
      "/tmp/ipykernel_18/1879912887.py:2: RuntimeWarning: This filename (/kaggle/input/adhd-classification-data/ADHD_fif-20240509T211140Z-001/ADHD_fif/v284.fif) does not conform to MNE naming conventions. All raw files should end with raw.fif, raw_sss.fif, raw_tsss.fif, _meg.fif, _eeg.fif, _ieeg.fif, raw.fif.gz, raw_sss.fif.gz, raw_tsss.fif.gz, _meg.fif.gz, _eeg.fif.gz or _ieeg.fif.gz\n",
      "  datax=mne.io.read_raw_fif(file_path,preload=False)\n",
      "/tmp/ipykernel_18/1879912887.py:2: RuntimeWarning: This filename (/kaggle/input/adhd-classification-data/ADHD_fif-20240509T211140Z-001/ADHD_fif/v21p.fif) does not conform to MNE naming conventions. All raw files should end with raw.fif, raw_sss.fif, raw_tsss.fif, _meg.fif, _eeg.fif, _ieeg.fif, raw.fif.gz, raw_sss.fif.gz, raw_tsss.fif.gz, _meg.fif.gz, _eeg.fif.gz or _ieeg.fif.gz\n",
      "  datax=mne.io.read_raw_fif(file_path,preload=False)\n"
     ]
    },
    {
     "name": "stdout",
     "output_type": "stream",
     "text": [
      "Ready.\n",
      "Not setting metadata\n",
      "13 matching events found\n",
      "No baseline correction applied\n",
      "Created an SSP operator (subspace dimension = 1)\n",
      "1 projection items activated\n",
      "Loading data for 13 events and 1280 original time points ...\n",
      "0 bad epochs dropped\n",
      "Opening raw data file /kaggle/input/adhd-classification-data/ADHD_fif-20240509T211140Z-001/ADHD_fif/v34p.fif...\n",
      "Isotrak not found\n",
      "    Read a total of 1 projection items:\n",
      "        Average EEG reference (1 x 19) active\n",
      "    Range : 0 ... 19558 =      0.000 ...   152.797 secs\n",
      "Ready.\n",
      "Not setting metadata\n",
      "16 matching events found\n",
      "No baseline correction applied\n",
      "Created an SSP operator (subspace dimension = 1)\n",
      "1 projection items activated\n",
      "Loading data for 16 events and 1280 original time points ...\n"
     ]
    },
    {
     "name": "stderr",
     "output_type": "stream",
     "text": [
      "/tmp/ipykernel_18/1879912887.py:2: RuntimeWarning: This filename (/kaggle/input/adhd-classification-data/ADHD_fif-20240509T211140Z-001/ADHD_fif/v34p.fif) does not conform to MNE naming conventions. All raw files should end with raw.fif, raw_sss.fif, raw_tsss.fif, _meg.fif, _eeg.fif, _ieeg.fif, raw.fif.gz, raw_sss.fif.gz, raw_tsss.fif.gz, _meg.fif.gz, _eeg.fif.gz or _ieeg.fif.gz\n",
      "  datax=mne.io.read_raw_fif(file_path,preload=False)\n"
     ]
    },
    {
     "name": "stdout",
     "output_type": "stream",
     "text": [
      "0 bad epochs dropped\n",
      "Opening raw data file /kaggle/input/adhd-classification-data/ADHD_fif-20240509T211140Z-001/ADHD_fif/v33p.fif...\n",
      "Isotrak not found\n",
      "    Read a total of 1 projection items:\n",
      "        Average EEG reference (1 x 19) active\n",
      "    Range : 0 ... 29220 =      0.000 ...   228.281 secs\n",
      "Ready.\n",
      "Not setting metadata\n",
      "24 matching events found\n",
      "No baseline correction applied\n",
      "Created an SSP operator (subspace dimension = 1)\n",
      "1 projection items activated\n",
      "Loading data for 24 events and 1280 original time points ...\n"
     ]
    },
    {
     "name": "stderr",
     "output_type": "stream",
     "text": [
      "/tmp/ipykernel_18/1879912887.py:2: RuntimeWarning: This filename (/kaggle/input/adhd-classification-data/ADHD_fif-20240509T211140Z-001/ADHD_fif/v33p.fif) does not conform to MNE naming conventions. All raw files should end with raw.fif, raw_sss.fif, raw_tsss.fif, _meg.fif, _eeg.fif, _ieeg.fif, raw.fif.gz, raw_sss.fif.gz, raw_tsss.fif.gz, _meg.fif.gz, _eeg.fif.gz or _ieeg.fif.gz\n",
      "  datax=mne.io.read_raw_fif(file_path,preload=False)\n"
     ]
    },
    {
     "name": "stdout",
     "output_type": "stream",
     "text": [
      "0 bad epochs dropped\n",
      "Opening raw data file /kaggle/input/adhd-classification-data/ADHD_fif-20240509T211140Z-001/ADHD_fif/v270.fif...\n",
      "Isotrak not found\n",
      "    Read a total of 1 projection items:\n",
      "        Average EEG reference (1 x 19) active\n",
      "    Range : 0 ... 23684 =      0.000 ...   185.031 secs\n",
      "Ready.\n",
      "Not setting metadata\n",
      "19 matching events found\n",
      "No baseline correction applied\n",
      "Created an SSP operator (subspace dimension = 1)\n",
      "1 projection items activated\n",
      "Loading data for 19 events and 1280 original time points ...\n",
      "0 bad epochs dropped\n",
      "Opening raw data file /kaggle/input/adhd-classification-data/ADHD_fif-20240509T211140Z-001/ADHD_fif/v24p.fif...\n"
     ]
    },
    {
     "name": "stderr",
     "output_type": "stream",
     "text": [
      "/tmp/ipykernel_18/1879912887.py:2: RuntimeWarning: This filename (/kaggle/input/adhd-classification-data/ADHD_fif-20240509T211140Z-001/ADHD_fif/v270.fif) does not conform to MNE naming conventions. All raw files should end with raw.fif, raw_sss.fif, raw_tsss.fif, _meg.fif, _eeg.fif, _ieeg.fif, raw.fif.gz, raw_sss.fif.gz, raw_tsss.fif.gz, _meg.fif.gz, _eeg.fif.gz or _ieeg.fif.gz\n",
      "  datax=mne.io.read_raw_fif(file_path,preload=False)\n",
      "/tmp/ipykernel_18/1879912887.py:2: RuntimeWarning: This filename (/kaggle/input/adhd-classification-data/ADHD_fif-20240509T211140Z-001/ADHD_fif/v24p.fif) does not conform to MNE naming conventions. All raw files should end with raw.fif, raw_sss.fif, raw_tsss.fif, _meg.fif, _eeg.fif, _ieeg.fif, raw.fif.gz, raw_sss.fif.gz, raw_tsss.fif.gz, _meg.fif.gz, _eeg.fif.gz or _ieeg.fif.gz\n",
      "  datax=mne.io.read_raw_fif(file_path,preload=False)\n"
     ]
    },
    {
     "name": "stdout",
     "output_type": "stream",
     "text": [
      "Isotrak not found\n",
      "    Read a total of 1 projection items:\n",
      "        Average EEG reference (1 x 19) active\n",
      "    Range : 0 ... 16388 =      0.000 ...   128.031 secs\n",
      "Ready.\n",
      "Not setting metadata\n",
      "13 matching events found\n",
      "No baseline correction applied\n",
      "Created an SSP operator (subspace dimension = 1)\n",
      "1 projection items activated\n",
      "Loading data for 13 events and 1280 original time points ...\n",
      "0 bad epochs dropped\n",
      "Opening raw data file /kaggle/input/adhd-classification-data/ADHD_fif-20240509T211140Z-001/ADHD_fif/v231.fif...\n",
      "Isotrak not found\n",
      "    Read a total of 1 projection items:\n",
      "        Average EEG reference (1 x 19) active\n",
      "    Range : 0 ... 19716 =      0.000 ...   154.031 secs\n",
      "Ready.\n",
      "Not setting metadata\n",
      "16 matching events found\n",
      "No baseline correction applied\n",
      "Created an SSP operator (subspace dimension = 1)\n",
      "1 projection items activated\n",
      "Loading data for 16 events and 1280 original time points ...\n",
      "0 bad epochs dropped\n",
      "Opening raw data file /kaggle/input/adhd-classification-data/ADHD_fif-20240509T211140Z-001/ADHD_fif/v274.fif...\n",
      "Isotrak not found\n",
      "    Read a total of 1 projection items:\n",
      "        Average EEG reference (1 x 19) active\n"
     ]
    },
    {
     "name": "stderr",
     "output_type": "stream",
     "text": [
      "/tmp/ipykernel_18/1879912887.py:2: RuntimeWarning: This filename (/kaggle/input/adhd-classification-data/ADHD_fif-20240509T211140Z-001/ADHD_fif/v231.fif) does not conform to MNE naming conventions. All raw files should end with raw.fif, raw_sss.fif, raw_tsss.fif, _meg.fif, _eeg.fif, _ieeg.fif, raw.fif.gz, raw_sss.fif.gz, raw_tsss.fif.gz, _meg.fif.gz, _eeg.fif.gz or _ieeg.fif.gz\n",
      "  datax=mne.io.read_raw_fif(file_path,preload=False)\n",
      "/tmp/ipykernel_18/1879912887.py:2: RuntimeWarning: This filename (/kaggle/input/adhd-classification-data/ADHD_fif-20240509T211140Z-001/ADHD_fif/v274.fif) does not conform to MNE naming conventions. All raw files should end with raw.fif, raw_sss.fif, raw_tsss.fif, _meg.fif, _eeg.fif, _ieeg.fif, raw.fif.gz, raw_sss.fif.gz, raw_tsss.fif.gz, _meg.fif.gz, _eeg.fif.gz or _ieeg.fif.gz\n",
      "  datax=mne.io.read_raw_fif(file_path,preload=False)\n"
     ]
    },
    {
     "name": "stdout",
     "output_type": "stream",
     "text": [
      "    Range : 0 ... 17326 =      0.000 ...   135.359 secs\n",
      "Ready.\n",
      "Not setting metadata\n",
      "14 matching events found\n",
      "No baseline correction applied\n",
      "Created an SSP operator (subspace dimension = 1)\n",
      "1 projection items activated\n",
      "Loading data for 14 events and 1280 original time points ...\n",
      "0 bad epochs dropped\n",
      "Opening raw data file /kaggle/input/adhd-classification-data/ADHD_fif-20240509T211140Z-001/ADHD_fif/v213.fif...\n",
      "Isotrak not found\n",
      "    Read a total of 1 projection items:\n",
      "        Average EEG reference (1 x 19) active\n",
      "    Range : 0 ... 12356 =      0.000 ...    96.531 secs\n",
      "Ready.\n",
      "Not setting metadata\n",
      "10 matching events found\n",
      "No baseline correction applied\n",
      "Created an SSP operator (subspace dimension = 1)\n",
      "1 projection items activated\n",
      "Loading data for 10 events and 1280 original time points ...\n",
      "0 bad epochs dropped\n",
      "Opening raw data file /kaggle/input/adhd-classification-data/ADHD_fif-20240509T211140Z-001/ADHD_fif/v204.fif...\n",
      "Isotrak not found\n",
      "    Read a total of 1 projection items:\n",
      "        Average EEG reference (1 x 19) active\n",
      "    Range : 0 ... 20459 =      0.000 ...   159.836 secs\n",
      "Ready.\n",
      "Not setting metadata\n",
      "17 matching events found\n",
      "No baseline correction applied\n",
      "Created an SSP operator (subspace dimension = 1)\n",
      "1 projection items activated\n",
      "Loading data for 17 events and 1280 original time points ...\n"
     ]
    },
    {
     "name": "stderr",
     "output_type": "stream",
     "text": [
      "/tmp/ipykernel_18/1879912887.py:2: RuntimeWarning: This filename (/kaggle/input/adhd-classification-data/ADHD_fif-20240509T211140Z-001/ADHD_fif/v213.fif) does not conform to MNE naming conventions. All raw files should end with raw.fif, raw_sss.fif, raw_tsss.fif, _meg.fif, _eeg.fif, _ieeg.fif, raw.fif.gz, raw_sss.fif.gz, raw_tsss.fif.gz, _meg.fif.gz, _eeg.fif.gz or _ieeg.fif.gz\n",
      "  datax=mne.io.read_raw_fif(file_path,preload=False)\n",
      "/tmp/ipykernel_18/1879912887.py:2: RuntimeWarning: This filename (/kaggle/input/adhd-classification-data/ADHD_fif-20240509T211140Z-001/ADHD_fif/v204.fif) does not conform to MNE naming conventions. All raw files should end with raw.fif, raw_sss.fif, raw_tsss.fif, _meg.fif, _eeg.fif, _ieeg.fif, raw.fif.gz, raw_sss.fif.gz, raw_tsss.fif.gz, _meg.fif.gz, _eeg.fif.gz or _ieeg.fif.gz\n",
      "  datax=mne.io.read_raw_fif(file_path,preload=False)\n"
     ]
    },
    {
     "name": "stdout",
     "output_type": "stream",
     "text": [
      "0 bad epochs dropped\n",
      "Opening raw data file /kaggle/input/adhd-classification-data/ADHD_fif-20240509T211140Z-001/ADHD_fif/v279.fif...\n",
      "Isotrak not found\n",
      "    Read a total of 1 projection items:\n",
      "        Average EEG reference (1 x 19) active\n",
      "    Range : 0 ... 20137 =      0.000 ...   157.320 secs\n",
      "Ready.\n",
      "Not setting metadata\n",
      "16 matching events found\n",
      "No baseline correction applied\n",
      "Created an SSP operator (subspace dimension = 1)\n",
      "1 projection items activated\n",
      "Loading data for 16 events and 1280 original time points ...\n",
      "0 bad epochs dropped\n",
      "Opening raw data file /kaggle/input/adhd-classification-data/ADHD_fif-20240509T211140Z-001/ADHD_fif/v219.fif...\n",
      "Isotrak not found\n",
      "    Read a total of 1 projection items:\n",
      "        Average EEG reference (1 x 19) active\n"
     ]
    },
    {
     "name": "stderr",
     "output_type": "stream",
     "text": [
      "/tmp/ipykernel_18/1879912887.py:2: RuntimeWarning: This filename (/kaggle/input/adhd-classification-data/ADHD_fif-20240509T211140Z-001/ADHD_fif/v279.fif) does not conform to MNE naming conventions. All raw files should end with raw.fif, raw_sss.fif, raw_tsss.fif, _meg.fif, _eeg.fif, _ieeg.fif, raw.fif.gz, raw_sss.fif.gz, raw_tsss.fif.gz, _meg.fif.gz, _eeg.fif.gz or _ieeg.fif.gz\n",
      "  datax=mne.io.read_raw_fif(file_path,preload=False)\n",
      "/tmp/ipykernel_18/1879912887.py:2: RuntimeWarning: This filename (/kaggle/input/adhd-classification-data/ADHD_fif-20240509T211140Z-001/ADHD_fif/v219.fif) does not conform to MNE naming conventions. All raw files should end with raw.fif, raw_sss.fif, raw_tsss.fif, _meg.fif, _eeg.fif, _ieeg.fif, raw.fif.gz, raw_sss.fif.gz, raw_tsss.fif.gz, _meg.fif.gz, _eeg.fif.gz or _ieeg.fif.gz\n",
      "  datax=mne.io.read_raw_fif(file_path,preload=False)\n"
     ]
    },
    {
     "name": "stdout",
     "output_type": "stream",
     "text": [
      "    Range : 0 ... 27160 =      0.000 ...   212.188 secs\n",
      "Ready.\n",
      "Not setting metadata\n",
      "22 matching events found\n",
      "No baseline correction applied\n",
      "Created an SSP operator (subspace dimension = 1)\n",
      "1 projection items activated\n",
      "Loading data for 22 events and 1280 original time points ...\n",
      "0 bad epochs dropped\n",
      "Opening raw data file /kaggle/input/adhd-classification-data/ADHD_fif-20240509T211140Z-001/ADHD_fif/v28p.fif...\n",
      "Isotrak not found\n",
      "    Read a total of 1 projection items:\n",
      "        Average EEG reference (1 x 19) active\n",
      "    Range : 0 ... 27615 =      0.000 ...   215.742 secs\n",
      "Ready.\n",
      "Not setting metadata\n",
      "23 matching events found\n",
      "No baseline correction applied\n",
      "Created an SSP operator (subspace dimension = 1)\n",
      "1 projection items activated\n",
      "Loading data for 23 events and 1280 original time points ...\n",
      "0 bad epochs dropped\n",
      "Opening raw data file /kaggle/input/adhd-classification-data/ADHD_fif-20240509T211140Z-001/ADHD_fif/v250.fif...\n"
     ]
    },
    {
     "name": "stderr",
     "output_type": "stream",
     "text": [
      "/tmp/ipykernel_18/1879912887.py:2: RuntimeWarning: This filename (/kaggle/input/adhd-classification-data/ADHD_fif-20240509T211140Z-001/ADHD_fif/v28p.fif) does not conform to MNE naming conventions. All raw files should end with raw.fif, raw_sss.fif, raw_tsss.fif, _meg.fif, _eeg.fif, _ieeg.fif, raw.fif.gz, raw_sss.fif.gz, raw_tsss.fif.gz, _meg.fif.gz, _eeg.fif.gz or _ieeg.fif.gz\n",
      "  datax=mne.io.read_raw_fif(file_path,preload=False)\n"
     ]
    },
    {
     "name": "stdout",
     "output_type": "stream",
     "text": [
      "Isotrak not found\n",
      "    Read a total of 1 projection items:\n",
      "        Average EEG reference (1 x 19) active\n",
      "    Range : 0 ... 13856 =      0.000 ...   108.250 secs\n",
      "Ready.\n",
      "Not setting metadata\n",
      "11 matching events found\n",
      "No baseline correction applied\n",
      "Created an SSP operator (subspace dimension = 1)\n",
      "1 projection items activated\n",
      "Loading data for 11 events and 1280 original time points ...\n",
      "0 bad epochs dropped\n",
      "Opening raw data file /kaggle/input/adhd-classification-data/ADHD_fif-20240509T211140Z-001/ADHD_fif/v25p.fif...\n",
      "Isotrak not found\n",
      "    Read a total of 1 projection items:\n",
      "        Average EEG reference (1 x 19) active\n",
      "    Range : 0 ... 9897 =      0.000 ...    77.320 secs\n",
      "Ready.\n",
      "Not setting metadata\n",
      "8 matching events found\n"
     ]
    },
    {
     "name": "stderr",
     "output_type": "stream",
     "text": [
      "/tmp/ipykernel_18/1879912887.py:2: RuntimeWarning: This filename (/kaggle/input/adhd-classification-data/ADHD_fif-20240509T211140Z-001/ADHD_fif/v250.fif) does not conform to MNE naming conventions. All raw files should end with raw.fif, raw_sss.fif, raw_tsss.fif, _meg.fif, _eeg.fif, _ieeg.fif, raw.fif.gz, raw_sss.fif.gz, raw_tsss.fif.gz, _meg.fif.gz, _eeg.fif.gz or _ieeg.fif.gz\n",
      "  datax=mne.io.read_raw_fif(file_path,preload=False)\n",
      "/tmp/ipykernel_18/1879912887.py:2: RuntimeWarning: This filename (/kaggle/input/adhd-classification-data/ADHD_fif-20240509T211140Z-001/ADHD_fif/v25p.fif) does not conform to MNE naming conventions. All raw files should end with raw.fif, raw_sss.fif, raw_tsss.fif, _meg.fif, _eeg.fif, _ieeg.fif, raw.fif.gz, raw_sss.fif.gz, raw_tsss.fif.gz, _meg.fif.gz, _eeg.fif.gz or _ieeg.fif.gz\n",
      "  datax=mne.io.read_raw_fif(file_path,preload=False)\n"
     ]
    },
    {
     "name": "stdout",
     "output_type": "stream",
     "text": [
      "No baseline correction applied\n",
      "Created an SSP operator (subspace dimension = 1)\n",
      "1 projection items activated\n",
      "Loading data for 8 events and 1280 original time points ...\n",
      "0 bad epochs dropped\n",
      "Opening raw data file /kaggle/input/adhd-classification-data/ADHD_fif-20240509T211140Z-001/ADHD_fif/v265.fif...\n",
      "Isotrak not found\n",
      "    Read a total of 1 projection items:\n",
      "        Average EEG reference (1 x 19) active\n",
      "    Range : 0 ... 18392 =      0.000 ...   143.688 secs\n",
      "Ready.\n",
      "Not setting metadata\n",
      "15 matching events found\n",
      "No baseline correction applied\n",
      "Created an SSP operator (subspace dimension = 1)\n",
      "1 projection items activated\n",
      "Loading data for 15 events and 1280 original time points ...\n",
      "0 bad epochs dropped\n",
      "Opening raw data file /kaggle/input/adhd-classification-data/ADHD_fif-20240509T211140Z-001/ADHD_fif/v19p.fif...\n",
      "Isotrak not found\n",
      "    Read a total of 1 projection items:\n",
      "        Average EEG reference (1 x 19) active\n",
      "    Range : 0 ... 23066 =      0.000 ...   180.203 secs\n",
      "Ready.\n",
      "Not setting metadata\n",
      "19 matching events found\n",
      "No baseline correction applied\n",
      "Created an SSP operator (subspace dimension = 1)\n",
      "1 projection items activated\n",
      "Loading data for 19 events and 1280 original time points ...\n"
     ]
    },
    {
     "name": "stderr",
     "output_type": "stream",
     "text": [
      "/tmp/ipykernel_18/1879912887.py:2: RuntimeWarning: This filename (/kaggle/input/adhd-classification-data/ADHD_fif-20240509T211140Z-001/ADHD_fif/v265.fif) does not conform to MNE naming conventions. All raw files should end with raw.fif, raw_sss.fif, raw_tsss.fif, _meg.fif, _eeg.fif, _ieeg.fif, raw.fif.gz, raw_sss.fif.gz, raw_tsss.fif.gz, _meg.fif.gz, _eeg.fif.gz or _ieeg.fif.gz\n",
      "  datax=mne.io.read_raw_fif(file_path,preload=False)\n",
      "/tmp/ipykernel_18/1879912887.py:2: RuntimeWarning: This filename (/kaggle/input/adhd-classification-data/ADHD_fif-20240509T211140Z-001/ADHD_fif/v19p.fif) does not conform to MNE naming conventions. All raw files should end with raw.fif, raw_sss.fif, raw_tsss.fif, _meg.fif, _eeg.fif, _ieeg.fif, raw.fif.gz, raw_sss.fif.gz, raw_tsss.fif.gz, _meg.fif.gz, _eeg.fif.gz or _ieeg.fif.gz\n",
      "  datax=mne.io.read_raw_fif(file_path,preload=False)\n"
     ]
    },
    {
     "name": "stdout",
     "output_type": "stream",
     "text": [
      "0 bad epochs dropped\n",
      "Opening raw data file /kaggle/input/adhd-classification-data/ADHD_fif-20240509T211140Z-001/ADHD_fif/v35p.fif...\n",
      "Isotrak not found\n",
      "    Read a total of 1 projection items:\n",
      "        Average EEG reference (1 x 19) active\n",
      "    Range : 0 ... 15308 =      0.000 ...   119.594 secs\n",
      "Ready.\n",
      "Not setting metadata\n",
      "12 matching events found\n",
      "No baseline correction applied\n",
      "Created an SSP operator (subspace dimension = 1)\n",
      "1 projection items activated\n",
      "Loading data for 12 events and 1280 original time points ...\n",
      "0 bad epochs dropped\n",
      "Opening raw data file /kaggle/input/adhd-classification-data/ADHD_fif-20240509T211140Z-001/ADHD_fif/v215.fif...\n",
      "Isotrak not found\n",
      "    Read a total of 1 projection items:\n",
      "        Average EEG reference (1 x 19) active\n",
      "    Range : 0 ... 21375 =      0.000 ...   166.992 secs\n",
      "Ready.\n",
      "Not setting metadata\n",
      "17 matching events found\n",
      "No baseline correction applied\n",
      "Created an SSP operator (subspace dimension = 1)\n",
      "1 projection items activated\n",
      "Loading data for 17 events and 1280 original time points ...\n"
     ]
    },
    {
     "name": "stderr",
     "output_type": "stream",
     "text": [
      "/tmp/ipykernel_18/1879912887.py:2: RuntimeWarning: This filename (/kaggle/input/adhd-classification-data/ADHD_fif-20240509T211140Z-001/ADHD_fif/v35p.fif) does not conform to MNE naming conventions. All raw files should end with raw.fif, raw_sss.fif, raw_tsss.fif, _meg.fif, _eeg.fif, _ieeg.fif, raw.fif.gz, raw_sss.fif.gz, raw_tsss.fif.gz, _meg.fif.gz, _eeg.fif.gz or _ieeg.fif.gz\n",
      "  datax=mne.io.read_raw_fif(file_path,preload=False)\n",
      "/tmp/ipykernel_18/1879912887.py:2: RuntimeWarning: This filename (/kaggle/input/adhd-classification-data/ADHD_fif-20240509T211140Z-001/ADHD_fif/v215.fif) does not conform to MNE naming conventions. All raw files should end with raw.fif, raw_sss.fif, raw_tsss.fif, _meg.fif, _eeg.fif, _ieeg.fif, raw.fif.gz, raw_sss.fif.gz, raw_tsss.fif.gz, _meg.fif.gz, _eeg.fif.gz or _ieeg.fif.gz\n",
      "  datax=mne.io.read_raw_fif(file_path,preload=False)\n"
     ]
    },
    {
     "name": "stdout",
     "output_type": "stream",
     "text": [
      "0 bad epochs dropped\n",
      "Opening raw data file /kaggle/input/adhd-classification-data/ADHD_fif-20240509T211140Z-001/ADHD_fif/v183.fif...\n",
      "Isotrak not found\n",
      "    Read a total of 1 projection items:\n",
      "        Average EEG reference (1 x 19) active\n",
      "    Range : 0 ... 18594 =      0.000 ...   145.266 secs\n",
      "Ready.\n",
      "Not setting metadata\n",
      "15 matching events found\n",
      "No baseline correction applied\n",
      "Created an SSP operator (subspace dimension = 1)\n",
      "1 projection items activated\n",
      "Loading data for 15 events and 1280 original time points ...\n",
      "0 bad epochs dropped\n",
      "Opening raw data file /kaggle/input/adhd-classification-data/ADHD_fif-20240509T211140Z-001/ADHD_fif/v40p.fif...\n",
      "Isotrak not found\n",
      "    Read a total of 1 projection items:\n",
      "        Average EEG reference (1 x 19) active\n",
      "    Range : 0 ... 20100 =      0.000 ...   157.031 secs\n",
      "Ready.\n",
      "Not setting metadata\n",
      "16 matching events found\n",
      "No baseline correction applied\n",
      "Created an SSP operator (subspace dimension = 1)\n",
      "1 projection items activated\n",
      "Loading data for 16 events and 1280 original time points ...\n"
     ]
    },
    {
     "name": "stderr",
     "output_type": "stream",
     "text": [
      "/tmp/ipykernel_18/1879912887.py:2: RuntimeWarning: This filename (/kaggle/input/adhd-classification-data/ADHD_fif-20240509T211140Z-001/ADHD_fif/v183.fif) does not conform to MNE naming conventions. All raw files should end with raw.fif, raw_sss.fif, raw_tsss.fif, _meg.fif, _eeg.fif, _ieeg.fif, raw.fif.gz, raw_sss.fif.gz, raw_tsss.fif.gz, _meg.fif.gz, _eeg.fif.gz or _ieeg.fif.gz\n",
      "  datax=mne.io.read_raw_fif(file_path,preload=False)\n",
      "/tmp/ipykernel_18/1879912887.py:2: RuntimeWarning: This filename (/kaggle/input/adhd-classification-data/ADHD_fif-20240509T211140Z-001/ADHD_fif/v40p.fif) does not conform to MNE naming conventions. All raw files should end with raw.fif, raw_sss.fif, raw_tsss.fif, _meg.fif, _eeg.fif, _ieeg.fif, raw.fif.gz, raw_sss.fif.gz, raw_tsss.fif.gz, _meg.fif.gz, _eeg.fif.gz or _ieeg.fif.gz\n",
      "  datax=mne.io.read_raw_fif(file_path,preload=False)\n"
     ]
    },
    {
     "name": "stdout",
     "output_type": "stream",
     "text": [
      "0 bad epochs dropped\n",
      "Opening raw data file /kaggle/input/adhd-classification-data/ADHD_fif-20240509T211140Z-001/ADHD_fif/v12p.fif...\n",
      "Isotrak not found\n",
      "    Read a total of 1 projection items:\n",
      "        Average EEG reference (1 x 19) active\n",
      "    Range : 0 ... 17607 =      0.000 ...   137.555 secs\n",
      "Ready.\n",
      "Not setting metadata\n",
      "14 matching events found\n",
      "No baseline correction applied\n",
      "Created an SSP operator (subspace dimension = 1)\n",
      "1 projection items activated\n",
      "Loading data for 14 events and 1280 original time points ...\n",
      "0 bad epochs dropped\n"
     ]
    },
    {
     "name": "stderr",
     "output_type": "stream",
     "text": [
      "/tmp/ipykernel_18/1879912887.py:2: RuntimeWarning: This filename (/kaggle/input/adhd-classification-data/ADHD_fif-20240509T211140Z-001/ADHD_fif/v12p.fif) does not conform to MNE naming conventions. All raw files should end with raw.fif, raw_sss.fif, raw_tsss.fif, _meg.fif, _eeg.fif, _ieeg.fif, raw.fif.gz, raw_sss.fif.gz, raw_tsss.fif.gz, _meg.fif.gz, _eeg.fif.gz or _ieeg.fif.gz\n",
      "  datax=mne.io.read_raw_fif(file_path,preload=False)\n"
     ]
    }
   ],
   "source": [
    "#reading the data of both ADHD and control and saving them in an array\n",
    "NON_ADHD_epochs_array=[read_data(subject) for subject in control_files_path]\n",
    "ADHD_epochs_array=[read_data(subject) for subject in ADHD_files_path_50]"
   ]
  },
  {
   "cell_type": "code",
   "execution_count": 7,
   "id": "9943ff9d",
   "metadata": {
    "execution": {
     "iopub.execute_input": "2024-05-19T13:01:39.477477Z",
     "iopub.status.busy": "2024-05-19T13:01:39.477015Z",
     "iopub.status.idle": "2024-05-19T13:01:39.483829Z",
     "shell.execute_reply": "2024-05-19T13:01:39.482675Z"
    },
    "papermill": {
     "duration": 0.153941,
     "end_time": "2024-05-19T13:01:39.486323",
     "exception": false,
     "start_time": "2024-05-19T13:01:39.332382",
     "status": "completed"
    },
    "tags": []
   },
   "outputs": [
    {
     "name": "stdout",
     "output_type": "stream",
     "text": [
      "60 50\n"
     ]
    }
   ],
   "source": [
    "#crating target values for each data\n",
    "NON_ADHD_epochs_labels=[len(i)*[0] for i in NON_ADHD_epochs_array]\n",
    "ADHD_epochs_labels=[len(i)*[1] for i in ADHD_epochs_array]\n",
    "print(len(NON_ADHD_epochs_labels),len(ADHD_epochs_labels))"
   ]
  },
  {
   "cell_type": "code",
   "execution_count": 8,
   "id": "13526bd9",
   "metadata": {
    "execution": {
     "iopub.execute_input": "2024-05-19T13:01:39.774903Z",
     "iopub.status.busy": "2024-05-19T13:01:39.772834Z",
     "iopub.status.idle": "2024-05-19T13:01:39.779967Z",
     "shell.execute_reply": "2024-05-19T13:01:39.778738Z"
    },
    "papermill": {
     "duration": 0.153611,
     "end_time": "2024-05-19T13:01:39.782212",
     "exception": false,
     "start_time": "2024-05-19T13:01:39.628601",
     "status": "completed"
    },
    "tags": []
   },
   "outputs": [
    {
     "name": "stdout",
     "output_type": "stream",
     "text": [
      "110 110\n"
     ]
    }
   ],
   "source": [
    "#adding data of both adhd with control in one array\n",
    "data_list=NON_ADHD_epochs_array+ADHD_epochs_array\n",
    "#adding the target values of both adhd and control with eachother\n",
    "label_list=NON_ADHD_epochs_labels+ADHD_epochs_labels\n",
    "print(len(data_list),len(label_list))"
   ]
  },
  {
   "cell_type": "code",
   "execution_count": 9,
   "id": "360a335b",
   "metadata": {
    "execution": {
     "iopub.execute_input": "2024-05-19T13:01:40.135849Z",
     "iopub.status.busy": "2024-05-19T13:01:40.135450Z",
     "iopub.status.idle": "2024-05-19T13:01:40.287536Z",
     "shell.execute_reply": "2024-05-19T13:01:40.286255Z"
    },
    "papermill": {
     "duration": 0.302119,
     "end_time": "2024-05-19T13:01:40.289963",
     "exception": false,
     "start_time": "2024-05-19T13:01:39.987844",
     "status": "completed"
    },
    "tags": []
   },
   "outputs": [
    {
     "name": "stdout",
     "output_type": "stream",
     "text": [
      "(1608, 1280, 19) (1608,)\n"
     ]
    }
   ],
   "source": [
    "#stacking the values beside eachother\n",
    "data_array=np.vstack(data_list)\n",
    "label_array=np.hstack(label_list)\n",
    "data_array=np.moveaxis(data_array,1,2)\n",
    "\n",
    "print(data_array.shape,label_array.shape)"
   ]
  },
  {
   "cell_type": "code",
   "execution_count": 10,
   "id": "eab737f4",
   "metadata": {
    "execution": {
     "iopub.execute_input": "2024-05-19T13:01:40.585131Z",
     "iopub.status.busy": "2024-05-19T13:01:40.584025Z",
     "iopub.status.idle": "2024-05-19T13:01:54.384479Z",
     "shell.execute_reply": "2024-05-19T13:01:54.383442Z"
    },
    "papermill": {
     "duration": 13.952055,
     "end_time": "2024-05-19T13:01:54.387336",
     "exception": false,
     "start_time": "2024-05-19T13:01:40.435281",
     "status": "completed"
    },
    "tags": []
   },
   "outputs": [
    {
     "name": "stderr",
     "output_type": "stream",
     "text": [
      "2024-05-19 13:01:42.748781: E external/local_xla/xla/stream_executor/cuda/cuda_dnn.cc:9261] Unable to register cuDNN factory: Attempting to register factory for plugin cuDNN when one has already been registered\n",
      "2024-05-19 13:01:42.748910: E external/local_xla/xla/stream_executor/cuda/cuda_fft.cc:607] Unable to register cuFFT factory: Attempting to register factory for plugin cuFFT when one has already been registered\n",
      "2024-05-19 13:01:42.909951: E external/local_xla/xla/stream_executor/cuda/cuda_blas.cc:1515] Unable to register cuBLAS factory: Attempting to register factory for plugin cuBLAS when one has already been registered\n"
     ]
    }
   ],
   "source": [
    "from tensorflow import keras\n",
    "from tensorflow.keras import layers\n",
    "from tensorflow.keras.layers import Conv1D, BatchNormalization, LeakyReLU, MaxPool1D, GlobalAveragePooling1D, Dense, Dropout, AveragePooling1D\n",
    "from tensorflow.keras.models import Sequential\n",
    "from tensorflow.keras.backend import clear_session\n",
    "from tensorflow.keras.optimizers import Adam"
   ]
  },
  {
   "cell_type": "code",
   "execution_count": 11,
   "id": "f4ec44b7",
   "metadata": {
    "execution": {
     "iopub.execute_input": "2024-05-19T13:01:54.680661Z",
     "iopub.status.busy": "2024-05-19T13:01:54.679627Z",
     "iopub.status.idle": "2024-05-19T13:01:54.907408Z",
     "shell.execute_reply": "2024-05-19T13:01:54.906322Z"
    },
    "papermill": {
     "duration": 0.37518,
     "end_time": "2024-05-19T13:01:54.909626",
     "exception": false,
     "start_time": "2024-05-19T13:01:54.534446",
     "status": "completed"
    },
    "tags": []
   },
   "outputs": [
    {
     "name": "stderr",
     "output_type": "stream",
     "text": [
      "/opt/conda/lib/python3.10/site-packages/keras/src/layers/convolutional/base_conv.py:99: UserWarning: Do not pass an `input_shape`/`input_dim` argument to a layer. When using Sequential models, prefer using an `Input(shape)` object as the first layer in the model instead.\n",
      "  super().__init__(\n"
     ]
    },
    {
     "data": {
      "text/html": [
       "<pre style=\"white-space:pre;overflow-x:auto;line-height:normal;font-family:Menlo,'DejaVu Sans Mono',consolas,'Courier New',monospace\"><span style=\"font-weight: bold\">Model: \"sequential\"</span>\n",
       "</pre>\n"
      ],
      "text/plain": [
       "\u001b[1mModel: \"sequential\"\u001b[0m\n"
      ]
     },
     "metadata": {},
     "output_type": "display_data"
    },
    {
     "data": {
      "text/html": [
       "<pre style=\"white-space:pre;overflow-x:auto;line-height:normal;font-family:Menlo,'DejaVu Sans Mono',consolas,'Courier New',monospace\">┏━━━━━━━━━━━━━━━━━━━━━━━━━━━━━━━━━┳━━━━━━━━━━━━━━━━━━━━━━━━┳━━━━━━━━━━━━━━━┓\n",
       "┃<span style=\"font-weight: bold\"> Layer (type)                    </span>┃<span style=\"font-weight: bold\"> Output Shape           </span>┃<span style=\"font-weight: bold\">       Param # </span>┃\n",
       "┡━━━━━━━━━━━━━━━━━━━━━━━━━━━━━━━━━╇━━━━━━━━━━━━━━━━━━━━━━━━╇━━━━━━━━━━━━━━━┩\n",
       "│ conv1d (<span style=\"color: #0087ff; text-decoration-color: #0087ff\">Conv1D</span>)                 │ (<span style=\"color: #00d7ff; text-decoration-color: #00d7ff\">None</span>, <span style=\"color: #00af00; text-decoration-color: #00af00\">1278</span>, <span style=\"color: #00af00; text-decoration-color: #00af00\">8</span>)        │           <span style=\"color: #00af00; text-decoration-color: #00af00\">464</span> │\n",
       "├─────────────────────────────────┼────────────────────────┼───────────────┤\n",
       "│ batch_normalization             │ (<span style=\"color: #00d7ff; text-decoration-color: #00d7ff\">None</span>, <span style=\"color: #00af00; text-decoration-color: #00af00\">1278</span>, <span style=\"color: #00af00; text-decoration-color: #00af00\">8</span>)        │            <span style=\"color: #00af00; text-decoration-color: #00af00\">32</span> │\n",
       "│ (<span style=\"color: #0087ff; text-decoration-color: #0087ff\">BatchNormalization</span>)            │                        │               │\n",
       "├─────────────────────────────────┼────────────────────────┼───────────────┤\n",
       "│ leaky_re_lu (<span style=\"color: #0087ff; text-decoration-color: #0087ff\">LeakyReLU</span>)         │ (<span style=\"color: #00d7ff; text-decoration-color: #00d7ff\">None</span>, <span style=\"color: #00af00; text-decoration-color: #00af00\">1278</span>, <span style=\"color: #00af00; text-decoration-color: #00af00\">8</span>)        │             <span style=\"color: #00af00; text-decoration-color: #00af00\">0</span> │\n",
       "├─────────────────────────────────┼────────────────────────┼───────────────┤\n",
       "│ max_pooling1d (<span style=\"color: #0087ff; text-decoration-color: #0087ff\">MaxPooling1D</span>)    │ (<span style=\"color: #00d7ff; text-decoration-color: #00d7ff\">None</span>, <span style=\"color: #00af00; text-decoration-color: #00af00\">639</span>, <span style=\"color: #00af00; text-decoration-color: #00af00\">8</span>)         │             <span style=\"color: #00af00; text-decoration-color: #00af00\">0</span> │\n",
       "├─────────────────────────────────┼────────────────────────┼───────────────┤\n",
       "│ conv1d_1 (<span style=\"color: #0087ff; text-decoration-color: #0087ff\">Conv1D</span>)               │ (<span style=\"color: #00d7ff; text-decoration-color: #00d7ff\">None</span>, <span style=\"color: #00af00; text-decoration-color: #00af00\">637</span>, <span style=\"color: #00af00; text-decoration-color: #00af00\">16</span>)        │           <span style=\"color: #00af00; text-decoration-color: #00af00\">400</span> │\n",
       "├─────────────────────────────────┼────────────────────────┼───────────────┤\n",
       "│ leaky_re_lu_1 (<span style=\"color: #0087ff; text-decoration-color: #0087ff\">LeakyReLU</span>)       │ (<span style=\"color: #00d7ff; text-decoration-color: #00d7ff\">None</span>, <span style=\"color: #00af00; text-decoration-color: #00af00\">637</span>, <span style=\"color: #00af00; text-decoration-color: #00af00\">16</span>)        │             <span style=\"color: #00af00; text-decoration-color: #00af00\">0</span> │\n",
       "├─────────────────────────────────┼────────────────────────┼───────────────┤\n",
       "│ max_pooling1d_1 (<span style=\"color: #0087ff; text-decoration-color: #0087ff\">MaxPooling1D</span>)  │ (<span style=\"color: #00d7ff; text-decoration-color: #00d7ff\">None</span>, <span style=\"color: #00af00; text-decoration-color: #00af00\">318</span>, <span style=\"color: #00af00; text-decoration-color: #00af00\">16</span>)        │             <span style=\"color: #00af00; text-decoration-color: #00af00\">0</span> │\n",
       "├─────────────────────────────────┼────────────────────────┼───────────────┤\n",
       "│ dropout (<span style=\"color: #0087ff; text-decoration-color: #0087ff\">Dropout</span>)               │ (<span style=\"color: #00d7ff; text-decoration-color: #00d7ff\">None</span>, <span style=\"color: #00af00; text-decoration-color: #00af00\">318</span>, <span style=\"color: #00af00; text-decoration-color: #00af00\">16</span>)        │             <span style=\"color: #00af00; text-decoration-color: #00af00\">0</span> │\n",
       "├─────────────────────────────────┼────────────────────────┼───────────────┤\n",
       "│ conv1d_2 (<span style=\"color: #0087ff; text-decoration-color: #0087ff\">Conv1D</span>)               │ (<span style=\"color: #00d7ff; text-decoration-color: #00d7ff\">None</span>, <span style=\"color: #00af00; text-decoration-color: #00af00\">316</span>, <span style=\"color: #00af00; text-decoration-color: #00af00\">32</span>)        │         <span style=\"color: #00af00; text-decoration-color: #00af00\">1,568</span> │\n",
       "├─────────────────────────────────┼────────────────────────┼───────────────┤\n",
       "│ leaky_re_lu_2 (<span style=\"color: #0087ff; text-decoration-color: #0087ff\">LeakyReLU</span>)       │ (<span style=\"color: #00d7ff; text-decoration-color: #00d7ff\">None</span>, <span style=\"color: #00af00; text-decoration-color: #00af00\">316</span>, <span style=\"color: #00af00; text-decoration-color: #00af00\">32</span>)        │             <span style=\"color: #00af00; text-decoration-color: #00af00\">0</span> │\n",
       "├─────────────────────────────────┼────────────────────────┼───────────────┤\n",
       "│ average_pooling1d               │ (<span style=\"color: #00d7ff; text-decoration-color: #00d7ff\">None</span>, <span style=\"color: #00af00; text-decoration-color: #00af00\">158</span>, <span style=\"color: #00af00; text-decoration-color: #00af00\">32</span>)        │             <span style=\"color: #00af00; text-decoration-color: #00af00\">0</span> │\n",
       "│ (<span style=\"color: #0087ff; text-decoration-color: #0087ff\">AveragePooling1D</span>)              │                        │               │\n",
       "├─────────────────────────────────┼────────────────────────┼───────────────┤\n",
       "│ dropout_1 (<span style=\"color: #0087ff; text-decoration-color: #0087ff\">Dropout</span>)             │ (<span style=\"color: #00d7ff; text-decoration-color: #00d7ff\">None</span>, <span style=\"color: #00af00; text-decoration-color: #00af00\">158</span>, <span style=\"color: #00af00; text-decoration-color: #00af00\">32</span>)        │             <span style=\"color: #00af00; text-decoration-color: #00af00\">0</span> │\n",
       "├─────────────────────────────────┼────────────────────────┼───────────────┤\n",
       "│ conv1d_3 (<span style=\"color: #0087ff; text-decoration-color: #0087ff\">Conv1D</span>)               │ (<span style=\"color: #00d7ff; text-decoration-color: #00d7ff\">None</span>, <span style=\"color: #00af00; text-decoration-color: #00af00\">156</span>, <span style=\"color: #00af00; text-decoration-color: #00af00\">64</span>)        │         <span style=\"color: #00af00; text-decoration-color: #00af00\">6,208</span> │\n",
       "├─────────────────────────────────┼────────────────────────┼───────────────┤\n",
       "│ leaky_re_lu_3 (<span style=\"color: #0087ff; text-decoration-color: #0087ff\">LeakyReLU</span>)       │ (<span style=\"color: #00d7ff; text-decoration-color: #00d7ff\">None</span>, <span style=\"color: #00af00; text-decoration-color: #00af00\">156</span>, <span style=\"color: #00af00; text-decoration-color: #00af00\">64</span>)        │             <span style=\"color: #00af00; text-decoration-color: #00af00\">0</span> │\n",
       "├─────────────────────────────────┼────────────────────────┼───────────────┤\n",
       "│ average_pooling1d_1             │ (<span style=\"color: #00d7ff; text-decoration-color: #00d7ff\">None</span>, <span style=\"color: #00af00; text-decoration-color: #00af00\">78</span>, <span style=\"color: #00af00; text-decoration-color: #00af00\">64</span>)         │             <span style=\"color: #00af00; text-decoration-color: #00af00\">0</span> │\n",
       "│ (<span style=\"color: #0087ff; text-decoration-color: #0087ff\">AveragePooling1D</span>)              │                        │               │\n",
       "├─────────────────────────────────┼────────────────────────┼───────────────┤\n",
       "│ conv1d_4 (<span style=\"color: #0087ff; text-decoration-color: #0087ff\">Conv1D</span>)               │ (<span style=\"color: #00d7ff; text-decoration-color: #00d7ff\">None</span>, <span style=\"color: #00af00; text-decoration-color: #00af00\">76</span>, <span style=\"color: #00af00; text-decoration-color: #00af00\">128</span>)        │        <span style=\"color: #00af00; text-decoration-color: #00af00\">24,704</span> │\n",
       "├─────────────────────────────────┼────────────────────────┼───────────────┤\n",
       "│ leaky_re_lu_4 (<span style=\"color: #0087ff; text-decoration-color: #0087ff\">LeakyReLU</span>)       │ (<span style=\"color: #00d7ff; text-decoration-color: #00d7ff\">None</span>, <span style=\"color: #00af00; text-decoration-color: #00af00\">76</span>, <span style=\"color: #00af00; text-decoration-color: #00af00\">128</span>)        │             <span style=\"color: #00af00; text-decoration-color: #00af00\">0</span> │\n",
       "├─────────────────────────────────┼────────────────────────┼───────────────┤\n",
       "│ average_pooling1d_2             │ (<span style=\"color: #00d7ff; text-decoration-color: #00d7ff\">None</span>, <span style=\"color: #00af00; text-decoration-color: #00af00\">38</span>, <span style=\"color: #00af00; text-decoration-color: #00af00\">128</span>)        │             <span style=\"color: #00af00; text-decoration-color: #00af00\">0</span> │\n",
       "│ (<span style=\"color: #0087ff; text-decoration-color: #0087ff\">AveragePooling1D</span>)              │                        │               │\n",
       "├─────────────────────────────────┼────────────────────────┼───────────────┤\n",
       "│ conv1d_5 (<span style=\"color: #0087ff; text-decoration-color: #0087ff\">Conv1D</span>)               │ (<span style=\"color: #00d7ff; text-decoration-color: #00d7ff\">None</span>, <span style=\"color: #00af00; text-decoration-color: #00af00\">36</span>, <span style=\"color: #00af00; text-decoration-color: #00af00\">256</span>)        │        <span style=\"color: #00af00; text-decoration-color: #00af00\">98,560</span> │\n",
       "├─────────────────────────────────┼────────────────────────┼───────────────┤\n",
       "│ leaky_re_lu_5 (<span style=\"color: #0087ff; text-decoration-color: #0087ff\">LeakyReLU</span>)       │ (<span style=\"color: #00d7ff; text-decoration-color: #00d7ff\">None</span>, <span style=\"color: #00af00; text-decoration-color: #00af00\">36</span>, <span style=\"color: #00af00; text-decoration-color: #00af00\">256</span>)        │             <span style=\"color: #00af00; text-decoration-color: #00af00\">0</span> │\n",
       "├─────────────────────────────────┼────────────────────────┼───────────────┤\n",
       "│ global_average_pooling1d        │ (<span style=\"color: #00d7ff; text-decoration-color: #00d7ff\">None</span>, <span style=\"color: #00af00; text-decoration-color: #00af00\">256</span>)            │             <span style=\"color: #00af00; text-decoration-color: #00af00\">0</span> │\n",
       "│ (<span style=\"color: #0087ff; text-decoration-color: #0087ff\">GlobalAveragePooling1D</span>)        │                        │               │\n",
       "├─────────────────────────────────┼────────────────────────┼───────────────┤\n",
       "│ dense (<span style=\"color: #0087ff; text-decoration-color: #0087ff\">Dense</span>)                   │ (<span style=\"color: #00d7ff; text-decoration-color: #00d7ff\">None</span>, <span style=\"color: #00af00; text-decoration-color: #00af00\">128</span>)            │        <span style=\"color: #00af00; text-decoration-color: #00af00\">32,896</span> │\n",
       "├─────────────────────────────────┼────────────────────────┼───────────────┤\n",
       "│ leaky_re_lu_6 (<span style=\"color: #0087ff; text-decoration-color: #0087ff\">LeakyReLU</span>)       │ (<span style=\"color: #00d7ff; text-decoration-color: #00d7ff\">None</span>, <span style=\"color: #00af00; text-decoration-color: #00af00\">128</span>)            │             <span style=\"color: #00af00; text-decoration-color: #00af00\">0</span> │\n",
       "├─────────────────────────────────┼────────────────────────┼───────────────┤\n",
       "│ dense_1 (<span style=\"color: #0087ff; text-decoration-color: #0087ff\">Dense</span>)                 │ (<span style=\"color: #00d7ff; text-decoration-color: #00d7ff\">None</span>, <span style=\"color: #00af00; text-decoration-color: #00af00\">64</span>)             │         <span style=\"color: #00af00; text-decoration-color: #00af00\">8,256</span> │\n",
       "├─────────────────────────────────┼────────────────────────┼───────────────┤\n",
       "│ leaky_re_lu_7 (<span style=\"color: #0087ff; text-decoration-color: #0087ff\">LeakyReLU</span>)       │ (<span style=\"color: #00d7ff; text-decoration-color: #00d7ff\">None</span>, <span style=\"color: #00af00; text-decoration-color: #00af00\">64</span>)             │             <span style=\"color: #00af00; text-decoration-color: #00af00\">0</span> │\n",
       "├─────────────────────────────────┼────────────────────────┼───────────────┤\n",
       "│ dense_2 (<span style=\"color: #0087ff; text-decoration-color: #0087ff\">Dense</span>)                 │ (<span style=\"color: #00d7ff; text-decoration-color: #00d7ff\">None</span>, <span style=\"color: #00af00; text-decoration-color: #00af00\">1</span>)              │            <span style=\"color: #00af00; text-decoration-color: #00af00\">65</span> │\n",
       "└─────────────────────────────────┴────────────────────────┴───────────────┘\n",
       "</pre>\n"
      ],
      "text/plain": [
       "┏━━━━━━━━━━━━━━━━━━━━━━━━━━━━━━━━━┳━━━━━━━━━━━━━━━━━━━━━━━━┳━━━━━━━━━━━━━━━┓\n",
       "┃\u001b[1m \u001b[0m\u001b[1mLayer (type)                   \u001b[0m\u001b[1m \u001b[0m┃\u001b[1m \u001b[0m\u001b[1mOutput Shape          \u001b[0m\u001b[1m \u001b[0m┃\u001b[1m \u001b[0m\u001b[1m      Param #\u001b[0m\u001b[1m \u001b[0m┃\n",
       "┡━━━━━━━━━━━━━━━━━━━━━━━━━━━━━━━━━╇━━━━━━━━━━━━━━━━━━━━━━━━╇━━━━━━━━━━━━━━━┩\n",
       "│ conv1d (\u001b[38;5;33mConv1D\u001b[0m)                 │ (\u001b[38;5;45mNone\u001b[0m, \u001b[38;5;34m1278\u001b[0m, \u001b[38;5;34m8\u001b[0m)        │           \u001b[38;5;34m464\u001b[0m │\n",
       "├─────────────────────────────────┼────────────────────────┼───────────────┤\n",
       "│ batch_normalization             │ (\u001b[38;5;45mNone\u001b[0m, \u001b[38;5;34m1278\u001b[0m, \u001b[38;5;34m8\u001b[0m)        │            \u001b[38;5;34m32\u001b[0m │\n",
       "│ (\u001b[38;5;33mBatchNormalization\u001b[0m)            │                        │               │\n",
       "├─────────────────────────────────┼────────────────────────┼───────────────┤\n",
       "│ leaky_re_lu (\u001b[38;5;33mLeakyReLU\u001b[0m)         │ (\u001b[38;5;45mNone\u001b[0m, \u001b[38;5;34m1278\u001b[0m, \u001b[38;5;34m8\u001b[0m)        │             \u001b[38;5;34m0\u001b[0m │\n",
       "├─────────────────────────────────┼────────────────────────┼───────────────┤\n",
       "│ max_pooling1d (\u001b[38;5;33mMaxPooling1D\u001b[0m)    │ (\u001b[38;5;45mNone\u001b[0m, \u001b[38;5;34m639\u001b[0m, \u001b[38;5;34m8\u001b[0m)         │             \u001b[38;5;34m0\u001b[0m │\n",
       "├─────────────────────────────────┼────────────────────────┼───────────────┤\n",
       "│ conv1d_1 (\u001b[38;5;33mConv1D\u001b[0m)               │ (\u001b[38;5;45mNone\u001b[0m, \u001b[38;5;34m637\u001b[0m, \u001b[38;5;34m16\u001b[0m)        │           \u001b[38;5;34m400\u001b[0m │\n",
       "├─────────────────────────────────┼────────────────────────┼───────────────┤\n",
       "│ leaky_re_lu_1 (\u001b[38;5;33mLeakyReLU\u001b[0m)       │ (\u001b[38;5;45mNone\u001b[0m, \u001b[38;5;34m637\u001b[0m, \u001b[38;5;34m16\u001b[0m)        │             \u001b[38;5;34m0\u001b[0m │\n",
       "├─────────────────────────────────┼────────────────────────┼───────────────┤\n",
       "│ max_pooling1d_1 (\u001b[38;5;33mMaxPooling1D\u001b[0m)  │ (\u001b[38;5;45mNone\u001b[0m, \u001b[38;5;34m318\u001b[0m, \u001b[38;5;34m16\u001b[0m)        │             \u001b[38;5;34m0\u001b[0m │\n",
       "├─────────────────────────────────┼────────────────────────┼───────────────┤\n",
       "│ dropout (\u001b[38;5;33mDropout\u001b[0m)               │ (\u001b[38;5;45mNone\u001b[0m, \u001b[38;5;34m318\u001b[0m, \u001b[38;5;34m16\u001b[0m)        │             \u001b[38;5;34m0\u001b[0m │\n",
       "├─────────────────────────────────┼────────────────────────┼───────────────┤\n",
       "│ conv1d_2 (\u001b[38;5;33mConv1D\u001b[0m)               │ (\u001b[38;5;45mNone\u001b[0m, \u001b[38;5;34m316\u001b[0m, \u001b[38;5;34m32\u001b[0m)        │         \u001b[38;5;34m1,568\u001b[0m │\n",
       "├─────────────────────────────────┼────────────────────────┼───────────────┤\n",
       "│ leaky_re_lu_2 (\u001b[38;5;33mLeakyReLU\u001b[0m)       │ (\u001b[38;5;45mNone\u001b[0m, \u001b[38;5;34m316\u001b[0m, \u001b[38;5;34m32\u001b[0m)        │             \u001b[38;5;34m0\u001b[0m │\n",
       "├─────────────────────────────────┼────────────────────────┼───────────────┤\n",
       "│ average_pooling1d               │ (\u001b[38;5;45mNone\u001b[0m, \u001b[38;5;34m158\u001b[0m, \u001b[38;5;34m32\u001b[0m)        │             \u001b[38;5;34m0\u001b[0m │\n",
       "│ (\u001b[38;5;33mAveragePooling1D\u001b[0m)              │                        │               │\n",
       "├─────────────────────────────────┼────────────────────────┼───────────────┤\n",
       "│ dropout_1 (\u001b[38;5;33mDropout\u001b[0m)             │ (\u001b[38;5;45mNone\u001b[0m, \u001b[38;5;34m158\u001b[0m, \u001b[38;5;34m32\u001b[0m)        │             \u001b[38;5;34m0\u001b[0m │\n",
       "├─────────────────────────────────┼────────────────────────┼───────────────┤\n",
       "│ conv1d_3 (\u001b[38;5;33mConv1D\u001b[0m)               │ (\u001b[38;5;45mNone\u001b[0m, \u001b[38;5;34m156\u001b[0m, \u001b[38;5;34m64\u001b[0m)        │         \u001b[38;5;34m6,208\u001b[0m │\n",
       "├─────────────────────────────────┼────────────────────────┼───────────────┤\n",
       "│ leaky_re_lu_3 (\u001b[38;5;33mLeakyReLU\u001b[0m)       │ (\u001b[38;5;45mNone\u001b[0m, \u001b[38;5;34m156\u001b[0m, \u001b[38;5;34m64\u001b[0m)        │             \u001b[38;5;34m0\u001b[0m │\n",
       "├─────────────────────────────────┼────────────────────────┼───────────────┤\n",
       "│ average_pooling1d_1             │ (\u001b[38;5;45mNone\u001b[0m, \u001b[38;5;34m78\u001b[0m, \u001b[38;5;34m64\u001b[0m)         │             \u001b[38;5;34m0\u001b[0m │\n",
       "│ (\u001b[38;5;33mAveragePooling1D\u001b[0m)              │                        │               │\n",
       "├─────────────────────────────────┼────────────────────────┼───────────────┤\n",
       "│ conv1d_4 (\u001b[38;5;33mConv1D\u001b[0m)               │ (\u001b[38;5;45mNone\u001b[0m, \u001b[38;5;34m76\u001b[0m, \u001b[38;5;34m128\u001b[0m)        │        \u001b[38;5;34m24,704\u001b[0m │\n",
       "├─────────────────────────────────┼────────────────────────┼───────────────┤\n",
       "│ leaky_re_lu_4 (\u001b[38;5;33mLeakyReLU\u001b[0m)       │ (\u001b[38;5;45mNone\u001b[0m, \u001b[38;5;34m76\u001b[0m, \u001b[38;5;34m128\u001b[0m)        │             \u001b[38;5;34m0\u001b[0m │\n",
       "├─────────────────────────────────┼────────────────────────┼───────────────┤\n",
       "│ average_pooling1d_2             │ (\u001b[38;5;45mNone\u001b[0m, \u001b[38;5;34m38\u001b[0m, \u001b[38;5;34m128\u001b[0m)        │             \u001b[38;5;34m0\u001b[0m │\n",
       "│ (\u001b[38;5;33mAveragePooling1D\u001b[0m)              │                        │               │\n",
       "├─────────────────────────────────┼────────────────────────┼───────────────┤\n",
       "│ conv1d_5 (\u001b[38;5;33mConv1D\u001b[0m)               │ (\u001b[38;5;45mNone\u001b[0m, \u001b[38;5;34m36\u001b[0m, \u001b[38;5;34m256\u001b[0m)        │        \u001b[38;5;34m98,560\u001b[0m │\n",
       "├─────────────────────────────────┼────────────────────────┼───────────────┤\n",
       "│ leaky_re_lu_5 (\u001b[38;5;33mLeakyReLU\u001b[0m)       │ (\u001b[38;5;45mNone\u001b[0m, \u001b[38;5;34m36\u001b[0m, \u001b[38;5;34m256\u001b[0m)        │             \u001b[38;5;34m0\u001b[0m │\n",
       "├─────────────────────────────────┼────────────────────────┼───────────────┤\n",
       "│ global_average_pooling1d        │ (\u001b[38;5;45mNone\u001b[0m, \u001b[38;5;34m256\u001b[0m)            │             \u001b[38;5;34m0\u001b[0m │\n",
       "│ (\u001b[38;5;33mGlobalAveragePooling1D\u001b[0m)        │                        │               │\n",
       "├─────────────────────────────────┼────────────────────────┼───────────────┤\n",
       "│ dense (\u001b[38;5;33mDense\u001b[0m)                   │ (\u001b[38;5;45mNone\u001b[0m, \u001b[38;5;34m128\u001b[0m)            │        \u001b[38;5;34m32,896\u001b[0m │\n",
       "├─────────────────────────────────┼────────────────────────┼───────────────┤\n",
       "│ leaky_re_lu_6 (\u001b[38;5;33mLeakyReLU\u001b[0m)       │ (\u001b[38;5;45mNone\u001b[0m, \u001b[38;5;34m128\u001b[0m)            │             \u001b[38;5;34m0\u001b[0m │\n",
       "├─────────────────────────────────┼────────────────────────┼───────────────┤\n",
       "│ dense_1 (\u001b[38;5;33mDense\u001b[0m)                 │ (\u001b[38;5;45mNone\u001b[0m, \u001b[38;5;34m64\u001b[0m)             │         \u001b[38;5;34m8,256\u001b[0m │\n",
       "├─────────────────────────────────┼────────────────────────┼───────────────┤\n",
       "│ leaky_re_lu_7 (\u001b[38;5;33mLeakyReLU\u001b[0m)       │ (\u001b[38;5;45mNone\u001b[0m, \u001b[38;5;34m64\u001b[0m)             │             \u001b[38;5;34m0\u001b[0m │\n",
       "├─────────────────────────────────┼────────────────────────┼───────────────┤\n",
       "│ dense_2 (\u001b[38;5;33mDense\u001b[0m)                 │ (\u001b[38;5;45mNone\u001b[0m, \u001b[38;5;34m1\u001b[0m)              │            \u001b[38;5;34m65\u001b[0m │\n",
       "└─────────────────────────────────┴────────────────────────┴───────────────┘\n"
      ]
     },
     "metadata": {},
     "output_type": "display_data"
    },
    {
     "data": {
      "text/html": [
       "<pre style=\"white-space:pre;overflow-x:auto;line-height:normal;font-family:Menlo,'DejaVu Sans Mono',consolas,'Courier New',monospace\"><span style=\"font-weight: bold\"> Total params: </span><span style=\"color: #00af00; text-decoration-color: #00af00\">173,153</span> (676.38 KB)\n",
       "</pre>\n"
      ],
      "text/plain": [
       "\u001b[1m Total params: \u001b[0m\u001b[38;5;34m173,153\u001b[0m (676.38 KB)\n"
      ]
     },
     "metadata": {},
     "output_type": "display_data"
    },
    {
     "data": {
      "text/html": [
       "<pre style=\"white-space:pre;overflow-x:auto;line-height:normal;font-family:Menlo,'DejaVu Sans Mono',consolas,'Courier New',monospace\"><span style=\"font-weight: bold\"> Trainable params: </span><span style=\"color: #00af00; text-decoration-color: #00af00\">173,137</span> (676.32 KB)\n",
       "</pre>\n"
      ],
      "text/plain": [
       "\u001b[1m Trainable params: \u001b[0m\u001b[38;5;34m173,137\u001b[0m (676.32 KB)\n"
      ]
     },
     "metadata": {},
     "output_type": "display_data"
    },
    {
     "data": {
      "text/html": [
       "<pre style=\"white-space:pre;overflow-x:auto;line-height:normal;font-family:Menlo,'DejaVu Sans Mono',consolas,'Courier New',monospace\"><span style=\"font-weight: bold\"> Non-trainable params: </span><span style=\"color: #00af00; text-decoration-color: #00af00\">16</span> (64.00 B)\n",
       "</pre>\n"
      ],
      "text/plain": [
       "\u001b[1m Non-trainable params: \u001b[0m\u001b[38;5;34m16\u001b[0m (64.00 B)\n"
      ]
     },
     "metadata": {},
     "output_type": "display_data"
    }
   ],
   "source": [
    "#creating cnn model suitable for the data\n",
    "\n",
    "model = Sequential([\n",
    "        layers.Conv1D(filters=8, kernel_size=3, strides=1, input_shape=(1280, 19)), # 1\n",
    "        layers.BatchNormalization(),\n",
    "        layers.LeakyReLU(),\n",
    "        layers.MaxPool1D(pool_size=2, strides=2), # 2\n",
    "        layers.Conv1D(filters=16, kernel_size=3, strides=1), # 3\n",
    "        layers.LeakyReLU(),\n",
    "        layers.MaxPool1D(pool_size=2, strides=2), # 4\n",
    "        layers.Dropout(0.5),\n",
    "        layers.Conv1D(filters=32, kernel_size=3, strides=1), # 5\n",
    "        layers.LeakyReLU(),\n",
    "        layers.AveragePooling1D(pool_size=2, strides=2), # 6\n",
    "        layers.Dropout(0.5),\n",
    "        layers.Conv1D(filters=64, kernel_size=3, strides=1), # 7\n",
    "        layers.LeakyReLU(),\n",
    "        layers.AveragePooling1D(pool_size=2, strides=2), # 8\n",
    "        layers.Conv1D(filters=128, kernel_size=3, strides=1), # 9\n",
    "        layers.LeakyReLU(),\n",
    "        layers.AveragePooling1D(pool_size=2, strides=2), # 10\n",
    "        layers.Conv1D(filters=256, kernel_size=3, strides=1), # 11\n",
    "        layers.LeakyReLU(),\n",
    "        layers.GlobalAveragePooling1D(), # 12\n",
    "        layers.Dense(128), # 13\n",
    "        layers.LeakyReLU(),\n",
    "        layers.Dense(64), # 14\n",
    "        layers.LeakyReLU(),\n",
    "        layers.Dense(1, activation='sigmoid') # 15\n",
    "])\n",
    "model.compile(optimizer='adam', loss='binary_crossentropy', metrics=['accuracy'])\n",
    "model.summary()"
   ]
  },
  {
   "cell_type": "code",
   "execution_count": 12,
   "id": "0a42a8c4",
   "metadata": {
    "execution": {
     "iopub.execute_input": "2024-05-19T13:01:55.201456Z",
     "iopub.status.busy": "2024-05-19T13:01:55.201004Z",
     "iopub.status.idle": "2024-05-19T13:01:56.528068Z",
     "shell.execute_reply": "2024-05-19T13:01:56.526812Z"
    },
    "papermill": {
     "duration": 1.476357,
     "end_time": "2024-05-19T13:01:56.530907",
     "exception": false,
     "start_time": "2024-05-19T13:01:55.054550",
     "status": "completed"
    },
    "tags": []
   },
   "outputs": [],
   "source": [
    "from sklearn.model_selection import train_test_split\n",
    "from sklearn.preprocessing import StandardScaler\n",
    "\n",
    "# Split dataset into train, validation, and test sets\n",
    "train_features, test_val_features, train_labels, test_val_labels = train_test_split(data_array, label_array, test_size=0.2, random_state=42)\n",
    "val_features, test_features, val_labels, test_labels = train_test_split(test_val_features, test_val_labels, test_size=0.5, random_state=42)\n",
    "\n",
    "# Standardize features\n",
    "scaler = StandardScaler()\n",
    "train_features = scaler.fit_transform(train_features.reshape(-1, train_features.shape[-1])).reshape(train_features.shape)\n",
    "val_features = scaler.transform(val_features.reshape(-1, val_features.shape[-1])).reshape(val_features.shape)\n",
    "test_features = scaler.transform(test_features.reshape(-1, test_features.shape[-1])).reshape(test_features.shape)"
   ]
  },
  {
   "cell_type": "code",
   "execution_count": 13,
   "id": "59a55795",
   "metadata": {
    "execution": {
     "iopub.execute_input": "2024-05-19T13:01:56.824630Z",
     "iopub.status.busy": "2024-05-19T13:01:56.823863Z",
     "iopub.status.idle": "2024-05-19T13:03:38.526179Z",
     "shell.execute_reply": "2024-05-19T13:03:38.524565Z"
    },
    "papermill": {
     "duration": 101.851929,
     "end_time": "2024-05-19T13:03:38.528884",
     "exception": false,
     "start_time": "2024-05-19T13:01:56.676955",
     "status": "completed"
    },
    "tags": []
   },
   "outputs": [
    {
     "name": "stdout",
     "output_type": "stream",
     "text": [
      "Epoch 1/50\n",
      "\u001b[1m13/13\u001b[0m \u001b[32m━━━━━━━━━━━━━━━━━━━━\u001b[0m\u001b[37m\u001b[0m \u001b[1m6s\u001b[0m 150ms/step - accuracy: 0.5318 - loss: 0.6930 - val_accuracy: 0.6087 - val_loss: 0.6878\n",
      "Epoch 2/50\n",
      "\u001b[1m13/13\u001b[0m \u001b[32m━━━━━━━━━━━━━━━━━━━━\u001b[0m\u001b[37m\u001b[0m \u001b[1m2s\u001b[0m 116ms/step - accuracy: 0.5562 - loss: 0.6851 - val_accuracy: 0.5714 - val_loss: 0.6479\n",
      "Epoch 3/50\n",
      "\u001b[1m13/13\u001b[0m \u001b[32m━━━━━━━━━━━━━━━━━━━━\u001b[0m\u001b[37m\u001b[0m \u001b[1m2s\u001b[0m 115ms/step - accuracy: 0.6495 - loss: 0.6410 - val_accuracy: 0.6087 - val_loss: 0.6215\n",
      "Epoch 4/50\n",
      "\u001b[1m13/13\u001b[0m \u001b[32m━━━━━━━━━━━━━━━━━━━━\u001b[0m\u001b[37m\u001b[0m \u001b[1m2s\u001b[0m 114ms/step - accuracy: 0.6671 - loss: 0.6156 - val_accuracy: 0.6584 - val_loss: 0.5999\n",
      "Epoch 5/50\n",
      "\u001b[1m13/13\u001b[0m \u001b[32m━━━━━━━━━━━━━━━━━━━━\u001b[0m\u001b[37m\u001b[0m \u001b[1m3s\u001b[0m 150ms/step - accuracy: 0.6841 - loss: 0.6012 - val_accuracy: 0.7143 - val_loss: 0.5597\n",
      "Epoch 6/50\n",
      "\u001b[1m13/13\u001b[0m \u001b[32m━━━━━━━━━━━━━━━━━━━━\u001b[0m\u001b[37m\u001b[0m \u001b[1m2s\u001b[0m 115ms/step - accuracy: 0.6830 - loss: 0.5889 - val_accuracy: 0.7019 - val_loss: 0.5399\n",
      "Epoch 7/50\n",
      "\u001b[1m13/13\u001b[0m \u001b[32m━━━━━━━━━━━━━━━━━━━━\u001b[0m\u001b[37m\u001b[0m \u001b[1m2s\u001b[0m 119ms/step - accuracy: 0.7086 - loss: 0.5600 - val_accuracy: 0.7267 - val_loss: 0.5320\n",
      "Epoch 8/50\n",
      "\u001b[1m13/13\u001b[0m \u001b[32m━━━━━━━━━━━━━━━━━━━━\u001b[0m\u001b[37m\u001b[0m \u001b[1m2s\u001b[0m 119ms/step - accuracy: 0.7152 - loss: 0.5340 - val_accuracy: 0.7391 - val_loss: 0.5030\n",
      "Epoch 9/50\n",
      "\u001b[1m13/13\u001b[0m \u001b[32m━━━━━━━━━━━━━━━━━━━━\u001b[0m\u001b[37m\u001b[0m \u001b[1m2s\u001b[0m 112ms/step - accuracy: 0.7488 - loss: 0.5135 - val_accuracy: 0.7702 - val_loss: 0.5046\n",
      "Epoch 10/50\n",
      "\u001b[1m13/13\u001b[0m \u001b[32m━━━━━━━━━━━━━━━━━━━━\u001b[0m\u001b[37m\u001b[0m \u001b[1m1s\u001b[0m 111ms/step - accuracy: 0.7313 - loss: 0.5333 - val_accuracy: 0.7267 - val_loss: 0.4990\n",
      "Epoch 11/50\n",
      "\u001b[1m13/13\u001b[0m \u001b[32m━━━━━━━━━━━━━━━━━━━━\u001b[0m\u001b[37m\u001b[0m \u001b[1m2s\u001b[0m 115ms/step - accuracy: 0.7744 - loss: 0.4543 - val_accuracy: 0.7888 - val_loss: 0.4565\n",
      "Epoch 12/50\n",
      "\u001b[1m13/13\u001b[0m \u001b[32m━━━━━━━━━━━━━━━━━━━━\u001b[0m\u001b[37m\u001b[0m \u001b[1m1s\u001b[0m 111ms/step - accuracy: 0.7765 - loss: 0.4702 - val_accuracy: 0.7888 - val_loss: 0.4591\n",
      "Epoch 13/50\n",
      "\u001b[1m13/13\u001b[0m \u001b[32m━━━━━━━━━━━━━━━━━━━━\u001b[0m\u001b[37m\u001b[0m \u001b[1m2s\u001b[0m 117ms/step - accuracy: 0.8014 - loss: 0.4237 - val_accuracy: 0.8012 - val_loss: 0.4436\n",
      "Epoch 14/50\n",
      "\u001b[1m13/13\u001b[0m \u001b[32m━━━━━━━━━━━━━━━━━━━━\u001b[0m\u001b[37m\u001b[0m \u001b[1m3s\u001b[0m 123ms/step - accuracy: 0.7931 - loss: 0.4421 - val_accuracy: 0.7081 - val_loss: 0.5196\n",
      "Epoch 15/50\n",
      "\u001b[1m13/13\u001b[0m \u001b[32m━━━━━━━━━━━━━━━━━━━━\u001b[0m\u001b[37m\u001b[0m \u001b[1m2s\u001b[0m 119ms/step - accuracy: 0.7928 - loss: 0.4299 - val_accuracy: 0.7888 - val_loss: 0.4014\n",
      "Epoch 16/50\n",
      "\u001b[1m13/13\u001b[0m \u001b[32m━━━━━━━━━━━━━━━━━━━━\u001b[0m\u001b[37m\u001b[0m \u001b[1m1s\u001b[0m 111ms/step - accuracy: 0.8091 - loss: 0.4316 - val_accuracy: 0.8137 - val_loss: 0.4240\n",
      "Epoch 17/50\n",
      "\u001b[1m13/13\u001b[0m \u001b[32m━━━━━━━━━━━━━━━━━━━━\u001b[0m\u001b[37m\u001b[0m \u001b[1m2s\u001b[0m 115ms/step - accuracy: 0.8346 - loss: 0.3851 - val_accuracy: 0.8012 - val_loss: 0.3972\n",
      "Epoch 18/50\n",
      "\u001b[1m13/13\u001b[0m \u001b[32m━━━━━━━━━━━━━━━━━━━━\u001b[0m\u001b[37m\u001b[0m \u001b[1m3s\u001b[0m 123ms/step - accuracy: 0.8372 - loss: 0.3733 - val_accuracy: 0.8012 - val_loss: 0.4201\n",
      "Epoch 19/50\n",
      "\u001b[1m13/13\u001b[0m \u001b[32m━━━━━━━━━━━━━━━━━━━━\u001b[0m\u001b[37m\u001b[0m \u001b[1m1s\u001b[0m 109ms/step - accuracy: 0.8514 - loss: 0.3580 - val_accuracy: 0.8199 - val_loss: 0.3659\n",
      "Epoch 20/50\n",
      "\u001b[1m13/13\u001b[0m \u001b[32m━━━━━━━━━━━━━━━━━━━━\u001b[0m\u001b[37m\u001b[0m \u001b[1m3s\u001b[0m 111ms/step - accuracy: 0.8557 - loss: 0.3397 - val_accuracy: 0.8509 - val_loss: 0.3527\n",
      "Epoch 21/50\n",
      "\u001b[1m13/13\u001b[0m \u001b[32m━━━━━━━━━━━━━━━━━━━━\u001b[0m\u001b[37m\u001b[0m \u001b[1m1s\u001b[0m 110ms/step - accuracy: 0.8438 - loss: 0.3332 - val_accuracy: 0.8137 - val_loss: 0.3805\n",
      "Epoch 22/50\n",
      "\u001b[1m13/13\u001b[0m \u001b[32m━━━━━━━━━━━━━━━━━━━━\u001b[0m\u001b[37m\u001b[0m \u001b[1m3s\u001b[0m 129ms/step - accuracy: 0.8370 - loss: 0.3550 - val_accuracy: 0.8509 - val_loss: 0.3698\n",
      "Epoch 23/50\n",
      "\u001b[1m13/13\u001b[0m \u001b[32m━━━━━━━━━━━━━━━━━━━━\u001b[0m\u001b[37m\u001b[0m \u001b[1m2s\u001b[0m 115ms/step - accuracy: 0.8479 - loss: 0.3560 - val_accuracy: 0.7578 - val_loss: 0.4710\n",
      "Epoch 24/50\n",
      "\u001b[1m13/13\u001b[0m \u001b[32m━━━━━━━━━━━━━━━━━━━━\u001b[0m\u001b[37m\u001b[0m \u001b[1m3s\u001b[0m 113ms/step - accuracy: 0.8366 - loss: 0.3602 - val_accuracy: 0.8385 - val_loss: 0.3375\n",
      "Epoch 25/50\n",
      "\u001b[1m13/13\u001b[0m \u001b[32m━━━━━━━━━━━━━━━━━━━━\u001b[0m\u001b[37m\u001b[0m \u001b[1m1s\u001b[0m 109ms/step - accuracy: 0.8277 - loss: 0.3816 - val_accuracy: 0.8323 - val_loss: 0.3721\n",
      "Epoch 26/50\n",
      "\u001b[1m13/13\u001b[0m \u001b[32m━━━━━━━━━━━━━━━━━━━━\u001b[0m\u001b[37m\u001b[0m \u001b[1m1s\u001b[0m 112ms/step - accuracy: 0.8466 - loss: 0.3377 - val_accuracy: 0.7702 - val_loss: 0.5372\n",
      "Epoch 27/50\n",
      "\u001b[1m13/13\u001b[0m \u001b[32m━━━━━━━━━━━━━━━━━━━━\u001b[0m\u001b[37m\u001b[0m \u001b[1m1s\u001b[0m 111ms/step - accuracy: 0.8605 - loss: 0.3176 - val_accuracy: 0.7267 - val_loss: 0.6206\n",
      "Epoch 28/50\n",
      "\u001b[1m13/13\u001b[0m \u001b[32m━━━━━━━━━━━━━━━━━━━━\u001b[0m\u001b[37m\u001b[0m \u001b[1m3s\u001b[0m 120ms/step - accuracy: 0.8399 - loss: 0.3329 - val_accuracy: 0.8447 - val_loss: 0.4013\n",
      "Epoch 29/50\n",
      "\u001b[1m13/13\u001b[0m \u001b[32m━━━━━━━━━━━━━━━━━━━━\u001b[0m\u001b[37m\u001b[0m \u001b[1m1s\u001b[0m 112ms/step - accuracy: 0.8760 - loss: 0.3088 - val_accuracy: 0.7081 - val_loss: 0.5910\n",
      "Epoch 30/50\n",
      "\u001b[1m13/13\u001b[0m \u001b[32m━━━━━━━━━━━━━━━━━━━━\u001b[0m\u001b[37m\u001b[0m \u001b[1m3s\u001b[0m 122ms/step - accuracy: 0.8435 - loss: 0.3237 - val_accuracy: 0.8261 - val_loss: 0.3765\n",
      "Epoch 31/50\n",
      "\u001b[1m13/13\u001b[0m \u001b[32m━━━━━━━━━━━━━━━━━━━━\u001b[0m\u001b[37m\u001b[0m \u001b[1m1s\u001b[0m 111ms/step - accuracy: 0.8381 - loss: 0.3693 - val_accuracy: 0.8385 - val_loss: 0.3558\n",
      "Epoch 32/50\n",
      "\u001b[1m13/13\u001b[0m \u001b[32m━━━━━━━━━━━━━━━━━━━━\u001b[0m\u001b[37m\u001b[0m \u001b[1m3s\u001b[0m 116ms/step - accuracy: 0.8349 - loss: 0.3505 - val_accuracy: 0.7578 - val_loss: 0.5369\n",
      "Epoch 33/50\n",
      "\u001b[1m13/13\u001b[0m \u001b[32m━━━━━━━━━━━━━━━━━━━━\u001b[0m\u001b[37m\u001b[0m \u001b[1m2s\u001b[0m 110ms/step - accuracy: 0.8532 - loss: 0.3169 - val_accuracy: 0.7764 - val_loss: 0.4919\n",
      "Epoch 34/50\n",
      "\u001b[1m13/13\u001b[0m \u001b[32m━━━━━━━━━━━━━━━━━━━━\u001b[0m\u001b[37m\u001b[0m \u001b[1m1s\u001b[0m 109ms/step - accuracy: 0.8515 - loss: 0.3263 - val_accuracy: 0.7764 - val_loss: 0.4784\n",
      "Epoch 35/50\n",
      "\u001b[1m13/13\u001b[0m \u001b[32m━━━━━━━━━━━━━━━━━━━━\u001b[0m\u001b[37m\u001b[0m \u001b[1m3s\u001b[0m 114ms/step - accuracy: 0.8647 - loss: 0.2863 - val_accuracy: 0.7329 - val_loss: 0.6465\n",
      "Epoch 36/50\n",
      "\u001b[1m13/13\u001b[0m \u001b[32m━━━━━━━━━━━━━━━━━━━━\u001b[0m\u001b[37m\u001b[0m \u001b[1m1s\u001b[0m 108ms/step - accuracy: 0.8659 - loss: 0.2902 - val_accuracy: 0.7391 - val_loss: 0.6608\n",
      "Epoch 37/50\n",
      "\u001b[1m13/13\u001b[0m \u001b[32m━━━━━━━━━━━━━━━━━━━━\u001b[0m\u001b[37m\u001b[0m \u001b[1m1s\u001b[0m 109ms/step - accuracy: 0.8649 - loss: 0.3109 - val_accuracy: 0.7329 - val_loss: 0.6168\n",
      "Epoch 38/50\n",
      "\u001b[1m13/13\u001b[0m \u001b[32m━━━━━━━━━━━━━━━━━━━━\u001b[0m\u001b[37m\u001b[0m \u001b[1m3s\u001b[0m 138ms/step - accuracy: 0.8669 - loss: 0.2874 - val_accuracy: 0.6273 - val_loss: 1.0996\n",
      "Epoch 39/50\n",
      "\u001b[1m13/13\u001b[0m \u001b[32m━━━━━━━━━━━━━━━━━━━━\u001b[0m\u001b[37m\u001b[0m \u001b[1m2s\u001b[0m 110ms/step - accuracy: 0.8602 - loss: 0.3145 - val_accuracy: 0.6398 - val_loss: 1.1882\n",
      "Epoch 40/50\n",
      "\u001b[1m13/13\u001b[0m \u001b[32m━━━━━━━━━━━━━━━━━━━━\u001b[0m\u001b[37m\u001b[0m \u001b[1m3s\u001b[0m 118ms/step - accuracy: 0.8627 - loss: 0.2741 - val_accuracy: 0.5839 - val_loss: 1.5643\n",
      "Epoch 41/50\n",
      "\u001b[1m13/13\u001b[0m \u001b[32m━━━━━━━━━━━━━━━━━━━━\u001b[0m\u001b[37m\u001b[0m \u001b[1m1s\u001b[0m 110ms/step - accuracy: 0.8808 - loss: 0.2811 - val_accuracy: 0.5839 - val_loss: 1.5688\n",
      "Epoch 42/50\n",
      "\u001b[1m13/13\u001b[0m \u001b[32m━━━━━━━━━━━━━━━━━━━━\u001b[0m\u001b[37m\u001b[0m \u001b[1m1s\u001b[0m 109ms/step - accuracy: 0.8882 - loss: 0.2837 - val_accuracy: 0.7516 - val_loss: 0.5288\n",
      "Epoch 43/50\n",
      "\u001b[1m13/13\u001b[0m \u001b[32m━━━━━━━━━━━━━━━━━━━━\u001b[0m\u001b[37m\u001b[0m \u001b[1m1s\u001b[0m 113ms/step - accuracy: 0.8561 - loss: 0.2948 - val_accuracy: 0.6398 - val_loss: 1.2720\n",
      "Epoch 44/50\n",
      "\u001b[1m13/13\u001b[0m \u001b[32m━━━━━━━━━━━━━━━━━━━━\u001b[0m\u001b[37m\u001b[0m \u001b[1m1s\u001b[0m 112ms/step - accuracy: 0.8844 - loss: 0.2600 - val_accuracy: 0.6460 - val_loss: 0.9620\n",
      "Epoch 45/50\n",
      "\u001b[1m13/13\u001b[0m \u001b[32m━━━━━━━━━━━━━━━━━━━━\u001b[0m\u001b[37m\u001b[0m \u001b[1m3s\u001b[0m 114ms/step - accuracy: 0.8875 - loss: 0.2560 - val_accuracy: 0.6460 - val_loss: 1.0637\n",
      "Epoch 46/50\n",
      "\u001b[1m13/13\u001b[0m \u001b[32m━━━━━━━━━━━━━━━━━━━━\u001b[0m\u001b[37m\u001b[0m \u001b[1m3s\u001b[0m 116ms/step - accuracy: 0.8906 - loss: 0.2371 - val_accuracy: 0.7391 - val_loss: 0.5909\n",
      "Epoch 47/50\n",
      "\u001b[1m13/13\u001b[0m \u001b[32m━━━━━━━━━━━━━━━━━━━━\u001b[0m\u001b[37m\u001b[0m \u001b[1m2s\u001b[0m 114ms/step - accuracy: 0.8804 - loss: 0.2831 - val_accuracy: 0.7143 - val_loss: 0.6473\n",
      "Epoch 48/50\n",
      "\u001b[1m13/13\u001b[0m \u001b[32m━━━━━━━━━━━━━━━━━━━━\u001b[0m\u001b[37m\u001b[0m \u001b[1m2s\u001b[0m 117ms/step - accuracy: 0.8969 - loss: 0.2460 - val_accuracy: 0.6398 - val_loss: 1.2849\n",
      "Epoch 49/50\n",
      "\u001b[1m13/13\u001b[0m \u001b[32m━━━━━━━━━━━━━━━━━━━━\u001b[0m\u001b[37m\u001b[0m \u001b[1m2s\u001b[0m 114ms/step - accuracy: 0.8797 - loss: 0.2837 - val_accuracy: 0.6584 - val_loss: 0.9997\n",
      "Epoch 50/50\n",
      "\u001b[1m13/13\u001b[0m \u001b[32m━━━━━━━━━━━━━━━━━━━━\u001b[0m\u001b[37m\u001b[0m \u001b[1m2s\u001b[0m 109ms/step - accuracy: 0.8964 - loss: 0.2493 - val_accuracy: 0.6584 - val_loss: 0.8880\n"
     ]
    },
    {
     "data": {
      "text/plain": [
       "<keras.src.callbacks.history.History at 0x7cebac13eb30>"
      ]
     },
     "execution_count": 13,
     "metadata": {},
     "output_type": "execute_result"
    }
   ],
   "source": [
    "# Train the model\n",
    "model.fit(train_features, train_labels, epochs=50, batch_size=100, validation_data=(val_features, val_labels))"
   ]
  },
  {
   "cell_type": "code",
   "execution_count": 14,
   "id": "f30e6632",
   "metadata": {
    "execution": {
     "iopub.execute_input": "2024-05-19T13:03:38.969884Z",
     "iopub.status.busy": "2024-05-19T13:03:38.969281Z",
     "iopub.status.idle": "2024-05-19T13:03:40.232298Z",
     "shell.execute_reply": "2024-05-19T13:03:40.231093Z"
    },
    "papermill": {
     "duration": 1.485344,
     "end_time": "2024-05-19T13:03:40.235118",
     "exception": false,
     "start_time": "2024-05-19T13:03:38.749774",
     "status": "completed"
    },
    "tags": []
   },
   "outputs": [
    {
     "name": "stdout",
     "output_type": "stream",
     "text": [
      "\u001b[1m6/6\u001b[0m \u001b[32m━━━━━━━━━━━━━━━━━━━━\u001b[0m\u001b[37m\u001b[0m \u001b[1m0s\u001b[0m 47ms/step\n"
     ]
    },
    {
     "data": {
      "image/png": "[encoded data removed]",
      "text/plain": [
       "<Figure size 640x480 with 2 Axes>"
      ]
     },
     "metadata": {},
     "output_type": "display_data"
    },
    {
     "name": "stdout",
     "output_type": "stream",
     "text": [
      "\u001b[1m6/6\u001b[0m \u001b[32m━━━━━━━━━━━━━━━━━━━━\u001b[0m\u001b[37m\u001b[0m \u001b[1m0s\u001b[0m 12ms/step - accuracy: 0.6974 - loss: 0.7480\n"
     ]
    }
   ],
   "source": [
    "import numpy as np\n",
    "import matplotlib.pyplot as plt\n",
    "from sklearn.metrics import confusion_matrix\n",
    "from sklearn.metrics import ConfusionMatrixDisplay\n",
    "from sklearn.preprocessing import StandardScaler\n",
    "# Make predictions on test set\n",
    "predictions = model.predict(test_features)\n",
    "binary_predictions = np.round(predictions).flatten()\n",
    "\n",
    "# Calculate confusion matrix\n",
    "cm = confusion_matrix(test_labels, binary_predictions)\n",
    "\n",
    "# Plot confusion matrix\n",
    "labels = ['Normal', 'adhd']  \n",
    "display_labels = ['True ' + label for label in labels]\n",
    "disp = ConfusionMatrixDisplay(confusion_matrix=cm, display_labels=display_labels)\n",
    "disp.plot(cmap=plt.cm.Blues, values_format='d')\n",
    "plt.title('Confusion Matrix')\n",
    "plt.show()\n",
    "\n",
    "accuracy=[]\n",
    "# Calculate accuracy\n",
    "accuracy.append(model.evaluate(test_features, test_labels)[1])"
   ]
  },
  {
   "cell_type": "code",
   "execution_count": 15,
   "id": "88077d62",
   "metadata": {
    "execution": {
     "iopub.execute_input": "2024-05-19T13:03:40.679277Z",
     "iopub.status.busy": "2024-05-19T13:03:40.678890Z",
     "iopub.status.idle": "2024-05-19T13:03:40.685448Z",
     "shell.execute_reply": "2024-05-19T13:03:40.684274Z"
    },
    "papermill": {
     "duration": 0.23,
     "end_time": "2024-05-19T13:03:40.688297",
     "exception": false,
     "start_time": "2024-05-19T13:03:40.458297",
     "status": "completed"
    },
    "tags": []
   },
   "outputs": [
    {
     "name": "stdout",
     "output_type": "stream",
     "text": [
      "Sensitivity: 0.3194444444444444\n",
      "Specificity: 0.9887640449438202\n"
     ]
    }
   ],
   "source": [
    "#calculating sensitivity and specificity\n",
    "tn, fp, fn, tp = cm.ravel()\n",
    "\n",
    "sensitivity = tp / (tp + fn)\n",
    "specificity = tn / (tn + fp)\n",
    "print(f\"Sensitivity: {sensitivity}\")\n",
    "print(f\"Specificity: {specificity}\")"
   ]
  },
  {
   "cell_type": "code",
   "execution_count": 16,
   "id": "e49ce55e",
   "metadata": {
    "execution": {
     "iopub.execute_input": "2024-05-19T13:03:41.125181Z",
     "iopub.status.busy": "2024-05-19T13:03:41.124773Z",
     "iopub.status.idle": "2024-05-19T13:03:41.141991Z",
     "shell.execute_reply": "2024-05-19T13:03:41.140629Z"
    },
    "papermill": {
     "duration": 0.237852,
     "end_time": "2024-05-19T13:03:41.144447",
     "exception": false,
     "start_time": "2024-05-19T13:03:40.906595",
     "status": "completed"
    },
    "tags": []
   },
   "outputs": [
    {
     "name": "stdout",
     "output_type": "stream",
     "text": [
      "              precision    recall  f1-score   support\n",
      "\n",
      "      NORMAL       0.64      0.99      0.78        89\n",
      "        ADHD       0.96      0.32      0.48        72\n",
      "\n",
      "    accuracy                           0.69       161\n",
      "   macro avg       0.80      0.65      0.63       161\n",
      "weighted avg       0.78      0.69      0.64       161\n",
      "\n"
     ]
    }
   ],
   "source": [
    "from sklearn.metrics import classification_report\n",
    "\n",
    "# Calculate precision, recall, F1-score, and support\n",
    "report = classification_report(test_labels, binary_predictions, target_names=['NORMAL', 'ADHD'])\n",
    "\n",
    "print(report)"
   ]
  },
  {
   "cell_type": "code",
   "execution_count": 17,
   "id": "a9ec94ee",
   "metadata": {
    "execution": {
     "iopub.execute_input": "2024-05-19T13:03:41.582982Z",
     "iopub.status.busy": "2024-05-19T13:03:41.582551Z",
     "iopub.status.idle": "2024-05-19T13:03:41.882415Z",
     "shell.execute_reply": "2024-05-19T13:03:41.881136Z"
    },
    "papermill": {
     "duration": 0.523311,
     "end_time": "2024-05-19T13:03:41.885028",
     "exception": false,
     "start_time": "2024-05-19T13:03:41.361717",
     "status": "completed"
    },
    "tags": []
   },
   "outputs": [
    {
     "data": {
      "image/png": "[encoded data removed]",
      "text/plain": [
       "<Figure size 640x480 with 1 Axes>"
      ]
     },
     "metadata": {},
     "output_type": "display_data"
    }
   ],
   "source": [
    "from sklearn.metrics import roc_curve, auc\n",
    "\n",
    "# Compute ROC curve and ROC area for each class\n",
    "fpr, tpr, _ = roc_curve(test_labels, binary_predictions)\n",
    "\n",
    "# Calculate area under the curve (AUC)\n",
    "roc_auc = auc(fpr, tpr)\n",
    "\n",
    "# Plot ROC curve\n",
    "plt.figure()\n",
    "plt.plot(fpr, tpr, color='darkorange', lw=2, label='ROC curve (area = %0.2f)' % roc_auc)\n",
    "plt.plot([0, 1], [0, 1], color='navy', lw=2, linestyle='--')\n",
    "plt.xlim([0.0, 1.0])\n",
    "plt.ylim([0.0, 1.05])\n",
    "plt.xlabel('False Positive Rate')\n",
    "plt.ylabel('True Positive Rate')\n",
    "plt.title('Receiver Operating Characteristic (ROC) Curve')\n",
    "plt.legend(loc=\"lower right\")\n",
    "plt.show()"
   ]
  }
 ],
 "metadata": {
  "kaggle": {
   "accelerator": "none",
   "dataSources": [
    {
     "datasetId": 4975788,
     "sourceId": 8369912,
     "sourceType": "datasetVersion"
    }
   ],
   "dockerImageVersionId": 30698,
   "isGpuEnabled": false,
   "isInternetEnabled": true,
   "language": "python",
   "sourceType": "notebook"
  },
  "kernelspec": {
   "display_name": "Python 3",
   "language": "python",
   "name": "python3"
  },
  "language_info": {
   "codemirror_mode": {
    "name": "ipython",
    "version": 3
   },
   "file_extension": ".py",
   "mimetype": "text/x-python",
   "name": "python",
   "nbconvert_exporter": "python",
   "pygments_lexer": "ipython3",
   "version": "3.10.13"
  },
  "papermill": {
   "default_parameters": {},
   "duration": 150.247672,
   "end_time": "2024-05-19T13:03:44.713436",
   "environment_variables": {},
   "exception": null,
   "input_path": "__notebook__.ipynb",
   "output_path": "__notebook__.ipynb",
   "parameters": {},
   "start_time": "2024-05-19T13:01:14.465764",
   "version": "2.5.0"
  }
 },
 "nbformat": 4,
 "nbformat_minor": 5
}

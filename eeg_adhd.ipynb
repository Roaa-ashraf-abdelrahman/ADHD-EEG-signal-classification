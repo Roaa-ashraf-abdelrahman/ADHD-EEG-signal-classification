{
  "cells": [
    {
      "cell_type": "code",
      "execution_count": null,
      "metadata": {
        "id": "AicV6WhRric-",
        "colab": {
          "base_uri": "https://localhost:8080/"
        },
        "outputId": "69416689-c563-4c03-b5bd-9e958ef57037"
      },
      "outputs": [
        {
          "output_type": "stream",
          "name": "stdout",
          "text": [
            "Collecting mne\n",
            "  Downloading mne-1.7.0-py3-none-any.whl (7.4 MB)\n",
            "\u001b[2K     \u001b[90m━━━━━━━━━━━━━━━━━━━━━━━━━━━━━━━━━━━━━━━━\u001b[0m \u001b[32m7.4/7.4 MB\u001b[0m \u001b[31m19.0 MB/s\u001b[0m eta \u001b[36m0:00:00\u001b[0m\n",
            "\u001b[?25hRequirement already satisfied: decorator in /usr/local/lib/python3.10/dist-packages (from mne) (4.4.2)\n",
            "Requirement already satisfied: jinja2 in /usr/local/lib/python3.10/dist-packages (from mne) (3.1.4)\n",
            "Requirement already satisfied: lazy-loader>=0.3 in /usr/local/lib/python3.10/dist-packages (from mne) (0.4)\n",
            "Requirement already satisfied: matplotlib>=3.5.0 in /usr/local/lib/python3.10/dist-packages (from mne) (3.7.1)\n",
            "Requirement already satisfied: numpy>=1.21.2 in /usr/local/lib/python3.10/dist-packages (from mne) (1.25.2)\n",
            "Requirement already satisfied: packaging in /usr/local/lib/python3.10/dist-packages (from mne) (24.0)\n",
            "Requirement already satisfied: pooch>=1.5 in /usr/local/lib/python3.10/dist-packages (from mne) (1.8.1)\n",
            "Requirement already satisfied: scipy>=1.7.1 in /usr/local/lib/python3.10/dist-packages (from mne) (1.11.4)\n",
            "Requirement already satisfied: tqdm in /usr/local/lib/python3.10/dist-packages (from mne) (4.66.4)\n",
            "Requirement already satisfied: contourpy>=1.0.1 in /usr/local/lib/python3.10/dist-packages (from matplotlib>=3.5.0->mne) (1.2.1)\n",
            "Requirement already satisfied: cycler>=0.10 in /usr/local/lib/python3.10/dist-packages (from matplotlib>=3.5.0->mne) (0.12.1)\n",
            "Requirement already satisfied: fonttools>=4.22.0 in /usr/local/lib/python3.10/dist-packages (from matplotlib>=3.5.0->mne) (4.51.0)\n",
            "Requirement already satisfied: kiwisolver>=1.0.1 in /usr/local/lib/python3.10/dist-packages (from matplotlib>=3.5.0->mne) (1.4.5)\n",
            "Requirement already satisfied: pillow>=6.2.0 in /usr/local/lib/python3.10/dist-packages (from matplotlib>=3.5.0->mne) (9.4.0)\n",
            "Requirement already satisfied: pyparsing>=2.3.1 in /usr/local/lib/python3.10/dist-packages (from matplotlib>=3.5.0->mne) (3.1.2)\n",
            "Requirement already satisfied: python-dateutil>=2.7 in /usr/local/lib/python3.10/dist-packages (from matplotlib>=3.5.0->mne) (2.8.2)\n",
            "Requirement already satisfied: platformdirs>=2.5.0 in /usr/local/lib/python3.10/dist-packages (from pooch>=1.5->mne) (4.2.1)\n",
            "Requirement already satisfied: requests>=2.19.0 in /usr/local/lib/python3.10/dist-packages (from pooch>=1.5->mne) (2.31.0)\n",
            "Requirement already satisfied: MarkupSafe>=2.0 in /usr/local/lib/python3.10/dist-packages (from jinja2->mne) (2.1.5)\n",
            "Requirement already satisfied: six>=1.5 in /usr/local/lib/python3.10/dist-packages (from python-dateutil>=2.7->matplotlib>=3.5.0->mne) (1.16.0)\n",
            "Requirement already satisfied: charset-normalizer<4,>=2 in /usr/local/lib/python3.10/dist-packages (from requests>=2.19.0->pooch>=1.5->mne) (3.3.2)\n",
            "Requirement already satisfied: idna<4,>=2.5 in /usr/local/lib/python3.10/dist-packages (from requests>=2.19.0->pooch>=1.5->mne) (3.7)\n",
            "Requirement already satisfied: urllib3<3,>=1.21.1 in /usr/local/lib/python3.10/dist-packages (from requests>=2.19.0->pooch>=1.5->mne) (2.0.7)\n",
            "Requirement already satisfied: certifi>=2017.4.17 in /usr/local/lib/python3.10/dist-packages (from requests>=2.19.0->pooch>=1.5->mne) (2024.2.2)\n",
            "Installing collected packages: mne\n",
            "Successfully installed mne-1.7.0\n"
          ]
        }
      ],
      "source": [
        "pip install mne"
      ]
    },
    {
      "cell_type": "code",
      "execution_count": null,
      "metadata": {
        "colab": {
          "base_uri": "https://localhost:8080/"
        },
        "id": "GSX7D_37rx9e",
        "outputId": "d1fd7af5-ac45-4940-ef34-1e2196843de2"
      },
      "outputs": [
        {
          "output_type": "stream",
          "name": "stdout",
          "text": [
            "Mounted at /content/drive\n"
          ]
        }
      ],
      "source": [
        "from google.colab import drive\n",
        "drive.mount('/content/drive')"
      ]
    },
    {
      "cell_type": "code",
      "execution_count": null,
      "metadata": {
        "id": "iDQ4PGkzm9RS"
      },
      "outputs": [],
      "source": [
        "import h5py\n",
        "import os\n",
        "import glob\n",
        "import mne\n",
        "import numpy as np\n",
        "import scipy.io as sio\n",
        "import pandas as pd\n",
        "import matplotlib.pyplot as plt\n",
        "from IPython.display import display"
      ]
    },
    {
      "cell_type": "code",
      "execution_count": null,
      "metadata": {
        "id": "-PqAxM6usahD"
      },
      "outputs": [],
      "source": [
        "# Specify the channel types\n",
        "ch_types = ['eeg'] * 19\n",
        "ch_names = ['EEG1', 'EEG2', 'EEG3', 'EEG4','EEG5','EEG6','EEG7','EEG8','EEG9','EEG10','EEG11','EEG12','EEG13','EEG14','EEG15','EEG16','EEG17','EEG18','EEG19']\n",
        "\n",
        "# Specify the output directory for .fif files\n",
        "output_directory_path = '/content/drive/MyDrive/eeg_signals/ADHD_fif'\n",
        "\n",
        "# Specify the directory containing your .mat EEG files\n",
        "directory_path1 = '/content/drive/MyDrive/eeg_signals/ADHD_part1'\n",
        "directory_path2 = '/content/drive/MyDrive/eeg_signals/ADHD_part2'\n",
        "\n",
        "# Get a list of all .mat files in the directory\n",
        "mat_files1 = glob.glob(os.path.join(directory_path1, '*.mat'))\n",
        "mat_files2 = glob.glob(os.path.join(directory_path2, '*.mat'))\n",
        "mat_files=mat_files1 + mat_files2\n",
        "\n",
        "# Loop through each file\n",
        "for mat_file in mat_files:\n",
        "    mat_contents = sio.loadmat(mat_file)\n",
        "    electrode_data = np.array(mat_contents[os.path.splitext(os.path.basename(mat_file))[0]])\n",
        "    data = [i for i in electrode_data.T]  # Transpose the data\n",
        "\n",
        "\n",
        "    # Create info and RawArray\n",
        "    raw_info = mne.create_info(ch_names=ch_names, sfreq=128, ch_types=ch_types)\n",
        "    raw = mne.io.RawArray(data, info=raw_info)\n",
        "\n",
        "    # Save the RawArray to a .fif file in the output directory\n",
        "    output_filename = os.path.splitext(os.path.basename(mat_file))[0] + '.fif'\n",
        "    output_filepath = os.path.join(output_directory_path, output_filename)\n",
        "    raw.save(output_filepath, overwrite=True)\n",
        "    print(f\"Saved {output_filepath}\")\n",
        "\n",
        "\n",
        "\n",
        "print(\"Processing complete!\")"
      ]
    },
    {
      "cell_type": "code",
      "execution_count": null,
      "metadata": {
        "id": "LROJrknN6aZk"
      },
      "outputs": [],
      "source": [
        "# Specify the output directory for .fif files\n",
        "output_directory_path = '/content/drive/MyDrive/eeg_signals/Control_fif'\n",
        "\n",
        "# Specify the directory containing your .mat EEG files\n",
        "directory_path1 = '/content/drive/MyDrive/eeg_signals/Control_part1'\n",
        "directory_path2 = '/content/drive/MyDrive/eeg_signals/Control_part2'\n",
        "\n",
        "# Get a list of all .mat files in the directory\n",
        "mat_files1 = glob.glob(os.path.join(directory_path1, '*.mat'))\n",
        "mat_files2 = glob.glob(os.path.join(directory_path2, '*.mat'))\n",
        "mat_files=mat_files1 + mat_files2\n",
        "\n",
        "# Loop through each file\n",
        "for mat_file in mat_files:\n",
        "    mat_contents = sio.loadmat(mat_file)\n",
        "    electrode_data = np.array(mat_contents[os.path.splitext(os.path.basename(mat_file))[0]])\n",
        "    data = [i for i in electrode_data.T]  # Transpose the data\n",
        "\n",
        "\n",
        "    # Create info and RawArray\n",
        "    raw_info = mne.create_info(ch_names=ch_names, sfreq=128, ch_types=ch_types)\n",
        "    raw = mne.io.RawArray(data, info=raw_info)\n",
        "\n",
        "    # Save the RawArray to a .fif file in the output directory\n",
        "    output_filename = os.path.splitext(os.path.basename(mat_file))[0] + '.fif'\n",
        "    output_filepath = os.path.join(output_directory_path, output_filename)\n",
        "    raw.save(output_filepath, overwrite=True)\n",
        "    print(f\"Saved {output_filepath}\")\n",
        "\n",
        "\n",
        "\n",
        "print(\"Processing complete!\")"
      ]
    },
    {
      "cell_type": "code",
      "execution_count": null,
      "metadata": {
        "id": "WF98LBy9N-we"
      },
      "outputs": [],
      "source": [
        "import os\n",
        "\n",
        "folder_path = '/content/drive/MyDrive/eeg_signals/ADHD_fif'\n",
        "for filename in os.listdir(folder_path):\n",
        "    if filename.endswith('.fif'):\n",
        "        # read .fif file\n",
        "        file_path = os.path.join(folder_path, filename)\n",
        "        raw = mne.io.read_raw_fif(file_path ,preload=True)\n",
        "\n",
        "        l_freq = 0.5  # Cutoff frequency in Hz (e.g., remove slow drifts below 1 Hz)\n",
        "        # Apply Cutoff frequency filter\n",
        "        filtered_data=raw.filter(l_freq=l_freq, h_freq=None, fir_design='firwin', phase='zero')  # None for no high-frequency cutoff\n",
        "\n",
        "        fnotch = 50  # Notch filter frequency (e.g., remove 50 Hz power line noise)\n",
        "        # Apply notch filter\n",
        "        filteredd_data = filtered_data.notch_filter(freqs=fnotch, picks=None, fir_design='firwin', phase='zero')\n",
        "\n",
        "        #applying zero padding on the file\n",
        "        n_zeros = 2\n",
        "        zero_padding = np.zeros(n_zeros)\n",
        "        data = filteredd_data.get_data()\n",
        "        # Create a new array to hold the padded data\n",
        "        padded_data = np.zeros((data.shape[0], data.shape[1] + 2 * n_zeros))\n",
        "\n",
        "        # Iterate over each channel and apply zero-padding\n",
        "        for ch_idx in range(data.shape[0]):\n",
        "            channel_data = data[ch_idx]\n",
        "            channel_padded = np.concatenate((zero_padding, channel_data, zero_padding))\n",
        "            padded_data[ch_idx] = channel_padded\n",
        "\n",
        "        # Create a new info object\n",
        "        info = raw.info\n",
        "\n",
        "        # Create a new RawArray object with the modified data\n",
        "        raw_padded = mne.io.RawArray(padded_data, info)\n",
        "\n",
        "        #applying moving avg filter\n",
        "        # Iterate over each channel\n",
        "        for i in range(len(raw_padded.ch_names)):\n",
        "            # Get the data for the current channel\n",
        "            data = raw_padded.get_data()[i]\n",
        "\n",
        "            # Calculate the rolling mean\n",
        "            moving_avg = pd.Series(data).rolling(window=5, min_periods=1).mean()\n",
        "\n",
        "            # Replace NaNs in the rolling mean with zeros\n",
        "            moving_avg = moving_avg.fillna(0)\n",
        "\n",
        "            # Update the data in the Raw object with the rolling mean\n",
        "            raw_padded._data[i] = moving_avg.values\n",
        "\n",
        "\n",
        "        # Apply spatial filtering using Common Average Reference (CAR)\n",
        "        raw_car = raw_padded.set_eeg_reference('average', projection=True)\n",
        "\n",
        "        # Apply the projection to actually re-reference the data\n",
        "        raw_car.apply_proj()\n",
        "\n",
        "\n",
        "        # Save the modified Raw object back to the same file\n",
        "        raw_car.save(file_path, overwrite=True)\n",
        "\n",
        "\n",
        "print(\"Processing complete!\")"
      ]
    },
    {
      "cell_type": "code",
      "source": [
        "\n",
        "folder_path = '/content/drive/MyDrive/eeg_signals/Control_fif'\n",
        "\n",
        "for filename in os.listdir(folder_path):\n",
        "    if filename.endswith('.fif'):\n",
        "        # read .fif file\n",
        "        file_path = os.path.join(folder_path, filename)\n",
        "        raw = mne.io.read_raw_fif(file_path ,preload=True)\n",
        "\n",
        "        l_freq = 0.5  # Cutoff frequency in Hz (e.g., remove slow drifts below 1 Hz)\n",
        "        # Apply Cutoff frequency filter\n",
        "        filtered_data=raw.filter(l_freq=l_freq, h_freq=None, fir_design='firwin', phase='zero')  # None for no high-frequency cutoff\n",
        "\n",
        "        fnotch = 50  # Notch filter frequency (e.g., remove 50 Hz power line noise)\n",
        "        # Apply notch filter\n",
        "        filteredd_data = filtered_data.notch_filter(freqs=fnotch, picks=None, fir_design='firwin', phase='zero')\n",
        "\n",
        "        #applying zero padding on the file\n",
        "        n_zeros = 2\n",
        "        zero_padding = np.zeros(n_zeros)\n",
        "        data = filteredd_data.get_data()\n",
        "        # Create a new array to hold the padded data\n",
        "        padded_data = np.zeros((data.shape[0], data.shape[1] + 2 * n_zeros))\n",
        "\n",
        "        # Iterate over each channel and apply zero-padding\n",
        "        for ch_idx in range(data.shape[0]):\n",
        "            channel_data = data[ch_idx]\n",
        "            channel_padded = np.concatenate((zero_padding, channel_data, zero_padding))\n",
        "            padded_data[ch_idx] = channel_padded\n",
        "\n",
        "        # Create a new info object\n",
        "        info = raw.info\n",
        "\n",
        "        # Create a new RawArray object with the modified data\n",
        "        raw_padded = mne.io.RawArray(padded_data, info)\n",
        "\n",
        "        #applying moving avg filter\n",
        "        # Iterate over each channel\n",
        "        for i in range(len(raw_padded.ch_names)):\n",
        "            # Get the data for the current channel\n",
        "            data = raw_padded.get_data()[i]\n",
        "\n",
        "            # Calculate the rolling mean\n",
        "            moving_avg = pd.Series(data).rolling(window=5, min_periods=1).mean()\n",
        "\n",
        "            # Replace NaNs in the rolling mean with zeros\n",
        "            moving_avg = moving_avg.fillna(0)\n",
        "\n",
        "            # Update the data in the Raw object with the rolling mean\n",
        "            raw_padded._data[i] = moving_avg.values\n",
        "\n",
        "\n",
        "        # Apply spatial filtering using Common Average Reference (CAR)\n",
        "        raw_car = raw_padded.set_eeg_reference('average', projection=True)\n",
        "\n",
        "        # Apply the projection to actually re-reference the data\n",
        "        raw_car.apply_proj()\n",
        "\n",
        "\n",
        "        # Save the modified Raw object back to the same file\n",
        "        raw_car.save(file_path, overwrite=True)\n",
        "print(\"Processing complete!\")"
      ],
      "metadata": {
        "id": "zBwi15FxHMxs"
      },
      "execution_count": null,
      "outputs": []
    }
  ],
  "metadata": {
    "colab": {
      "provenance": []
    },
    "kernelspec": {
      "display_name": "Python 3",
      "name": "python3"
    },
    "language_info": {
      "name": "python"
    }
  },
  "nbformat": 4,
  "nbformat_minor": 0
}